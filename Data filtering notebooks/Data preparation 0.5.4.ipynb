{
 "cells": [
  {
   "cell_type": "markdown",
   "id": "a770019c",
   "metadata": {},
   "source": [
    "# Train data preparation"
   ]
  },
  {
   "cell_type": "code",
   "execution_count": 214,
   "id": "194fedcc",
   "metadata": {},
   "outputs": [
    {
     "name": "stdout",
     "output_type": "stream",
     "text": [
      "Pandas 1.3.4\n",
      "Numpy 1.20.3\n"
     ]
    }
   ],
   "source": [
    "# Libraries\n",
    "import pandas as pd\n",
    "import numpy as np\n",
    "import xml.etree.ElementTree as ET\n",
    "\n",
    "print('Pandas {}'.format(pd.__version__))\n",
    "print('Numpy {}'.format(np.__version__))"
   ]
  },
  {
   "cell_type": "code",
   "execution_count": 122,
   "id": "1c1b006c",
   "metadata": {},
   "outputs": [],
   "source": [
    "# We get the data from link\n",
    "df = pd.read_csv('https://trein.fwrite.org/AMS-Aurora-archive/2016-01/DVS_2016-01-01.csv.xz')\n",
    "df.columns = [\"date\", \"data\", \"code\"]"
   ]
  },
  {
   "cell_type": "code",
   "execution_count": 196,
   "id": "d8c68c04",
   "metadata": {},
   "outputs": [],
   "source": [
    "# This function iterates through each row (day) in the given dataset\n",
    "# The dataset, which in this case is one whole day is parsed as a parameter to the function\n",
    "# Two lists, ritstations and trains are created at the beginning. Then in the loop, ritstation and train objects are created and added to these lists.\n",
    "# Later on, the lists are combined and used in dataframe for visualization.\n",
    "rows = []\n",
    "\n",
    "def GetTrainDayData(smalldf):\n",
    "    # The xml data\n",
    "    xml_data = smalldf[\"data\"]\n",
    "    \n",
    "    # It goes through every row in the data (1 day)\n",
    "    for i,train_data in enumerate(xml_data):\n",
    "        root = ET.fromstring(train_data)\n",
    "\n",
    "        # Check if there is always root\n",
    "        if len(root) != 0:\n",
    "            \n",
    "            # This is the prefix for each element\n",
    "            prefix = './/{urn:ndov:cdm:trein:reisinformatie:data:2}'\n",
    "            # The data wrapper\n",
    "            productDVS = root.find('{}ReisInformatieProductDVS'.format(prefix))\n",
    "            # Getting the version of the data for the day (just shows how to get attributes)\n",
    "            data_version = productDVS.attrib['Versie']\n",
    "\n",
    "            # the wrapper that contain the ritstation and the train\n",
    "            wrapper = root.find('{}DynamischeVertrekStaat'.format(prefix))\n",
    "            \n",
    "            # All data needed is extracted and put in variables here\n",
    "            station_code = wrapper.find('{}StationCode'.format(prefix)).text\n",
    "            station_name = wrapper.find('{}LangeNaam'.format(prefix)).text\n",
    "            train_number = wrapper.find('{}TreinNummer'.format(prefix)).text\n",
    "            train_type = wrapper.find('{}TreinSoort'.format(prefix)).text\n",
    "            train_company = wrapper.find('{}Vervoerder'.format(prefix)).text\n",
    "            train_destination = wrapper.find('{}TreinEindBestemming[@InfoStatus=\"Actueel\"]'.format(prefix)).find('{}LangeNaam'.format(prefix)).text\n",
    "            train_planned_departure = wrapper.find('{}VertrekTijd[@InfoStatus=\"Actueel\"]'.format(prefix)).text\n",
    "            train_delays = wrapper.find('{}ExacteVertrekVertraging'.format(prefix)).text\n",
    "            \n",
    "            rows.append({\"Station Code\":station_code,\"Station Name\":station_name,\"Train Number\":train_number,\"Train Type\":train_type,\"Train Company\":train_company,\"Train Destination\":train_destination,\"Train Planned Departure\":train_planned_departure,\"Train Delay\": train_delays})\n"
   ]
  },
  {
   "cell_type": "code",
   "execution_count": 202,
   "id": "388d28a0-51c2-461c-9f6c-3bb5eb1196ae",
   "metadata": {},
   "outputs": [],
   "source": [
    "smalldf = df.head(50000)\n",
    "\n",
    "# make loop to parse few days\n",
    "GetTrainDayData(smalldf)"
   ]
  },
  {
   "cell_type": "code",
   "execution_count": 203,
   "id": "f8092453-3e1a-4d97-b909-7d63e956d02b",
   "metadata": {},
   "outputs": [
    {
     "data": {
      "text/html": [
       "<div>\n",
       "<style scoped>\n",
       "    .dataframe tbody tr th:only-of-type {\n",
       "        vertical-align: middle;\n",
       "    }\n",
       "\n",
       "    .dataframe tbody tr th {\n",
       "        vertical-align: top;\n",
       "    }\n",
       "\n",
       "    .dataframe thead th {\n",
       "        text-align: right;\n",
       "    }\n",
       "</style>\n",
       "<table border=\"1\" class=\"dataframe\">\n",
       "  <thead>\n",
       "    <tr style=\"text-align: right;\">\n",
       "      <th></th>\n",
       "      <th>Station Code</th>\n",
       "      <th>Station Name</th>\n",
       "      <th>Train Number</th>\n",
       "      <th>Train Type</th>\n",
       "      <th>Train Company</th>\n",
       "      <th>Train Destination</th>\n",
       "      <th>Train Planned Departure</th>\n",
       "      <th>Train Delay</th>\n",
       "    </tr>\n",
       "  </thead>\n",
       "  <tbody>\n",
       "    <tr>\n",
       "      <th>0</th>\n",
       "      <td>HLMS</td>\n",
       "      <td>Haarlem Spaarnwoude</td>\n",
       "      <td>14882</td>\n",
       "      <td>Sprinter</td>\n",
       "      <td>NS</td>\n",
       "      <td>Haarlem Spaarnwoude</td>\n",
       "      <td>2016-01-01T00:10:00Z</td>\n",
       "      <td>PT0S</td>\n",
       "    </tr>\n",
       "    <tr>\n",
       "      <th>1</th>\n",
       "      <td>NSCH</td>\n",
       "      <td>Bad Nieuweschans</td>\n",
       "      <td>37598</td>\n",
       "      <td>Stoptrein</td>\n",
       "      <td>Arriva</td>\n",
       "      <td>Bad Nieuweschans</td>\n",
       "      <td>2016-01-01T00:10:00Z</td>\n",
       "      <td>PT0S</td>\n",
       "    </tr>\n",
       "    <tr>\n",
       "      <th>2</th>\n",
       "      <td>DVD</td>\n",
       "      <td>Duivendrecht</td>\n",
       "      <td>7495</td>\n",
       "      <td>Sprinter</td>\n",
       "      <td>NS</td>\n",
       "      <td>Duivendrecht</td>\n",
       "      <td>2016-01-01T00:11:00Z</td>\n",
       "      <td>PT0S</td>\n",
       "    </tr>\n",
       "    <tr>\n",
       "      <th>3</th>\n",
       "      <td>DDRS</td>\n",
       "      <td>Dordrecht Stadspolders</td>\n",
       "      <td>36795</td>\n",
       "      <td>Stoptrein</td>\n",
       "      <td>Arriva</td>\n",
       "      <td>Dordrecht Stadspolders</td>\n",
       "      <td>2016-01-01T00:11:00Z</td>\n",
       "      <td>PT0S</td>\n",
       "    </tr>\n",
       "    <tr>\n",
       "      <th>4</th>\n",
       "      <td>EMNZ</td>\n",
       "      <td>Emmen Zuid</td>\n",
       "      <td>8083</td>\n",
       "      <td>Stoptrein</td>\n",
       "      <td>Arriva</td>\n",
       "      <td>Emmen Zuid</td>\n",
       "      <td>2016-01-01T00:11:00Z</td>\n",
       "      <td>PT0S</td>\n",
       "    </tr>\n",
       "  </tbody>\n",
       "</table>\n",
       "</div>"
      ],
      "text/plain": [
       "  Station Code            Station Name Train Number Train Type Train Company  \\\n",
       "0         HLMS     Haarlem Spaarnwoude        14882   Sprinter            NS   \n",
       "1         NSCH        Bad Nieuweschans        37598  Stoptrein        Arriva   \n",
       "2          DVD            Duivendrecht         7495   Sprinter            NS   \n",
       "3         DDRS  Dordrecht Stadspolders        36795  Stoptrein        Arriva   \n",
       "4         EMNZ              Emmen Zuid         8083  Stoptrein        Arriva   \n",
       "\n",
       "        Train Destination Train Planned Departure Train Delay  \n",
       "0     Haarlem Spaarnwoude    2016-01-01T00:10:00Z        PT0S  \n",
       "1        Bad Nieuweschans    2016-01-01T00:10:00Z        PT0S  \n",
       "2            Duivendrecht    2016-01-01T00:11:00Z        PT0S  \n",
       "3  Dordrecht Stadspolders    2016-01-01T00:11:00Z        PT0S  \n",
       "4              Emmen Zuid    2016-01-01T00:11:00Z        PT0S  "
      ]
     },
     "execution_count": 203,
     "metadata": {},
     "output_type": "execute_result"
    }
   ],
   "source": [
    "data = pd.DataFrame(rows,columns=[\"Station Code\",\"Station Name\",\"Train Number\",\"Train Type\", \"Train Company\", \"Train Destination\", \"Train Planned Departure\",\"Train Delay\"])\n",
    "data.head(5)"
   ]
  },
  {
   "cell_type": "code",
   "execution_count": 209,
   "id": "27ed029f-4745-46f1-bb37-a99309370e96",
   "metadata": {},
   "outputs": [
    {
     "data": {
      "text/plain": [
       "Sprinter             28031\n",
       "Intercity            15360\n",
       "Stoptrein             9624\n",
       "Intercity direct       388\n",
       "Sneltrein              342\n",
       "Thalys                  75\n",
       "ICE International       30\n",
       "CityNightLine/IC        17\n",
       "Speciale Trein          11\n",
       "Name: Train Type, dtype: int64"
      ]
     },
     "execution_count": 209,
     "metadata": {},
     "output_type": "execute_result"
    }
   ],
   "source": [
    "companies = data['Train Type'].value_counts()\n",
    "companies"
   ]
  },
  {
   "cell_type": "code",
   "execution_count": 210,
   "id": "8a319286-bc3c-4727-984f-f97737649012",
   "metadata": {},
   "outputs": [
    {
     "data": {
      "text/plain": [
       "Paris-Nord            49\n",
       "Amsterdam Centraal    26\n",
       "Name: Train Destination, dtype: int64"
      ]
     },
     "execution_count": 210,
     "metadata": {},
     "output_type": "execute_result"
    }
   ],
   "source": [
    "thalys = data[data['Train Type'] == \"Thalys\"]\n",
    "thalys['Train Destination'].value_counts()"
   ]
  }
 ],
 "metadata": {
  "kernelspec": {
   "display_name": "Python 3 (ipykernel)",
   "language": "python",
   "name": "python3"
  },
  "language_info": {
   "codemirror_mode": {
    "name": "ipython",
    "version": 3
   },
   "file_extension": ".py",
   "mimetype": "text/x-python",
   "name": "python",
   "nbconvert_exporter": "python",
   "pygments_lexer": "ipython3",
   "version": "3.9.7"
  }
 },
 "nbformat": 4,
 "nbformat_minor": 5
}
