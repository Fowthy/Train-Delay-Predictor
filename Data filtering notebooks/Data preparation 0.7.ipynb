{
 "cells": [
  {
   "cell_type": "markdown",
   "id": "a770019c",
   "metadata": {},
   "source": [
    "# Train data preparation"
   ]
  },
  {
   "cell_type": "code",
   "execution_count": 214,
   "id": "194fedcc",
   "metadata": {},
   "outputs": [
    {
     "name": "stdout",
     "output_type": "stream",
     "text": [
      "Pandas 1.3.4\n",
      "Numpy 1.20.3\n"
     ]
    }
   ],
   "source": [
    "# Libraries\n",
    "import pandas as pd\n",
    "import numpy as np\n",
    "import xml.etree.ElementTree as ET\n",
    "\n",
    "print('Pandas {}'.format(pd.__version__))\n",
    "print('Numpy {}'.format(np.__version__))"
   ]
  },
  {
   "cell_type": "code",
   "execution_count": 122,
   "id": "1c1b006c",
   "metadata": {},
   "outputs": [],
   "source": [
    "# We get the data from link\n",
    "df = pd.read_csv('https://trein.fwrite.org/AMS-Aurora-archive/2016-01/DVS_2016-01-01.csv.xz')\n",
    "df.columns = [\"date\", \"data\", \"code\"]"
   ]
  },
  {
   "cell_type": "code",
   "execution_count": 227,
   "id": "d8c68c04",
   "metadata": {},
   "outputs": [],
   "source": [
    "# This function iterates through each row (day) in the given dataset\n",
    "# The dataset, which in this case is one whole day is parsed as a parameter to the function\n",
    "# Two lists, ritstations and trains are created at the beginning. Then in the loop, ritstation and train objects are created and added to these lists.\n",
    "# Later on, the lists are combined and used in dataframe for visualization.\n",
    "\n",
    "def GetTrainDayData(smalldf):\n",
    "    # The xml data\n",
    "    xml_data = smalldf[\"data\"]\n",
    "    \n",
    "    # It goes through every row in the data (1 day)\n",
    "    for i,train_data in enumerate(xml_data):\n",
    "        root = ET.fromstring(train_data)\n",
    "\n",
    "        # Check if there is always root\n",
    "        if len(root) != 0:\n",
    "            \n",
    "            # This is the prefix for each element\n",
    "            prefix = './/{urn:ndov:cdm:trein:reisinformatie:data:2}'\n",
    "            # The data wrapper\n",
    "            productDVS = root.find('{}ReisInformatieProductDVS'.format(prefix))\n",
    "            # Getting the version of the data for the day (just shows how to get attributes)\n",
    "            data_version = productDVS.attrib['Versie']\n",
    "\n",
    "            # the wrapper that contain the ritstation and the train\n",
    "            wrapper = root.find('{}DynamischeVertrekStaat'.format(prefix))\n",
    "            \n",
    "            # All data needed is extracted and put in variables here\n",
    "            station_code = wrapper.find('{}StationCode'.format(prefix)).text\n",
    "            station_name = wrapper.find('{}LangeNaam'.format(prefix)).text\n",
    "            train_number = wrapper.find('{}TreinNummer'.format(prefix)).text\n",
    "            train_type = wrapper.find('{}TreinSoort'.format(prefix)).text\n",
    "            train_company = wrapper.find('{}Vervoerder'.format(prefix)).text\n",
    "            train_destination = wrapper.find('{}TreinEindBestemming[@InfoStatus=\"Actueel\"]'.format(prefix)).find('{}LangeNaam'.format(prefix)).text\n",
    "            train_planned_departure = wrapper.find('{}VertrekTijd[@InfoStatus=\"Actueel\"]'.format(prefix)).text\n",
    "            train_delays = wrapper.find('{}ExacteVertrekVertraging'.format(prefix)).text\n",
    "            \n",
    "            rows.append({\"Station Code\":station_code,\"Station Name\":station_name,\"Train Number\":train_number,\"Train Type\":train_type,\"Train Company\":train_company,\"Train Destination\":train_destination,\"Train Planned Departure\":train_planned_departure,\"Train Delay\": train_delays})"
   ]
  },
  {
   "cell_type": "code",
   "execution_count": 234,
   "id": "980e7b0f-d7c2-421b-b8bc-5f797bf6f25d",
   "metadata": {
    "tags": []
   },
   "outputs": [
    {
     "name": "stdout",
     "output_type": "stream",
     "text": [
      "1262482\n"
     ]
    }
   ],
   "source": [
    "from datetime import date, timedelta\n",
    "\n",
    "rows = []\n",
    "start_date = date(2016, 1, 8)\n",
    "end_date = date(2016, 1, 14)\n",
    "delta = timedelta(days=1)\n",
    "\n",
    "while start_date <= end_date:\n",
    "    df = pd.read_csv('https://trein.fwrite.org/AMS-Aurora-archive/2016-01/DVS_{}.csv.xz'.format(start_date.strftime(\"%Y-%m-%d\")))\n",
    "    df.columns = [\"date\", \"data\", \"code\"]\n",
    "    GetTrainDayData(df)\n",
    "    start_date += delta\n",
    "    \n",
    "print(len(rows))\n",
    "\n",
    "data = pd.DataFrame(rows,columns=[\"Station Code\",\"Station Name\",\"Train Number\",\"Train Type\", \"Train Company\", \"Train Destination\", \"Train Planned Departure\",\"Train Delay\"])\n",
    "data.to_csv('../Datasets/test.csv')"
   ]
  },
  {
   "cell_type": "code",
   "execution_count": null,
   "id": "10d96f4a-ab99-4b71-8339-d645d5407853",
   "metadata": {},
   "outputs": [],
   "source": [
    "data.head(10)"
   ]
  },
  {
   "cell_type": "code",
   "execution_count": 223,
   "id": "8a319286-bc3c-4727-984f-f97737649012",
   "metadata": {},
   "outputs": [
    {
     "data": {
      "text/plain": [
       "Paris-Nord            159\n",
       "Amsterdam Centraal    130\n",
       "Lille Europe           11\n",
       "Name: Train Destination, dtype: int64"
      ]
     },
     "execution_count": 223,
     "metadata": {},
     "output_type": "execute_result"
    }
   ],
   "source": [
    "thalys = data[data['Train Type'] == \"Thalys\"]\n",
    "thalys['Train Destination'].value_counts()"
   ]
  },
  {
   "cell_type": "code",
   "execution_count": 222,
   "id": "27ed029f-4745-46f1-bb37-a99309370e96",
   "metadata": {},
   "outputs": [
    {
     "data": {
      "text/plain": [
       "Sprinter             67409\n",
       "Intercity            37771\n",
       "Stoptrein            23737\n",
       "Intercity direct      1096\n",
       "Sneltrein              983\n",
       "Thalys                 300\n",
       "ICE International       95\n",
       "CityNightLine/IC        31\n",
       "Austria Express         19\n",
       "Speciale Trein          16\n",
       "Name: Train Type, dtype: int64"
      ]
     },
     "execution_count": 222,
     "metadata": {},
     "output_type": "execute_result"
    }
   ],
   "source": [
    "companies = data['Train Type'].value_counts()\n",
    "companies"
   ]
  }
 ],
 "metadata": {
  "kernelspec": {
   "display_name": "Python 3 (ipykernel)",
   "language": "python",
   "name": "python3"
  },
  "language_info": {
   "codemirror_mode": {
    "name": "ipython",
    "version": 3
   },
   "file_extension": ".py",
   "mimetype": "text/x-python",
   "name": "python",
   "nbconvert_exporter": "python",
   "pygments_lexer": "ipython3",
   "version": "3.9.7"
  }
 },
 "nbformat": 4,
 "nbformat_minor": 5
}
