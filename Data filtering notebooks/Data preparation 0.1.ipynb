{
 "cells": [
  {
   "cell_type": "code",
   "execution_count": 2,
   "id": "194fedcc",
   "metadata": {},
   "outputs": [],
   "source": [
    "import pandas as pd"
   ]
  },
  {
   "cell_type": "code",
   "execution_count": 3,
   "id": "1c1b006c",
   "metadata": {},
   "outputs": [
    {
     "data": {
      "text/html": [
       "<div>\n",
       "<style scoped>\n",
       "    .dataframe tbody tr th:only-of-type {\n",
       "        vertical-align: middle;\n",
       "    }\n",
       "\n",
       "    .dataframe tbody tr th {\n",
       "        vertical-align: top;\n",
       "    }\n",
       "\n",
       "    .dataframe thead th {\n",
       "        text-align: right;\n",
       "    }\n",
       "</style>\n",
       "<table border=\"1\" class=\"dataframe\">\n",
       "  <thead>\n",
       "    <tr style=\"text-align: right;\">\n",
       "      <th></th>\n",
       "      <th>date</th>\n",
       "      <th>data</th>\n",
       "      <th>code</th>\n",
       "    </tr>\n",
       "  </thead>\n",
       "  <tbody>\n",
       "    <tr>\n",
       "      <th>0</th>\n",
       "      <td>2016-01-01 00:00:02.468279+01:00</td>\n",
       "      <td>&lt;?xml version=\"1.0\" encoding=\"UTF-8\"?&gt;&lt;ns0:Put...</td>\n",
       "      <td>39773f02-b012-11e5-95fe-06550c001849</td>\n",
       "    </tr>\n",
       "    <tr>\n",
       "      <th>1</th>\n",
       "      <td>2016-01-01 00:00:02.482452+01:00</td>\n",
       "      <td>&lt;?xml version=\"1.0\" encoding=\"UTF-8\"?&gt;&lt;ns0:Put...</td>\n",
       "      <td>397968d6-b012-11e5-95fe-06550c001849</td>\n",
       "    </tr>\n",
       "    <tr>\n",
       "      <th>2</th>\n",
       "      <td>2016-01-01 00:00:09.109505+01:00</td>\n",
       "      <td>&lt;?xml version=\"1.0\" encoding=\"UTF-8\"?&gt;&lt;ns0:Put...</td>\n",
       "      <td>3d6c9dfa-b012-11e5-95fe-06550c001849</td>\n",
       "    </tr>\n",
       "    <tr>\n",
       "      <th>3</th>\n",
       "      <td>2016-01-01 00:01:02.544865+01:00</td>\n",
       "      <td>&lt;?xml version=\"1.0\" encoding=\"UTF-8\"?&gt;&lt;ns0:Put...</td>\n",
       "      <td>5d463582-b012-11e5-95fe-06550c001849</td>\n",
       "    </tr>\n",
       "    <tr>\n",
       "      <th>4</th>\n",
       "      <td>2016-01-01 00:01:02.558574+01:00</td>\n",
       "      <td>&lt;?xml version=\"1.0\" encoding=\"UTF-8\"?&gt;&lt;ns0:Put...</td>\n",
       "      <td>5d484d18-b012-11e5-95fe-06550c001849</td>\n",
       "    </tr>\n",
       "    <tr>\n",
       "      <th>...</th>\n",
       "      <td>...</td>\n",
       "      <td>...</td>\n",
       "      <td>...</td>\n",
       "    </tr>\n",
       "    <tr>\n",
       "      <th>127574</th>\n",
       "      <td>2016-01-01 23:59:56.283410+01:00</td>\n",
       "      <td>&lt;?xml version=\"1.0\" encoding=\"UTF-8\"?&gt;&lt;ns0:Put...</td>\n",
       "      <td>60314380-b0db-11e5-95fe-06550c001849</td>\n",
       "    </tr>\n",
       "    <tr>\n",
       "      <th>127575</th>\n",
       "      <td>2016-01-01 23:59:56.298587+01:00</td>\n",
       "      <td>&lt;?xml version=\"1.0\" encoding=\"UTF-8\"?&gt;&lt;ns0:Put...</td>\n",
       "      <td>603392de-b0db-11e5-95fe-06550c001849</td>\n",
       "    </tr>\n",
       "    <tr>\n",
       "      <th>127576</th>\n",
       "      <td>2016-01-01 23:59:56.338011+01:00</td>\n",
       "      <td>&lt;?xml version=\"1.0\" encoding=\"UTF-8\"?&gt;&lt;ns0:Put...</td>\n",
       "      <td>603996fc-b0db-11e5-95fe-06550c001849</td>\n",
       "    </tr>\n",
       "    <tr>\n",
       "      <th>127577</th>\n",
       "      <td>2016-01-01 23:59:58.342705+01:00</td>\n",
       "      <td>&lt;?xml version=\"1.0\" encoding=\"UTF-8\"?&gt;&lt;ns0:Put...</td>\n",
       "      <td>616b7de2-b0db-11e5-95fe-06550c001849</td>\n",
       "    </tr>\n",
       "    <tr>\n",
       "      <th>127578</th>\n",
       "      <td>2016-01-01 23:59:58.395468+01:00</td>\n",
       "      <td>&lt;?xml version=\"1.0\" encoding=\"UTF-8\"?&gt;&lt;ns0:Put...</td>\n",
       "      <td>61738a78-b0db-11e5-95fe-06550c001849</td>\n",
       "    </tr>\n",
       "  </tbody>\n",
       "</table>\n",
       "<p>127579 rows × 3 columns</p>\n",
       "</div>"
      ],
      "text/plain": [
       "                                    date  \\\n",
       "0       2016-01-01 00:00:02.468279+01:00   \n",
       "1       2016-01-01 00:00:02.482452+01:00   \n",
       "2       2016-01-01 00:00:09.109505+01:00   \n",
       "3       2016-01-01 00:01:02.544865+01:00   \n",
       "4       2016-01-01 00:01:02.558574+01:00   \n",
       "...                                  ...   \n",
       "127574  2016-01-01 23:59:56.283410+01:00   \n",
       "127575  2016-01-01 23:59:56.298587+01:00   \n",
       "127576  2016-01-01 23:59:56.338011+01:00   \n",
       "127577  2016-01-01 23:59:58.342705+01:00   \n",
       "127578  2016-01-01 23:59:58.395468+01:00   \n",
       "\n",
       "                                                     data  \\\n",
       "0       <?xml version=\"1.0\" encoding=\"UTF-8\"?><ns0:Put...   \n",
       "1       <?xml version=\"1.0\" encoding=\"UTF-8\"?><ns0:Put...   \n",
       "2       <?xml version=\"1.0\" encoding=\"UTF-8\"?><ns0:Put...   \n",
       "3       <?xml version=\"1.0\" encoding=\"UTF-8\"?><ns0:Put...   \n",
       "4       <?xml version=\"1.0\" encoding=\"UTF-8\"?><ns0:Put...   \n",
       "...                                                   ...   \n",
       "127574  <?xml version=\"1.0\" encoding=\"UTF-8\"?><ns0:Put...   \n",
       "127575  <?xml version=\"1.0\" encoding=\"UTF-8\"?><ns0:Put...   \n",
       "127576  <?xml version=\"1.0\" encoding=\"UTF-8\"?><ns0:Put...   \n",
       "127577  <?xml version=\"1.0\" encoding=\"UTF-8\"?><ns0:Put...   \n",
       "127578  <?xml version=\"1.0\" encoding=\"UTF-8\"?><ns0:Put...   \n",
       "\n",
       "                                        code  \n",
       "0       39773f02-b012-11e5-95fe-06550c001849  \n",
       "1       397968d6-b012-11e5-95fe-06550c001849  \n",
       "2       3d6c9dfa-b012-11e5-95fe-06550c001849  \n",
       "3       5d463582-b012-11e5-95fe-06550c001849  \n",
       "4       5d484d18-b012-11e5-95fe-06550c001849  \n",
       "...                                      ...  \n",
       "127574  60314380-b0db-11e5-95fe-06550c001849  \n",
       "127575  603392de-b0db-11e5-95fe-06550c001849  \n",
       "127576  603996fc-b0db-11e5-95fe-06550c001849  \n",
       "127577  616b7de2-b0db-11e5-95fe-06550c001849  \n",
       "127578  61738a78-b0db-11e5-95fe-06550c001849  \n",
       "\n",
       "[127579 rows x 3 columns]"
      ]
     },
     "execution_count": 3,
     "metadata": {},
     "output_type": "execute_result"
    }
   ],
   "source": [
    "df = pd.read_csv('DVS_2016-01-01.csv')\n",
    "df.columns = [\"date\", \"data\", \"code\"]\n",
    "df"
   ]
  },
  {
   "cell_type": "code",
   "execution_count": 4,
   "id": "faf8d8ce",
   "metadata": {},
   "outputs": [
    {
     "name": "stdout",
     "output_type": "stream",
     "text": [
      "<?xml version=\"1.0\" encoding=\"UTF-8\"?><ns0:PutReisInformatieBoodschapIn xmlns:ns0=\"urn:ndov:cdm:trein:reisinformatie:messages:3\"><ns1:ReisInformatieProductDVS xmlns:ns1=\"urn:ndov:cdm:trein:reisinformatie:data:2\" Versie=\"6.2\" TimeStamp=\"2015-12-31T23:00:01.682Z\"><ns1:RIPAdministratie><ns1:ReisInformatieProductID>1601010000012300006</ns1:ReisInformatieProductID><ns1:AbonnementId>54</ns1:AbonnementId><ns1:ReisInformatieTijdstip>2016-01-01T00:10:00Z</ns1:ReisInformatieTijdstip></ns1:RIPAdministratie><ns1:DynamischeVertrekStaat><ns1:RitId>37598</ns1:RitId><ns1:RitDatum>2015-12-31</ns1:RitDatum><ns1:RitStation><ns1:StationCode>NSCH</ns1:StationCode><ns1:Type>1</ns1:Type><ns1:KorteNaam>Nweschans</ns1:KorteNaam><ns1:MiddelNaam>Bad Nieuweschans</ns1:MiddelNaam><ns1:LangeNaam>Bad Nieuweschans</ns1:LangeNaam><ns1:UICCode>8400457</ns1:UICCode></ns1:RitStation><ns1:Trein><ns1:TreinNummer>37598</ns1:TreinNummer><ns1:TreinSoort Code=\"ST\">Stoptrein</ns1:TreinSoort><ns1:TreinFormule>1</ns1:TreinFormule><ns1:TreinStatus>0</ns1:TreinStatus><ns1:Vervoerder>Arriva</ns1:Vervoerder><ns1:Reserveren>N</ns1:Reserveren><ns1:Toeslag>N</ns1:Toeslag><ns1:NietInstappen>N</ns1:NietInstappen><ns1:AchterBlijvenAchtersteTreinDeel>N</ns1:AchterBlijvenAchtersteTreinDeel><ns1:RangeerBeweging>N</ns1:RangeerBeweging><ns1:SpeciaalKaartje>N</ns1:SpeciaalKaartje><ns1:TreinEindBestemming InfoStatus=\"Gepland\"><ns1:StationCode>GN</ns1:StationCode><ns1:Type>5</ns1:Type><ns1:KorteNaam>Groningen</ns1:KorteNaam><ns1:MiddelNaam>Groningen</ns1:MiddelNaam><ns1:LangeNaam>Groningen</ns1:LangeNaam><ns1:UICCode>8400263</ns1:UICCode></ns1:TreinEindBestemming><ns1:TreinEindBestemming InfoStatus=\"Actueel\"><ns1:StationCode>NSCH</ns1:StationCode><ns1:Type>1</ns1:Type><ns1:KorteNaam>Nweschans</ns1:KorteNaam><ns1:MiddelNaam>Bad Nieuweschans</ns1:MiddelNaam><ns1:LangeNaam>Bad Nieuweschans</ns1:LangeNaam><ns1:UICCode>8400457</ns1:UICCode></ns1:TreinEindBestemming><ns1:VertrekTijd InfoStatus=\"Gepland\">2016-01-01T00:10:00Z</ns1:VertrekTijd><ns1:VertrekTijd InfoStatus=\"Actueel\">2016-01-01T00:10:00Z</ns1:VertrekTijd><ns1:ExacteVertrekVertraging>PT0S</ns1:ExacteVertrekVertraging><ns1:GedempteVertrekVertraging>PT0S</ns1:GedempteVertrekVertraging><ns1:TreinVertrekSpoor InfoStatus=\"Gepland\"><ns1:SpoorNummer>1</ns1:SpoorNummer></ns1:TreinVertrekSpoor><ns1:TreinVertrekSpoor InfoStatus=\"Actueel\"><ns1:SpoorNummer>1</ns1:SpoorNummer></ns1:TreinVertrekSpoor><ns1:VertrekRichting>A</ns1:VertrekRichting><ns1:AfstandPerronEindKopVertrekTrein>0</ns1:AfstandPerronEindKopVertrekTrein><ns1:VerkorteRoute InfoStatus=\"Gepland\"><ns1:Station><ns1:StationCode>WS</ns1:StationCode><ns1:Type>1</ns1:Type><ns1:KorteNaam>Winschoten</ns1:KorteNaam><ns1:MiddelNaam>Winschoten</ns1:MiddelNaam><ns1:LangeNaam>Winschoten</ns1:LangeNaam><ns1:UICCode>8400696</ns1:UICCode></ns1:Station><ns1:Station><ns1:StationCode>ZB</ns1:StationCode><ns1:Type>1</ns1:Type><ns1:KorteNaam>Zuidbroek</ns1:KorteNaam><ns1:MiddelNaam>Zuidbroek</ns1:MiddelNaam><ns1:LangeNaam>Zuidbroek</ns1:LangeNaam><ns1:UICCode>8400742</ns1:UICCode></ns1:Station><ns1:Station><ns1:StationCode>HGZ</ns1:StationCode><ns1:Type>1</ns1:Type><ns1:KorteNaam>Hoogezand</ns1:KorteNaam><ns1:MiddelNaam>Hoogezand-Sap.</ns1:MiddelNaam><ns1:LangeNaam>Hoogezand-Sappemeer</ns1:LangeNaam><ns1:UICCode>8400331</ns1:UICCode></ns1:Station></ns1:VerkorteRoute><ns1:TreinVleugel><ns1:TreinVleugelVertrekSpoor InfoStatus=\"Gepland\"><ns1:SpoorNummer>1</ns1:SpoorNummer></ns1:TreinVleugelVertrekSpoor><ns1:TreinVleugelVertrekSpoor InfoStatus=\"Actueel\"><ns1:SpoorNummer>1</ns1:SpoorNummer></ns1:TreinVleugelVertrekSpoor><ns1:TreinVleugelEindBestemming InfoStatus=\"Gepland\"><ns1:StationCode>GN</ns1:StationCode><ns1:Type>5</ns1:Type><ns1:KorteNaam>Groningen</ns1:KorteNaam><ns1:MiddelNaam>Groningen</ns1:MiddelNaam><ns1:LangeNaam>Groningen</ns1:LangeNaam><ns1:UICCode>8400263</ns1:UICCode></ns1:TreinVleugelEindBestemming><ns1:TreinVleugelEindBestemming InfoStatus=\"Actueel\"><ns1:StationCode>NSCH</ns1:StationCode><ns1:Type>1</ns1:Type><ns1:KorteNaam>Nweschans</ns1:KorteNaam><ns1:MiddelNaam>Bad Nieuweschans</ns1:MiddelNaam><ns1:LangeNaam>Bad Nieuweschans</ns1:LangeNaam><ns1:UICCode>8400457</ns1:UICCode></ns1:TreinVleugelEindBestemming><ns1:StopStations InfoStatus=\"Gepland\"><ns1:Station><ns1:StationCode>WS</ns1:StationCode><ns1:Type>1</ns1:Type><ns1:KorteNaam>Winschoten</ns1:KorteNaam><ns1:MiddelNaam>Winschoten</ns1:MiddelNaam><ns1:LangeNaam>Winschoten</ns1:LangeNaam><ns1:UICCode>8400696</ns1:UICCode></ns1:Station><ns1:Station><ns1:StationCode>SDA</ns1:StationCode><ns1:Type>0</ns1:Type><ns1:KorteNaam>Scheemda</ns1:KorteNaam><ns1:MiddelNaam>Scheemda</ns1:MiddelNaam><ns1:LangeNaam>Scheemda</ns1:LangeNaam><ns1:UICCode>8400551</ns1:UICCode></ns1:Station><ns1:Station><ns1:StationCode>ZB</ns1:StationCode><ns1:Type>1</ns1:Type><ns1:KorteNaam>Zuidbroek</ns1:KorteNaam><ns1:MiddelNaam>Zuidbroek</ns1:MiddelNaam><ns1:LangeNaam>Zuidbroek</ns1:LangeNaam><ns1:UICCode>8400742</ns1:UICCode></ns1:Station><ns1:Station><ns1:StationCode>SPM</ns1:StationCode><ns1:Type>0</ns1:Type><ns1:KorteNaam>Sappemr O</ns1:KorteNaam><ns1:MiddelNaam>Sappemeer Oost</ns1:MiddelNaam><ns1:LangeNaam>Sappemeer Oost</ns1:LangeNaam><ns1:UICCode>8400545</ns1:UICCode></ns1:Station><ns1:Station><ns1:StationCode>HGZ</ns1:StationCode><ns1:Type>1</ns1:Type><ns1:KorteNaam>Hoogezand</ns1:KorteNaam><ns1:MiddelNaam>Hoogezand-Sap.</ns1:MiddelNaam><ns1:LangeNaam>Hoogezand-Sappemeer</ns1:LangeNaam><ns1:UICCode>8400331</ns1:UICCode></ns1:Station><ns1:Station><ns1:StationCode>MTH</ns1:StationCode><ns1:Type>0</ns1:Type><ns1:KorteNaam>Martensh</ns1:KorteNaam><ns1:MiddelNaam>Martenshoek</ns1:MiddelNaam><ns1:LangeNaam>Martenshoek</ns1:LangeNaam><ns1:UICCode>8400430</ns1:UICCode></ns1:Station><ns1:Station><ns1:StationCode>KW</ns1:StationCode><ns1:Type>0</ns1:Type><ns1:KorteNaam>Kropswolde</ns1:KorteNaam><ns1:MiddelNaam>Kropswolde</ns1:MiddelNaam><ns1:LangeNaam>Kropswolde</ns1:LangeNaam><ns1:UICCode>8400369</ns1:UICCode></ns1:Station><ns1:Station><ns1:StationCode>GERP</ns1:StationCode><ns1:Type>0</ns1:Type><ns1:KorteNaam>Europapark</ns1:KorteNaam><ns1:MiddelNaam>Europapark</ns1:MiddelNaam><ns1:LangeNaam>Groningen Europapark</ns1:LangeNaam><ns1:UICCode>8400238</ns1:UICCode></ns1:Station><ns1:Station><ns1:StationCode>GN</ns1:StationCode><ns1:Type>5</ns1:Type><ns1:KorteNaam>Groningen</ns1:KorteNaam><ns1:MiddelNaam>Groningen</ns1:MiddelNaam><ns1:LangeNaam>Groningen</ns1:LangeNaam><ns1:UICCode>8400263</ns1:UICCode></ns1:Station></ns1:StopStations><ns1:StopStations InfoStatus=\"Actueel\"><ns1:Station><ns1:StationCode>NSCH</ns1:StationCode><ns1:Type>1</ns1:Type><ns1:KorteNaam>Nweschans</ns1:KorteNaam><ns1:MiddelNaam>Bad Nieuweschans</ns1:MiddelNaam><ns1:LangeNaam>Bad Nieuweschans</ns1:LangeNaam><ns1:UICCode>8400457</ns1:UICCode></ns1:Station></ns1:StopStations></ns1:TreinVleugel><ns1:Wijziging><ns1:WijzigingType>32</ns1:WijzigingType></ns1:Wijziging></ns1:Trein></ns1:DynamischeVertrekStaat></ns1:ReisInformatieProductDVS></ns0:PutReisInformatieBoodschapIn>\n"
     ]
    }
   ],
   "source": [
    "# quickly check form and dtypes\n",
    "smalldf = df.head(10)\n",
    "\n",
    "def xml_processor(s):\n",
    "    df3 = pd.read_xml(smalldf[\"data\"][1])\n",
    "    return df3\n",
    "\n",
    "\n",
    "\n",
    "# smalldf.data = smalldf.data.apply(xml_processor)\n",
    "# smalldf\n",
    "print(smalldf[\"data\"][1])"
   ]
  },
  {
   "cell_type": "code",
   "execution_count": 5,
   "id": "3e5a2145",
   "metadata": {},
   "outputs": [],
   "source": [
    "import xml.etree.ElementTree as ET"
   ]
  },
  {
   "cell_type": "code",
   "execution_count": 13,
   "id": "370066fe",
   "metadata": {},
   "outputs": [
    {
     "name": "stdout",
     "output_type": "stream",
     "text": [
      "  {urn:ndov:cdm:trein:reisinformatie:data:2}ReisInformatieProductDVS\n",
      "0                                               None                \n",
      "1                                               None                \n"
     ]
    }
   ],
   "source": [
    "xml_data = smalldf[\"data\"][1]  # Read file\n",
    "root = ET.XML(xml_data)  # Parse XML\n",
    "\n",
    "data = []\n",
    "cols = []\n",
    "for i, child in enumerate(root):\n",
    "    data.append([subchild.text for subchild in child])\n",
    "    cols.append(child.tag)\n",
    "\n",
    "df5 = pd.DataFrame(data).T  # Write in DF and transpose it\n",
    "df5.columns = cols  # Update column names\n",
    "print(df5)"
   ]
  },
  {
   "cell_type": "code",
   "execution_count": 16,
   "id": "1b70e7ba",
   "metadata": {},
   "outputs": [
    {
     "data": {
      "text/plain": [
       "'{urn:ndov:cdm:trein:reisinformatie:messages:3}PutReisInformatieBoodschapIn'"
      ]
     },
     "execution_count": 16,
     "metadata": {},
     "output_type": "execute_result"
    }
   ],
   "source": [
    "root.tag"
   ]
  },
  {
   "cell_type": "code",
   "execution_count": 17,
   "id": "da9e0763",
   "metadata": {},
   "outputs": [
    {
     "data": {
      "text/plain": [
       "{}"
      ]
     },
     "execution_count": 17,
     "metadata": {},
     "output_type": "execute_result"
    }
   ],
   "source": [
    "root.attrib"
   ]
  },
  {
   "cell_type": "code",
   "execution_count": 18,
   "id": "c5d17400",
   "metadata": {},
   "outputs": [
    {
     "name": "stdout",
     "output_type": "stream",
     "text": [
      "{urn:ndov:cdm:trein:reisinformatie:data:2}ReisInformatieProductDVS {'Versie': '6.2', 'TimeStamp': '2015-12-31T23:00:01.682Z'}\n"
     ]
    }
   ],
   "source": [
    "for child in root:\n",
    "    print(child.tag, child.attrib)"
   ]
  },
  {
   "cell_type": "code",
   "execution_count": 20,
   "id": "c5a86b27",
   "metadata": {},
   "outputs": [
    {
     "data": {
      "text/plain": [
       "['{urn:ndov:cdm:trein:reisinformatie:messages:3}PutReisInformatieBoodschapIn',\n",
       " '{urn:ndov:cdm:trein:reisinformatie:data:2}ReisInformatieProductDVS',\n",
       " '{urn:ndov:cdm:trein:reisinformatie:data:2}RIPAdministratie',\n",
       " '{urn:ndov:cdm:trein:reisinformatie:data:2}ReisInformatieProductID',\n",
       " '{urn:ndov:cdm:trein:reisinformatie:data:2}AbonnementId',\n",
       " '{urn:ndov:cdm:trein:reisinformatie:data:2}ReisInformatieTijdstip',\n",
       " '{urn:ndov:cdm:trein:reisinformatie:data:2}DynamischeVertrekStaat',\n",
       " '{urn:ndov:cdm:trein:reisinformatie:data:2}RitId',\n",
       " '{urn:ndov:cdm:trein:reisinformatie:data:2}RitDatum',\n",
       " '{urn:ndov:cdm:trein:reisinformatie:data:2}RitStation',\n",
       " '{urn:ndov:cdm:trein:reisinformatie:data:2}StationCode',\n",
       " '{urn:ndov:cdm:trein:reisinformatie:data:2}Type',\n",
       " '{urn:ndov:cdm:trein:reisinformatie:data:2}KorteNaam',\n",
       " '{urn:ndov:cdm:trein:reisinformatie:data:2}MiddelNaam',\n",
       " '{urn:ndov:cdm:trein:reisinformatie:data:2}LangeNaam',\n",
       " '{urn:ndov:cdm:trein:reisinformatie:data:2}UICCode',\n",
       " '{urn:ndov:cdm:trein:reisinformatie:data:2}Trein',\n",
       " '{urn:ndov:cdm:trein:reisinformatie:data:2}TreinNummer',\n",
       " '{urn:ndov:cdm:trein:reisinformatie:data:2}TreinSoort',\n",
       " '{urn:ndov:cdm:trein:reisinformatie:data:2}TreinFormule',\n",
       " '{urn:ndov:cdm:trein:reisinformatie:data:2}TreinStatus',\n",
       " '{urn:ndov:cdm:trein:reisinformatie:data:2}Vervoerder',\n",
       " '{urn:ndov:cdm:trein:reisinformatie:data:2}Reserveren',\n",
       " '{urn:ndov:cdm:trein:reisinformatie:data:2}Toeslag',\n",
       " '{urn:ndov:cdm:trein:reisinformatie:data:2}NietInstappen',\n",
       " '{urn:ndov:cdm:trein:reisinformatie:data:2}AchterBlijvenAchtersteTreinDeel',\n",
       " '{urn:ndov:cdm:trein:reisinformatie:data:2}RangeerBeweging',\n",
       " '{urn:ndov:cdm:trein:reisinformatie:data:2}SpeciaalKaartje',\n",
       " '{urn:ndov:cdm:trein:reisinformatie:data:2}TreinEindBestemming',\n",
       " '{urn:ndov:cdm:trein:reisinformatie:data:2}StationCode',\n",
       " '{urn:ndov:cdm:trein:reisinformatie:data:2}Type',\n",
       " '{urn:ndov:cdm:trein:reisinformatie:data:2}KorteNaam',\n",
       " '{urn:ndov:cdm:trein:reisinformatie:data:2}MiddelNaam',\n",
       " '{urn:ndov:cdm:trein:reisinformatie:data:2}LangeNaam',\n",
       " '{urn:ndov:cdm:trein:reisinformatie:data:2}UICCode',\n",
       " '{urn:ndov:cdm:trein:reisinformatie:data:2}TreinEindBestemming',\n",
       " '{urn:ndov:cdm:trein:reisinformatie:data:2}StationCode',\n",
       " '{urn:ndov:cdm:trein:reisinformatie:data:2}Type',\n",
       " '{urn:ndov:cdm:trein:reisinformatie:data:2}KorteNaam',\n",
       " '{urn:ndov:cdm:trein:reisinformatie:data:2}MiddelNaam',\n",
       " '{urn:ndov:cdm:trein:reisinformatie:data:2}LangeNaam',\n",
       " '{urn:ndov:cdm:trein:reisinformatie:data:2}UICCode',\n",
       " '{urn:ndov:cdm:trein:reisinformatie:data:2}VertrekTijd',\n",
       " '{urn:ndov:cdm:trein:reisinformatie:data:2}VertrekTijd',\n",
       " '{urn:ndov:cdm:trein:reisinformatie:data:2}ExacteVertrekVertraging',\n",
       " '{urn:ndov:cdm:trein:reisinformatie:data:2}GedempteVertrekVertraging',\n",
       " '{urn:ndov:cdm:trein:reisinformatie:data:2}TreinVertrekSpoor',\n",
       " '{urn:ndov:cdm:trein:reisinformatie:data:2}SpoorNummer',\n",
       " '{urn:ndov:cdm:trein:reisinformatie:data:2}TreinVertrekSpoor',\n",
       " '{urn:ndov:cdm:trein:reisinformatie:data:2}SpoorNummer',\n",
       " '{urn:ndov:cdm:trein:reisinformatie:data:2}VertrekRichting',\n",
       " '{urn:ndov:cdm:trein:reisinformatie:data:2}AfstandPerronEindKopVertrekTrein',\n",
       " '{urn:ndov:cdm:trein:reisinformatie:data:2}VerkorteRoute',\n",
       " '{urn:ndov:cdm:trein:reisinformatie:data:2}Station',\n",
       " '{urn:ndov:cdm:trein:reisinformatie:data:2}StationCode',\n",
       " '{urn:ndov:cdm:trein:reisinformatie:data:2}Type',\n",
       " '{urn:ndov:cdm:trein:reisinformatie:data:2}KorteNaam',\n",
       " '{urn:ndov:cdm:trein:reisinformatie:data:2}MiddelNaam',\n",
       " '{urn:ndov:cdm:trein:reisinformatie:data:2}LangeNaam',\n",
       " '{urn:ndov:cdm:trein:reisinformatie:data:2}UICCode',\n",
       " '{urn:ndov:cdm:trein:reisinformatie:data:2}Station',\n",
       " '{urn:ndov:cdm:trein:reisinformatie:data:2}StationCode',\n",
       " '{urn:ndov:cdm:trein:reisinformatie:data:2}Type',\n",
       " '{urn:ndov:cdm:trein:reisinformatie:data:2}KorteNaam',\n",
       " '{urn:ndov:cdm:trein:reisinformatie:data:2}MiddelNaam',\n",
       " '{urn:ndov:cdm:trein:reisinformatie:data:2}LangeNaam',\n",
       " '{urn:ndov:cdm:trein:reisinformatie:data:2}UICCode',\n",
       " '{urn:ndov:cdm:trein:reisinformatie:data:2}Station',\n",
       " '{urn:ndov:cdm:trein:reisinformatie:data:2}StationCode',\n",
       " '{urn:ndov:cdm:trein:reisinformatie:data:2}Type',\n",
       " '{urn:ndov:cdm:trein:reisinformatie:data:2}KorteNaam',\n",
       " '{urn:ndov:cdm:trein:reisinformatie:data:2}MiddelNaam',\n",
       " '{urn:ndov:cdm:trein:reisinformatie:data:2}LangeNaam',\n",
       " '{urn:ndov:cdm:trein:reisinformatie:data:2}UICCode',\n",
       " '{urn:ndov:cdm:trein:reisinformatie:data:2}TreinVleugel',\n",
       " '{urn:ndov:cdm:trein:reisinformatie:data:2}TreinVleugelVertrekSpoor',\n",
       " '{urn:ndov:cdm:trein:reisinformatie:data:2}SpoorNummer',\n",
       " '{urn:ndov:cdm:trein:reisinformatie:data:2}TreinVleugelVertrekSpoor',\n",
       " '{urn:ndov:cdm:trein:reisinformatie:data:2}SpoorNummer',\n",
       " '{urn:ndov:cdm:trein:reisinformatie:data:2}TreinVleugelEindBestemming',\n",
       " '{urn:ndov:cdm:trein:reisinformatie:data:2}StationCode',\n",
       " '{urn:ndov:cdm:trein:reisinformatie:data:2}Type',\n",
       " '{urn:ndov:cdm:trein:reisinformatie:data:2}KorteNaam',\n",
       " '{urn:ndov:cdm:trein:reisinformatie:data:2}MiddelNaam',\n",
       " '{urn:ndov:cdm:trein:reisinformatie:data:2}LangeNaam',\n",
       " '{urn:ndov:cdm:trein:reisinformatie:data:2}UICCode',\n",
       " '{urn:ndov:cdm:trein:reisinformatie:data:2}TreinVleugelEindBestemming',\n",
       " '{urn:ndov:cdm:trein:reisinformatie:data:2}StationCode',\n",
       " '{urn:ndov:cdm:trein:reisinformatie:data:2}Type',\n",
       " '{urn:ndov:cdm:trein:reisinformatie:data:2}KorteNaam',\n",
       " '{urn:ndov:cdm:trein:reisinformatie:data:2}MiddelNaam',\n",
       " '{urn:ndov:cdm:trein:reisinformatie:data:2}LangeNaam',\n",
       " '{urn:ndov:cdm:trein:reisinformatie:data:2}UICCode',\n",
       " '{urn:ndov:cdm:trein:reisinformatie:data:2}StopStations',\n",
       " '{urn:ndov:cdm:trein:reisinformatie:data:2}Station',\n",
       " '{urn:ndov:cdm:trein:reisinformatie:data:2}StationCode',\n",
       " '{urn:ndov:cdm:trein:reisinformatie:data:2}Type',\n",
       " '{urn:ndov:cdm:trein:reisinformatie:data:2}KorteNaam',\n",
       " '{urn:ndov:cdm:trein:reisinformatie:data:2}MiddelNaam',\n",
       " '{urn:ndov:cdm:trein:reisinformatie:data:2}LangeNaam',\n",
       " '{urn:ndov:cdm:trein:reisinformatie:data:2}UICCode',\n",
       " '{urn:ndov:cdm:trein:reisinformatie:data:2}Station',\n",
       " '{urn:ndov:cdm:trein:reisinformatie:data:2}StationCode',\n",
       " '{urn:ndov:cdm:trein:reisinformatie:data:2}Type',\n",
       " '{urn:ndov:cdm:trein:reisinformatie:data:2}KorteNaam',\n",
       " '{urn:ndov:cdm:trein:reisinformatie:data:2}MiddelNaam',\n",
       " '{urn:ndov:cdm:trein:reisinformatie:data:2}LangeNaam',\n",
       " '{urn:ndov:cdm:trein:reisinformatie:data:2}UICCode',\n",
       " '{urn:ndov:cdm:trein:reisinformatie:data:2}Station',\n",
       " '{urn:ndov:cdm:trein:reisinformatie:data:2}StationCode',\n",
       " '{urn:ndov:cdm:trein:reisinformatie:data:2}Type',\n",
       " '{urn:ndov:cdm:trein:reisinformatie:data:2}KorteNaam',\n",
       " '{urn:ndov:cdm:trein:reisinformatie:data:2}MiddelNaam',\n",
       " '{urn:ndov:cdm:trein:reisinformatie:data:2}LangeNaam',\n",
       " '{urn:ndov:cdm:trein:reisinformatie:data:2}UICCode',\n",
       " '{urn:ndov:cdm:trein:reisinformatie:data:2}Station',\n",
       " '{urn:ndov:cdm:trein:reisinformatie:data:2}StationCode',\n",
       " '{urn:ndov:cdm:trein:reisinformatie:data:2}Type',\n",
       " '{urn:ndov:cdm:trein:reisinformatie:data:2}KorteNaam',\n",
       " '{urn:ndov:cdm:trein:reisinformatie:data:2}MiddelNaam',\n",
       " '{urn:ndov:cdm:trein:reisinformatie:data:2}LangeNaam',\n",
       " '{urn:ndov:cdm:trein:reisinformatie:data:2}UICCode',\n",
       " '{urn:ndov:cdm:trein:reisinformatie:data:2}Station',\n",
       " '{urn:ndov:cdm:trein:reisinformatie:data:2}StationCode',\n",
       " '{urn:ndov:cdm:trein:reisinformatie:data:2}Type',\n",
       " '{urn:ndov:cdm:trein:reisinformatie:data:2}KorteNaam',\n",
       " '{urn:ndov:cdm:trein:reisinformatie:data:2}MiddelNaam',\n",
       " '{urn:ndov:cdm:trein:reisinformatie:data:2}LangeNaam',\n",
       " '{urn:ndov:cdm:trein:reisinformatie:data:2}UICCode',\n",
       " '{urn:ndov:cdm:trein:reisinformatie:data:2}Station',\n",
       " '{urn:ndov:cdm:trein:reisinformatie:data:2}StationCode',\n",
       " '{urn:ndov:cdm:trein:reisinformatie:data:2}Type',\n",
       " '{urn:ndov:cdm:trein:reisinformatie:data:2}KorteNaam',\n",
       " '{urn:ndov:cdm:trein:reisinformatie:data:2}MiddelNaam',\n",
       " '{urn:ndov:cdm:trein:reisinformatie:data:2}LangeNaam',\n",
       " '{urn:ndov:cdm:trein:reisinformatie:data:2}UICCode',\n",
       " '{urn:ndov:cdm:trein:reisinformatie:data:2}Station',\n",
       " '{urn:ndov:cdm:trein:reisinformatie:data:2}StationCode',\n",
       " '{urn:ndov:cdm:trein:reisinformatie:data:2}Type',\n",
       " '{urn:ndov:cdm:trein:reisinformatie:data:2}KorteNaam',\n",
       " '{urn:ndov:cdm:trein:reisinformatie:data:2}MiddelNaam',\n",
       " '{urn:ndov:cdm:trein:reisinformatie:data:2}LangeNaam',\n",
       " '{urn:ndov:cdm:trein:reisinformatie:data:2}UICCode',\n",
       " '{urn:ndov:cdm:trein:reisinformatie:data:2}Station',\n",
       " '{urn:ndov:cdm:trein:reisinformatie:data:2}StationCode',\n",
       " '{urn:ndov:cdm:trein:reisinformatie:data:2}Type',\n",
       " '{urn:ndov:cdm:trein:reisinformatie:data:2}KorteNaam',\n",
       " '{urn:ndov:cdm:trein:reisinformatie:data:2}MiddelNaam',\n",
       " '{urn:ndov:cdm:trein:reisinformatie:data:2}LangeNaam',\n",
       " '{urn:ndov:cdm:trein:reisinformatie:data:2}UICCode',\n",
       " '{urn:ndov:cdm:trein:reisinformatie:data:2}Station',\n",
       " '{urn:ndov:cdm:trein:reisinformatie:data:2}StationCode',\n",
       " '{urn:ndov:cdm:trein:reisinformatie:data:2}Type',\n",
       " '{urn:ndov:cdm:trein:reisinformatie:data:2}KorteNaam',\n",
       " '{urn:ndov:cdm:trein:reisinformatie:data:2}MiddelNaam',\n",
       " '{urn:ndov:cdm:trein:reisinformatie:data:2}LangeNaam',\n",
       " '{urn:ndov:cdm:trein:reisinformatie:data:2}UICCode',\n",
       " '{urn:ndov:cdm:trein:reisinformatie:data:2}StopStations',\n",
       " '{urn:ndov:cdm:trein:reisinformatie:data:2}Station',\n",
       " '{urn:ndov:cdm:trein:reisinformatie:data:2}StationCode',\n",
       " '{urn:ndov:cdm:trein:reisinformatie:data:2}Type',\n",
       " '{urn:ndov:cdm:trein:reisinformatie:data:2}KorteNaam',\n",
       " '{urn:ndov:cdm:trein:reisinformatie:data:2}MiddelNaam',\n",
       " '{urn:ndov:cdm:trein:reisinformatie:data:2}LangeNaam',\n",
       " '{urn:ndov:cdm:trein:reisinformatie:data:2}UICCode',\n",
       " '{urn:ndov:cdm:trein:reisinformatie:data:2}Wijziging',\n",
       " '{urn:ndov:cdm:trein:reisinformatie:data:2}WijzigingType']"
      ]
     },
     "execution_count": 20,
     "metadata": {},
     "output_type": "execute_result"
    }
   ],
   "source": [
    "[elem.tag for elem in root.iter()]"
   ]
  },
  {
   "cell_type": "code",
   "execution_count": 21,
   "id": "6b673349",
   "metadata": {},
   "outputs": [
    {
     "name": "stdout",
     "output_type": "stream",
     "text": [
      "<?xml version='1.0' encoding='utf8'?>\n",
      "<ns0:PutReisInformatieBoodschapIn xmlns:ns0=\"urn:ndov:cdm:trein:reisinformatie:messages:3\" xmlns:ns1=\"urn:ndov:cdm:trein:reisinformatie:data:2\"><ns1:ReisInformatieProductDVS Versie=\"6.2\" TimeStamp=\"2015-12-31T23:00:01.682Z\"><ns1:RIPAdministratie><ns1:ReisInformatieProductID>1601010000012300006</ns1:ReisInformatieProductID><ns1:AbonnementId>54</ns1:AbonnementId><ns1:ReisInformatieTijdstip>2016-01-01T00:10:00Z</ns1:ReisInformatieTijdstip></ns1:RIPAdministratie><ns1:DynamischeVertrekStaat><ns1:RitId>37598</ns1:RitId><ns1:RitDatum>2015-12-31</ns1:RitDatum><ns1:RitStation><ns1:StationCode>NSCH</ns1:StationCode><ns1:Type>1</ns1:Type><ns1:KorteNaam>Nweschans</ns1:KorteNaam><ns1:MiddelNaam>Bad Nieuweschans</ns1:MiddelNaam><ns1:LangeNaam>Bad Nieuweschans</ns1:LangeNaam><ns1:UICCode>8400457</ns1:UICCode></ns1:RitStation><ns1:Trein><ns1:TreinNummer>37598</ns1:TreinNummer><ns1:TreinSoort Code=\"ST\">Stoptrein</ns1:TreinSoort><ns1:TreinFormule>1</ns1:TreinFormule><ns1:TreinStatus>0</ns1:TreinStatus><ns1:Vervoerder>Arriva</ns1:Vervoerder><ns1:Reserveren>N</ns1:Reserveren><ns1:Toeslag>N</ns1:Toeslag><ns1:NietInstappen>N</ns1:NietInstappen><ns1:AchterBlijvenAchtersteTreinDeel>N</ns1:AchterBlijvenAchtersteTreinDeel><ns1:RangeerBeweging>N</ns1:RangeerBeweging><ns1:SpeciaalKaartje>N</ns1:SpeciaalKaartje><ns1:TreinEindBestemming InfoStatus=\"Gepland\"><ns1:StationCode>GN</ns1:StationCode><ns1:Type>5</ns1:Type><ns1:KorteNaam>Groningen</ns1:KorteNaam><ns1:MiddelNaam>Groningen</ns1:MiddelNaam><ns1:LangeNaam>Groningen</ns1:LangeNaam><ns1:UICCode>8400263</ns1:UICCode></ns1:TreinEindBestemming><ns1:TreinEindBestemming InfoStatus=\"Actueel\"><ns1:StationCode>NSCH</ns1:StationCode><ns1:Type>1</ns1:Type><ns1:KorteNaam>Nweschans</ns1:KorteNaam><ns1:MiddelNaam>Bad Nieuweschans</ns1:MiddelNaam><ns1:LangeNaam>Bad Nieuweschans</ns1:LangeNaam><ns1:UICCode>8400457</ns1:UICCode></ns1:TreinEindBestemming><ns1:VertrekTijd InfoStatus=\"Gepland\">2016-01-01T00:10:00Z</ns1:VertrekTijd><ns1:VertrekTijd InfoStatus=\"Actueel\">2016-01-01T00:10:00Z</ns1:VertrekTijd><ns1:ExacteVertrekVertraging>PT0S</ns1:ExacteVertrekVertraging><ns1:GedempteVertrekVertraging>PT0S</ns1:GedempteVertrekVertraging><ns1:TreinVertrekSpoor InfoStatus=\"Gepland\"><ns1:SpoorNummer>1</ns1:SpoorNummer></ns1:TreinVertrekSpoor><ns1:TreinVertrekSpoor InfoStatus=\"Actueel\"><ns1:SpoorNummer>1</ns1:SpoorNummer></ns1:TreinVertrekSpoor><ns1:VertrekRichting>A</ns1:VertrekRichting><ns1:AfstandPerronEindKopVertrekTrein>0</ns1:AfstandPerronEindKopVertrekTrein><ns1:VerkorteRoute InfoStatus=\"Gepland\"><ns1:Station><ns1:StationCode>WS</ns1:StationCode><ns1:Type>1</ns1:Type><ns1:KorteNaam>Winschoten</ns1:KorteNaam><ns1:MiddelNaam>Winschoten</ns1:MiddelNaam><ns1:LangeNaam>Winschoten</ns1:LangeNaam><ns1:UICCode>8400696</ns1:UICCode></ns1:Station><ns1:Station><ns1:StationCode>ZB</ns1:StationCode><ns1:Type>1</ns1:Type><ns1:KorteNaam>Zuidbroek</ns1:KorteNaam><ns1:MiddelNaam>Zuidbroek</ns1:MiddelNaam><ns1:LangeNaam>Zuidbroek</ns1:LangeNaam><ns1:UICCode>8400742</ns1:UICCode></ns1:Station><ns1:Station><ns1:StationCode>HGZ</ns1:StationCode><ns1:Type>1</ns1:Type><ns1:KorteNaam>Hoogezand</ns1:KorteNaam><ns1:MiddelNaam>Hoogezand-Sap.</ns1:MiddelNaam><ns1:LangeNaam>Hoogezand-Sappemeer</ns1:LangeNaam><ns1:UICCode>8400331</ns1:UICCode></ns1:Station></ns1:VerkorteRoute><ns1:TreinVleugel><ns1:TreinVleugelVertrekSpoor InfoStatus=\"Gepland\"><ns1:SpoorNummer>1</ns1:SpoorNummer></ns1:TreinVleugelVertrekSpoor><ns1:TreinVleugelVertrekSpoor InfoStatus=\"Actueel\"><ns1:SpoorNummer>1</ns1:SpoorNummer></ns1:TreinVleugelVertrekSpoor><ns1:TreinVleugelEindBestemming InfoStatus=\"Gepland\"><ns1:StationCode>GN</ns1:StationCode><ns1:Type>5</ns1:Type><ns1:KorteNaam>Groningen</ns1:KorteNaam><ns1:MiddelNaam>Groningen</ns1:MiddelNaam><ns1:LangeNaam>Groningen</ns1:LangeNaam><ns1:UICCode>8400263</ns1:UICCode></ns1:TreinVleugelEindBestemming><ns1:TreinVleugelEindBestemming InfoStatus=\"Actueel\"><ns1:StationCode>NSCH</ns1:StationCode><ns1:Type>1</ns1:Type><ns1:KorteNaam>Nweschans</ns1:KorteNaam><ns1:MiddelNaam>Bad Nieuweschans</ns1:MiddelNaam><ns1:LangeNaam>Bad Nieuweschans</ns1:LangeNaam><ns1:UICCode>8400457</ns1:UICCode></ns1:TreinVleugelEindBestemming><ns1:StopStations InfoStatus=\"Gepland\"><ns1:Station><ns1:StationCode>WS</ns1:StationCode><ns1:Type>1</ns1:Type><ns1:KorteNaam>Winschoten</ns1:KorteNaam><ns1:MiddelNaam>Winschoten</ns1:MiddelNaam><ns1:LangeNaam>Winschoten</ns1:LangeNaam><ns1:UICCode>8400696</ns1:UICCode></ns1:Station><ns1:Station><ns1:StationCode>SDA</ns1:StationCode><ns1:Type>0</ns1:Type><ns1:KorteNaam>Scheemda</ns1:KorteNaam><ns1:MiddelNaam>Scheemda</ns1:MiddelNaam><ns1:LangeNaam>Scheemda</ns1:LangeNaam><ns1:UICCode>8400551</ns1:UICCode></ns1:Station><ns1:Station><ns1:StationCode>ZB</ns1:StationCode><ns1:Type>1</ns1:Type><ns1:KorteNaam>Zuidbroek</ns1:KorteNaam><ns1:MiddelNaam>Zuidbroek</ns1:MiddelNaam><ns1:LangeNaam>Zuidbroek</ns1:LangeNaam><ns1:UICCode>8400742</ns1:UICCode></ns1:Station><ns1:Station><ns1:StationCode>SPM</ns1:StationCode><ns1:Type>0</ns1:Type><ns1:KorteNaam>Sappemr O</ns1:KorteNaam><ns1:MiddelNaam>Sappemeer Oost</ns1:MiddelNaam><ns1:LangeNaam>Sappemeer Oost</ns1:LangeNaam><ns1:UICCode>8400545</ns1:UICCode></ns1:Station><ns1:Station><ns1:StationCode>HGZ</ns1:StationCode><ns1:Type>1</ns1:Type><ns1:KorteNaam>Hoogezand</ns1:KorteNaam><ns1:MiddelNaam>Hoogezand-Sap.</ns1:MiddelNaam><ns1:LangeNaam>Hoogezand-Sappemeer</ns1:LangeNaam><ns1:UICCode>8400331</ns1:UICCode></ns1:Station><ns1:Station><ns1:StationCode>MTH</ns1:StationCode><ns1:Type>0</ns1:Type><ns1:KorteNaam>Martensh</ns1:KorteNaam><ns1:MiddelNaam>Martenshoek</ns1:MiddelNaam><ns1:LangeNaam>Martenshoek</ns1:LangeNaam><ns1:UICCode>8400430</ns1:UICCode></ns1:Station><ns1:Station><ns1:StationCode>KW</ns1:StationCode><ns1:Type>0</ns1:Type><ns1:KorteNaam>Kropswolde</ns1:KorteNaam><ns1:MiddelNaam>Kropswolde</ns1:MiddelNaam><ns1:LangeNaam>Kropswolde</ns1:LangeNaam><ns1:UICCode>8400369</ns1:UICCode></ns1:Station><ns1:Station><ns1:StationCode>GERP</ns1:StationCode><ns1:Type>0</ns1:Type><ns1:KorteNaam>Europapark</ns1:KorteNaam><ns1:MiddelNaam>Europapark</ns1:MiddelNaam><ns1:LangeNaam>Groningen Europapark</ns1:LangeNaam><ns1:UICCode>8400238</ns1:UICCode></ns1:Station><ns1:Station><ns1:StationCode>GN</ns1:StationCode><ns1:Type>5</ns1:Type><ns1:KorteNaam>Groningen</ns1:KorteNaam><ns1:MiddelNaam>Groningen</ns1:MiddelNaam><ns1:LangeNaam>Groningen</ns1:LangeNaam><ns1:UICCode>8400263</ns1:UICCode></ns1:Station></ns1:StopStations><ns1:StopStations InfoStatus=\"Actueel\"><ns1:Station><ns1:StationCode>NSCH</ns1:StationCode><ns1:Type>1</ns1:Type><ns1:KorteNaam>Nweschans</ns1:KorteNaam><ns1:MiddelNaam>Bad Nieuweschans</ns1:MiddelNaam><ns1:LangeNaam>Bad Nieuweschans</ns1:LangeNaam><ns1:UICCode>8400457</ns1:UICCode></ns1:Station></ns1:StopStations></ns1:TreinVleugel><ns1:Wijziging><ns1:WijzigingType>32</ns1:WijzigingType></ns1:Wijziging></ns1:Trein></ns1:DynamischeVertrekStaat></ns1:ReisInformatieProductDVS></ns0:PutReisInformatieBoodschapIn>\n"
     ]
    }
   ],
   "source": [
    "print(ET.tostring(root, encoding='utf8').decode('utf8'))"
   ]
  },
  {
   "cell_type": "code",
   "execution_count": 29,
   "id": "cdfb93a8",
   "metadata": {},
   "outputs": [],
   "source": [
    "for ProdID in root.iter('StationCode'):\n",
    "    print(ProdID)"
   ]
  },
  {
   "cell_type": "code",
   "execution_count": null,
   "id": "d8476152",
   "metadata": {},
   "outputs": [],
   "source": []
  }
 ],
 "metadata": {
  "kernelspec": {
   "display_name": "Python 3 (ipykernel)",
   "language": "python",
   "name": "python3"
  },
  "language_info": {
   "codemirror_mode": {
    "name": "ipython",
    "version": 3
   },
   "file_extension": ".py",
   "mimetype": "text/x-python",
   "name": "python",
   "nbconvert_exporter": "python",
   "pygments_lexer": "ipython3",
   "version": "3.9.7"
  }
 },
 "nbformat": 4,
 "nbformat_minor": 5
}
