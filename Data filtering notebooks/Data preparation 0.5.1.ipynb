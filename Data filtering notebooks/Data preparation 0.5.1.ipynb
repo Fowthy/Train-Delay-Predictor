{
 "cells": [
  {
   "cell_type": "markdown",
   "id": "a770019c",
   "metadata": {},
   "source": [
    "# Train data preparation"
   ]
  },
  {
   "cell_type": "code",
   "execution_count": 1,
   "id": "194fedcc",
   "metadata": {},
   "outputs": [],
   "source": [
    "# Libraries\n",
    "import pandas as pd\n",
    "import xmltodict, json\n",
    "import numpy as np\n",
    "import xml.etree.ElementTree as ET"
   ]
  },
  {
   "cell_type": "code",
   "execution_count": 14,
   "id": "1c1b006c",
   "metadata": {},
   "outputs": [],
   "source": [
    "# We get the data from link\n",
    "df = pd.read_csv('https://trein.fwrite.org/AMS-Aurora-archive/2016-01/DVS_2016-01-01.csv.xz')\n",
    "df.columns = [\"date\", \"data\", \"code\"]\n",
    "\n",
    "# TODO\n",
    "# Get the data for each day of the whole 2016\n",
    "# Maybe use the link in a loop and just replace the name of the file with the date for each day? maybe?"
   ]
  },
  {
   "cell_type": "code",
   "execution_count": 3,
   "id": "2b2baba0",
   "metadata": {},
   "outputs": [],
   "source": [
    "# Defining RitStation class here\n",
    "class RitStation:\n",
    "    def __init__(self, StationCode,KorteNaam):\n",
    "        self.StationCode = StationCode\n",
    "        self.KorteNaam = KorteNaam\n",
    "\n",
    "# Defining Train class here\n",
    "class Trein:\n",
    "    def __init__(self, TreinNumber, TreinSoort, Vervoerder, TreinStation_Code,TreinStation_Name, Depart_Time, ExacteVertrekVertraging):\n",
    "        self.TreinNumber = TreinNumber\n",
    "        self.TreinSoort = TreinSoort\n",
    "        self.Vervoerder = Vervoerder\n",
    "        self.TreinStation_Code = TreinStation_Code\n",
    "        self.TreinStation_Name = TreinStation_Name\n",
    "        self.Depart_Time = Depart_Time\n",
    "        self.ExacteVertrekVertraging = ExacteVertrekVertraging"
   ]
  },
  {
   "cell_type": "code",
   "execution_count": 103,
   "id": "d8c68c04",
   "metadata": {},
   "outputs": [],
   "source": [
    "# This function iterates through each row (day) in the given dataset\n",
    "# The dataset, which in this case is one whole day is parsed as a parameter to the function\n",
    "# Two lists, ritstations and trains are created at the beginning. Then in the loop, ritstation and train objects are created and added to these lists.\n",
    "# Later on, the lists are combined and used in dataframe for visualization.\n",
    "\n",
    "def GetTrainDayData(smalldf):\n",
    "    # The xml data\n",
    "    xml_data = smalldf[\"data\"]\n",
    "    \n",
    "    stations = []\n",
    "\n",
    "    # It goes through every row in the data (1 day)\n",
    "    for i,train_data in enumerate(xml_data):\n",
    "        root = ET.fromstring(train_data)\n",
    "\n",
    "        # Check if there is always root\n",
    "        if len(root) != 0:\n",
    "            \n",
    "            # This is the prefix for each element\n",
    "            prefix = './/{urn:ndov:cdm:trein:reisinformatie:data:2}'\n",
    "            # The data wrapper\n",
    "            productDVS = root.find('{}ReisInformatieProductDVS'.format(prefix))\n",
    "            # Getting the version of the data for the day (just shows how to get attributes)\n",
    "            data_version = productDVS.attrib['Versie']\n",
    "\n",
    "            # the wrapper that contain the ritstation and the train\n",
    "            wrapper = root.find('{}DynamischeVertrekStaat'.format(prefix))\n",
    "            \n",
    "            ritstation = wrapper.find('{}RitStation'.format(prefix))\n",
    "            station_code = ritstation.find('{}StationCode'.format(prefix)).text\n",
    "            station_name = ritstation.find('{}KorteNaam'.format(prefix)).text\n",
    "            \n",
    "            print(station_code, station_name)\n"
   ]
  },
  {
   "cell_type": "code",
   "execution_count": 104,
   "id": "388d28a0-51c2-461c-9f6c-3bb5eb1196ae",
   "metadata": {},
   "outputs": [
    {
     "name": "stdout",
     "output_type": "stream",
     "text": [
      "HLMS Spaarnwde\n",
      "NSCH Nweschans\n",
      "DVD Duivendt\n",
      "DDRS Stadspldrs\n",
      "EMNZ Emmen Z\n",
      "BNZ Barnevld Z\n",
      "LWC Camminghab\n",
      "RTB Blaak\n",
      "KLP De Klomp\n",
      "GND Hardinxvld\n",
      "HWD Heerhugow\n",
      "DZ Delfzijl\n",
      "HK Heemskerk\n",
      "DT Delft\n",
      "WP Weesp\n",
      "ZVB Zevenbergn\n",
      "HWZB Halfweg-Zw\n",
      "HBZM Blauwe Z\n",
      "HWZB Halfweg-Zw\n",
      "VH Voorhout\n",
      "BSD Beesd\n",
      "RD Roodesch\n",
      "SHL Schiphol\n",
      "SDTB Baanhoek\n",
      "DZW Delfzijl W\n",
      "BNC Barnevld C\n",
      "ASB Bijlmer A\n",
      "ASD A'dam C\n",
      "RTD R'dam C\n",
      "HGV Hoogeveen\n",
      "GERP Europapark\n"
     ]
    }
   ],
   "source": [
    "smalldf = df.head(39)\n",
    "GetTrainDayData(smalldf)\n"
   ]
  },
  {
   "cell_type": "code",
   "execution_count": null,
   "id": "f8092453-3e1a-4d97-b909-7d63e956d02b",
   "metadata": {},
   "outputs": [],
   "source": []
  }
 ],
 "metadata": {
  "kernelspec": {
   "display_name": "Python 3 (ipykernel)",
   "language": "python",
   "name": "python3"
  },
  "language_info": {
   "codemirror_mode": {
    "name": "ipython",
    "version": 3
   },
   "file_extension": ".py",
   "mimetype": "text/x-python",
   "name": "python",
   "nbconvert_exporter": "python",
   "pygments_lexer": "ipython3",
   "version": "3.9.7"
  }
 },
 "nbformat": 4,
 "nbformat_minor": 5
}
