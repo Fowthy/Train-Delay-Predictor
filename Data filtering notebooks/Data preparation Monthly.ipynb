{
 "cells": [
  {
   "cell_type": "markdown",
   "id": "a770019c",
   "metadata": {},
   "source": [
    "# Train data preparation"
   ]
  },
  {
   "cell_type": "code",
   "execution_count": 13,
   "id": "194fedcc",
   "metadata": {},
   "outputs": [],
   "source": [
    "# Libraries\n",
    "import pandas as pd\n",
    "import numpy as np\n",
    "import xml.etree.ElementTree as ET\n",
    "import datetime"
   ]
  },
  {
   "cell_type": "code",
   "execution_count": 22,
   "id": "47dba480",
   "metadata": {},
   "outputs": [],
   "source": [
    "'''This function iterates through each row in the dataframe'''\n",
    "def ParseDataframeRows(df):\n",
    "    for row in df.itertuples(index=False):\n",
    "        ParseJourneyData(row.data)"
   ]
  },
  {
   "cell_type": "code",
   "execution_count": 25,
   "id": "07c868e3",
   "metadata": {},
   "outputs": [],
   "source": [
    "dftest = pd.read_csv('https://trein.fwrite.org/AMS-Aurora-archive/2016-01/DVS_2016-01-01.csv.xz', usecols = [1])\n",
    "dftest.columns = ['data']"
   ]
  },
  {
   "cell_type": "code",
   "execution_count": 118,
   "id": "d8c68c04",
   "metadata": {},
   "outputs": [],
   "source": [
    "#This function uses ElementTree to parse the xml in a given 'journey' (A day has many many journeys)\n",
    "def ParseJourneyData(JourneyString):\n",
    "    root = ET.fromstring(JourneyString)\n",
    "    print('loop')\n",
    "    prefix = './/{urn:ndov:cdm:trein:reisinformatie:data:2}'\n",
    "    \n",
    "    #I don't know why but it doesn't work with ElementTree .iter method\n",
    "    #You have to manually navigate through the tree but fortunately it works with .find()\n",
    "    wrapper = root.find('{}DynamischeVertrekStaat'.format(prefix))\n",
    "    \n",
    "    #Departing Station\n",
    "    ritstation = wrapper.find('{}RitStation'.format(prefix))\n",
    "    RitStationCode = ritstation.find('{}StationCode'.format(prefix)).text\n",
    "    RitLangeNaam = ritstation.find('{}LangeNaam'.format(prefix)).text\n",
    "    \n",
    "    #Train Information\n",
    "    trein = wrapper.find('{}Trein'.format(prefix))\n",
    "    TreinNummer = trein.find('{}TreinNummer'.format(prefix)).text\n",
    "    TreinSoort = trein.find('{}TreinSoort'.format(prefix)).text\n",
    "    Vervoerder = trein.find('{}Vervoerder'.format(prefix)).text\n",
    "    \n",
    "    #Destination Station\n",
    "    treinEindBestemming = trein.find('{}TreinEindBestemming'.format(prefix))\n",
    "    BestemmingStationCode = treinEindBestemming.find('{}StationCode'.format(prefix)).text\n",
    "    BestemmingLangeNaam = treinEindBestemming.find('{}LangeNaam'.format(prefix)).text\n",
    "    \n",
    "    Vertrektijd = trein.find('{}VertrekTijd'.format(prefix)).text\n",
    "    ExacteVertrekVertraging = trein.find('{}ExacteVertrekVertraging'.format(prefix)).text\n",
    "    \n",
    "    print(TreinNummer, TreinSoort, Vervoerder, RitStationCode, RitLangeNaam, Vertrektijd, ExacteVertrekVertraging, BestemmingStationCode, BestemmingLangeNaam)\n",
    "    #Make object from this\n",
    "    \n",
    "    #Return object and after that merge with other journeys"
   ]
  },
  {
   "cell_type": "code",
   "execution_count": 119,
   "id": "dc4ca311",
   "metadata": {},
   "outputs": [
    {
     "name": "stdout",
     "output_type": "stream",
     "text": [
      "loop\n",
      "14882 Sprinter NS HLMS Haarlem Spaarnwoude 2016-01-01T00:10:00Z PT0S ASD Amsterdam Centraal\n",
      "loop\n",
      "37598 Stoptrein Arriva NSCH Bad Nieuweschans 2016-01-01T00:10:00Z PT0S GN Groningen\n"
     ]
    }
   ],
   "source": [
    "i = 0\n",
    "for row in dftest.itertuples(index=False):\n",
    "    if (i == 2): break;\n",
    "    ParseJourneyData(row.data)\n",
    "    i += 1"
   ]
  },
  {
   "cell_type": "code",
   "execution_count": 11,
   "id": "1c1b006c",
   "metadata": {},
   "outputs": [
    {
     "data": {
      "text/plain": [
       "'https://trein.fwrite.org/AMS-Aurora-archive/2016-01/DVS_2016-01-01.csv.xz'"
      ]
     },
     "execution_count": 11,
     "metadata": {},
     "output_type": "execute_result"
    }
   ],
   "source": [
    "#Here we use python datetime to iterate through each source link\n",
    "start_date = datetime.datetime(2016, 1, 1)\n",
    "\n",
    "dateI = start_date\n",
    "df_month = null\n",
    "while dateI < datetime.datetime(2016, 1, 2):\n",
    "    # link is dynamic version of 'https://trein.fwrite.org/AMS-Aurora-archive/2016-01/DVS_2016-01-01.csv.xz'\n",
    "    link = 'https://trein.fwrite.org/AMS-Aurora-archive/' + dateI.strftime(\"%Y-%m\") + '/' + 'DVS_' + dateI.strftime(\"%Y-%m-%d\") + \".csv.xz\"\n",
    "   \n",
    "    df = pd.read_csv(link, usecols = [1])\n",
    "    df.columns = ['xml']\n",
    "    \n",
    "    \n",
    "    # day incremented at end\n",
    "    dateI += datetime.timedelta(days=1)\n"
   ]
  },
  {
   "cell_type": "code",
   "execution_count": null,
   "id": "b2362de7",
   "metadata": {},
   "outputs": [],
   "source": [
    "# Loop through dataframe (each row will be one journey)\n",
    "    for i,train_data in enumerate(xml_data):\n",
    "        \n",
    "        # Check if there is always root\n",
    "        if len(root) != 0:\n",
    "            \n",
    "            # This is the prefix for each element\n",
    "            prefix = './/{urn:ndov:cdm:trein:reisinformatie:data:2}'\n",
    "            # The data wrapper\n",
    "            productDVS = root.find('{}ReisInformatieProductDVS'.format(prefix))\n",
    "            # Getting the version of the data for the day (just shows how to get attributes)\n",
    "            data_version = productDVS.attrib['Versie']\n",
    "\n",
    "            # the wrapper that contain the ritstation and the train\n",
    "            wrapper = root.find('{}DynamischeVertrekStaat'.format(prefix))\n",
    "            \n",
    "            ritstation = wrapper.find('{}RitStation'.format(prefix))\n",
    "            station_code = ritstation.find('{}StationCode'.format(prefix)).text\n",
    "            station_name = ritstation.find('{}LangeNaam'.format(prefix)).text\n",
    "            \n",
    "            print(station_code, station_name)"
   ]
  },
  {
   "cell_type": "code",
   "execution_count": 6,
   "id": "388d28a0-51c2-461c-9f6c-3bb5eb1196ae",
   "metadata": {},
   "outputs": [
    {
     "name": "stdout",
     "output_type": "stream",
     "text": [
      "HLMS Spaarnwde\n",
      "NSCH Nweschans\n",
      "DVD Duivendt\n",
      "DDRS Stadspldrs\n",
      "EMNZ Emmen Z\n",
      "BNZ Barnevld Z\n",
      "LWC Camminghab\n",
      "RTB Blaak\n",
      "KLP De Klomp\n",
      "GND Hardinxvld\n",
      "HWD Heerhugow\n",
      "DZ Delfzijl\n",
      "HK Heemskerk\n",
      "DT Delft\n",
      "WP Weesp\n",
      "ZVB Zevenbergn\n",
      "HWZB Halfweg-Zw\n",
      "HBZM Blauwe Z\n",
      "HWZB Halfweg-Zw\n",
      "VH Voorhout\n",
      "BSD Beesd\n",
      "RD Roodesch\n",
      "SHL Schiphol\n",
      "SDTB Baanhoek\n",
      "DZW Delfzijl W\n",
      "BNC Barnevld C\n",
      "ASB Bijlmer A\n",
      "ASD A'dam C\n",
      "RTD R'dam C\n",
      "HGV Hoogeveen\n",
      "GERP Europapark\n"
     ]
    }
   ],
   "source": [
    "smalldf = df.head(39)\n",
    "GetTrainDayData(smalldf)\n"
   ]
  },
  {
   "cell_type": "code",
   "execution_count": null,
   "id": "f8092453-3e1a-4d97-b909-7d63e956d02b",
   "metadata": {},
   "outputs": [],
   "source": []
  }
 ],
 "metadata": {
  "kernelspec": {
   "display_name": "Python 3 (ipykernel)",
   "language": "python",
   "name": "python3"
  },
  "language_info": {
   "codemirror_mode": {
    "name": "ipython",
    "version": 3
   },
   "file_extension": ".py",
   "mimetype": "text/x-python",
   "name": "python",
   "nbconvert_exporter": "python",
   "pygments_lexer": "ipython3",
   "version": "3.9.7"
  }
 },
 "nbformat": 4,
 "nbformat_minor": 5
}
