{
 "cells": [
  {
   "cell_type": "markdown",
   "id": "a770019c",
   "metadata": {},
   "source": [
    "# Train data preparation"
   ]
  },
  {
   "cell_type": "code",
   "execution_count": 1,
   "id": "194fedcc",
   "metadata": {},
   "outputs": [],
   "source": [
    "import pandas as pd\n",
    "import xmltodict, json\n",
    "import numpy as np\n",
    "import xml.etree.ElementTree as ET"
   ]
  },
  {
   "cell_type": "code",
   "execution_count": 2,
   "id": "1c1b006c",
   "metadata": {
    "scrolled": false
   },
   "outputs": [],
   "source": [
    "df = pd.read_csv('https://trein.fwrite.org/AMS-Aurora-archive/2016-01/DVS_2016-01-01.csv.xz')\n",
    "df.columns = [\"date\", \"data\", \"code\"]"
   ]
  },
  {
   "cell_type": "code",
   "execution_count": 8,
   "id": "2b2baba0",
   "metadata": {},
   "outputs": [],
   "source": [
    "# Defining RitStation class here\n",
    "class RitStation:\n",
    "    def __init__(self, StationCode,KorteNaam, LangeNaam):\n",
    "        self.StationCode = StationCode\n",
    "        self.KorteNaam = KorteNaam\n",
    "        self.LangeNaam = LangeNaam\n",
    "\n",
    "# Defining Train class here\n",
    "# TODO"
   ]
  },
  {
   "cell_type": "code",
   "execution_count": 9,
   "id": "d8c68c04",
   "metadata": {},
   "outputs": [],
   "source": [
    "# Getting only 10 rows\n",
    "smalldf = df.head(10)\n",
    "\n",
    "# Gets only 1 row for now (Loop must be added to go through every row)\n",
    "xml_data = smalldf[\"data\"][1]\n",
    "\n",
    "root = ET.fromstring(xml_data)\n",
    "\n",
    "# Gets the elements manually\n",
    "# Ritstation contain it's properties, same for train\n",
    "wrapper = root[0][1]\n",
    "ritstation = wrapper[2]\n",
    "train = wrapper[3]\n",
    "# Planned and actual stations are part of the train parent\n",
    "planned_station = train[11]\n",
    "actual_station = train[12]"
   ]
  },
  {
   "cell_type": "code",
   "execution_count": 10,
   "id": "20e36fc1",
   "metadata": {},
   "outputs": [],
   "source": [
    "# Gets the properties of the ritstation manually\n",
    "statcode = ritstation[0].text\n",
    "kortenaam = ritstation[2].text\n",
    "langenaam = ritstation[4].text\n",
    "\n",
    "# Here the ritstation object is created with the data above\n",
    "station = RitStation(statcode,kortenaam,langenaam)"
   ]
  },
  {
   "cell_type": "code",
   "execution_count": 11,
   "id": "f6d0c085",
   "metadata": {},
   "outputs": [
    {
     "data": {
      "text/html": [
       "<div>\n",
       "<style scoped>\n",
       "    .dataframe tbody tr th:only-of-type {\n",
       "        vertical-align: middle;\n",
       "    }\n",
       "\n",
       "    .dataframe tbody tr th {\n",
       "        vertical-align: top;\n",
       "    }\n",
       "\n",
       "    .dataframe thead th {\n",
       "        text-align: right;\n",
       "    }\n",
       "</style>\n",
       "<table border=\"1\" class=\"dataframe\">\n",
       "  <thead>\n",
       "    <tr style=\"text-align: right;\">\n",
       "      <th></th>\n",
       "      <th>0</th>\n",
       "    </tr>\n",
       "  </thead>\n",
       "  <tbody>\n",
       "    <tr>\n",
       "      <th>StationCode</th>\n",
       "      <td>NSCH</td>\n",
       "    </tr>\n",
       "    <tr>\n",
       "      <th>KorteNaam</th>\n",
       "      <td>Nweschans</td>\n",
       "    </tr>\n",
       "    <tr>\n",
       "      <th>LangeNaam</th>\n",
       "      <td>Bad Nieuweschans</td>\n",
       "    </tr>\n",
       "  </tbody>\n",
       "</table>\n",
       "</div>"
      ],
      "text/plain": [
       "                            0\n",
       "StationCode              NSCH\n",
       "KorteNaam           Nweschans\n",
       "LangeNaam    Bad Nieuweschans"
      ]
     },
     "execution_count": 11,
     "metadata": {},
     "output_type": "execute_result"
    }
   ],
   "source": [
    "# Dataframe is created to visualize the object\n",
    "df_station = pd.DataFrame(station.__dict__.values(),station.__dict__.keys())\n",
    "df_station\n",
    "\n",
    "# Somehow the columns appear to be rows and I have no idea from where the 0 comes"
   ]
  },
  {
   "cell_type": "code",
   "execution_count": null,
   "id": "216c787c",
   "metadata": {},
   "outputs": [],
   "source": []
  }
 ],
 "metadata": {
  "kernelspec": {
   "display_name": "Python 3 (ipykernel)",
   "language": "python",
   "name": "python3"
  },
  "language_info": {
   "codemirror_mode": {
    "name": "ipython",
    "version": 3
   },
   "file_extension": ".py",
   "mimetype": "text/x-python",
   "name": "python",
   "nbconvert_exporter": "python",
   "pygments_lexer": "ipython3",
   "version": "3.9.7"
  }
 },
 "nbformat": 4,
 "nbformat_minor": 5
}
