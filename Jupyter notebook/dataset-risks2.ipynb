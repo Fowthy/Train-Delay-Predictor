{
 "cells": [
  {
   "cell_type": "markdown",
   "id": "bf3bf4c1-33d0-4fae-b743-3b30378a4727",
   "metadata": {},
   "source": [
    "## Dataset risks"
   ]
  },
  {
   "cell_type": "markdown",
   "id": "763bff4d-1c6f-4f36-a139-c14a3fa72d94",
   "metadata": {},
   "source": [
    "<ul>\n",
    "    <li>The dataset contains NaN values, which may affect the machine learning model accuracy. We don't know for sure why the data is missing, which makes it hard to fit with defined by us values.</li>\n",
    "    <li>There may be not enough features or data in order to get high accuracy score.</li>\n",
    "    <li>The dataset is not balanced. There are much more train departures without delay rather than departures with delay. This means the algorithm may not give accurate results. With oversampling the data, weird train journeys are created, which are practically impossible, therefore it is not a good option. Downsampling the data will result in much less data to work with, which also results to lower accuracy score. </li>\n",
    "    <li>The dataset is from 2016. Compared to the previous 2 years, we faced a pandemic and more global events, that may result in different predictions by the models that are trained with data from 2016.</li>\n",
    "</ul>"
   ]
  }
 ],
 "metadata": {
  "kernelspec": {
   "display_name": "Python 3 (ipykernel)",
   "language": "python",
   "name": "python3"
  },
  "language_info": {
   "codemirror_mode": {
    "name": "ipython",
    "version": 3
   },
   "file_extension": ".py",
   "mimetype": "text/x-python",
   "name": "python",
   "nbconvert_exporter": "python",
   "pygments_lexer": "ipython3",
   "version": "3.9.12"
  }
 },
 "nbformat": 4,
 "nbformat_minor": 5
}
