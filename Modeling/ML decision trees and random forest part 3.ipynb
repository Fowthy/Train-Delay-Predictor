{
 "cells": [
  {
   "cell_type": "markdown",
   "id": "4e350409",
   "metadata": {},
   "source": [
    "# Decision trees and random forest\n",
    "## Preprocessing"
   ]
  },
  {
   "cell_type": "code",
   "execution_count": 2,
   "id": "53cd142d",
   "metadata": {},
   "outputs": [],
   "source": [
    "#you first need to download the data from teams and put it in the same folder as this to be able to load the script\n",
    "#here i load the libraries and set the theme to seaborn\n",
    "import numpy as np\n",
    "import pandas as pd\n",
    "import sklearn as sk\n",
    "import matplotlib\n",
    "import matplotlib.pyplot as plt\n",
    "from IPython.display import display\n",
    "import seaborn as sns\n",
    "import datetime\n",
    "import imblearn\n",
    "import collections\n",
    "sns.set_theme()"
   ]
  },
  {
   "cell_type": "code",
   "execution_count": 3,
   "id": "aafa2c56",
   "metadata": {},
   "outputs": [
    {
     "data": {
      "text/html": [
       "<div>\n",
       "<style scoped>\n",
       "    .dataframe tbody tr th:only-of-type {\n",
       "        vertical-align: middle;\n",
       "    }\n",
       "\n",
       "    .dataframe tbody tr th {\n",
       "        vertical-align: top;\n",
       "    }\n",
       "\n",
       "    .dataframe thead th {\n",
       "        text-align: right;\n",
       "    }\n",
       "</style>\n",
       "<table border=\"1\" class=\"dataframe\">\n",
       "  <thead>\n",
       "    <tr style=\"text-align: right;\">\n",
       "      <th></th>\n",
       "      <th>Unnamed: 0</th>\n",
       "      <th>Station_Code</th>\n",
       "      <th>Station_Name</th>\n",
       "      <th>Train_Number</th>\n",
       "      <th>Train_Type</th>\n",
       "      <th>Train_Company</th>\n",
       "      <th>Train_Destination_Planned</th>\n",
       "      <th>Train_Destination_Actual</th>\n",
       "      <th>Train_Departure_Planned</th>\n",
       "      <th>Train_Departure_Actual</th>\n",
       "      <th>Train_Delay</th>\n",
       "      <th>MaxNumberOfStops</th>\n",
       "      <th>weekday</th>\n",
       "      <th>day_of_week</th>\n",
       "      <th>Train_Departure_Planned_Time</th>\n",
       "      <th>Time_Group</th>\n",
       "    </tr>\n",
       "  </thead>\n",
       "  <tbody>\n",
       "    <tr>\n",
       "      <th>0</th>\n",
       "      <td>0</td>\n",
       "      <td>HRL</td>\n",
       "      <td>Heerlen</td>\n",
       "      <td>3528</td>\n",
       "      <td>Intercity</td>\n",
       "      <td>NS</td>\n",
       "      <td>Schiphol Airport</td>\n",
       "      <td>Schiphol Airport</td>\n",
       "      <td>2016-01-01 06:44:00</td>\n",
       "      <td>2016-01-01 06:44:00</td>\n",
       "      <td>0.0</td>\n",
       "      <td>10</td>\n",
       "      <td>4</td>\n",
       "      <td>Friday</td>\n",
       "      <td>64400</td>\n",
       "      <td>Morning_Rush_Hour</td>\n",
       "    </tr>\n",
       "    <tr>\n",
       "      <th>1</th>\n",
       "      <td>1</td>\n",
       "      <td>EHV</td>\n",
       "      <td>Eindhoven</td>\n",
       "      <td>3524</td>\n",
       "      <td>Intercity</td>\n",
       "      <td>NS</td>\n",
       "      <td>Schiphol Airport</td>\n",
       "      <td>Schiphol Airport</td>\n",
       "      <td>2016-01-01 06:48:00</td>\n",
       "      <td>2016-01-01 06:48:00</td>\n",
       "      <td>0.0</td>\n",
       "      <td>10</td>\n",
       "      <td>4</td>\n",
       "      <td>Friday</td>\n",
       "      <td>64800</td>\n",
       "      <td>Morning_Rush_Hour</td>\n",
       "    </tr>\n",
       "    <tr>\n",
       "      <th>2</th>\n",
       "      <td>2</td>\n",
       "      <td>STD</td>\n",
       "      <td>Sittard</td>\n",
       "      <td>3528</td>\n",
       "      <td>Intercity</td>\n",
       "      <td>NS</td>\n",
       "      <td>Schiphol Airport</td>\n",
       "      <td>Schiphol Airport</td>\n",
       "      <td>2016-01-01 07:00:00</td>\n",
       "      <td>2016-01-01 07:00:00</td>\n",
       "      <td>0.0</td>\n",
       "      <td>10</td>\n",
       "      <td>4</td>\n",
       "      <td>Friday</td>\n",
       "      <td>70000</td>\n",
       "      <td>Morning_Rush_Hour</td>\n",
       "    </tr>\n",
       "    <tr>\n",
       "      <th>3</th>\n",
       "      <td>3</td>\n",
       "      <td>DV</td>\n",
       "      <td>Deventer</td>\n",
       "      <td>1624</td>\n",
       "      <td>Intercity</td>\n",
       "      <td>NS</td>\n",
       "      <td>Schiphol Airport</td>\n",
       "      <td>Schiphol Airport</td>\n",
       "      <td>2016-01-01 07:02:00</td>\n",
       "      <td>2016-01-01 07:02:00</td>\n",
       "      <td>0.0</td>\n",
       "      <td>10</td>\n",
       "      <td>4</td>\n",
       "      <td>Friday</td>\n",
       "      <td>70200</td>\n",
       "      <td>Morning_Rush_Hour</td>\n",
       "    </tr>\n",
       "    <tr>\n",
       "      <th>4</th>\n",
       "      <td>4</td>\n",
       "      <td>HT</td>\n",
       "      <td>'s-Hertogenbosch</td>\n",
       "      <td>3524</td>\n",
       "      <td>Intercity</td>\n",
       "      <td>NS</td>\n",
       "      <td>Schiphol Airport</td>\n",
       "      <td>Schiphol Airport</td>\n",
       "      <td>2016-01-01 07:09:00</td>\n",
       "      <td>2016-01-01 07:09:00</td>\n",
       "      <td>0.0</td>\n",
       "      <td>10</td>\n",
       "      <td>4</td>\n",
       "      <td>Friday</td>\n",
       "      <td>70900</td>\n",
       "      <td>Morning_Rush_Hour</td>\n",
       "    </tr>\n",
       "    <tr>\n",
       "      <th>...</th>\n",
       "      <td>...</td>\n",
       "      <td>...</td>\n",
       "      <td>...</td>\n",
       "      <td>...</td>\n",
       "      <td>...</td>\n",
       "      <td>...</td>\n",
       "      <td>...</td>\n",
       "      <td>...</td>\n",
       "      <td>...</td>\n",
       "      <td>...</td>\n",
       "      <td>...</td>\n",
       "      <td>...</td>\n",
       "      <td>...</td>\n",
       "      <td>...</td>\n",
       "      <td>...</td>\n",
       "      <td>...</td>\n",
       "    </tr>\n",
       "    <tr>\n",
       "      <th>76310</th>\n",
       "      <td>76310</td>\n",
       "      <td>HVS</td>\n",
       "      <td>Hilversum</td>\n",
       "      <td>1684</td>\n",
       "      <td>Intercity</td>\n",
       "      <td>NS</td>\n",
       "      <td>Schiphol Airport</td>\n",
       "      <td>Schiphol Airport</td>\n",
       "      <td>2016-01-31 22:53:00</td>\n",
       "      <td>2016-01-31 22:53:00</td>\n",
       "      <td>0.0</td>\n",
       "      <td>13</td>\n",
       "      <td>6</td>\n",
       "      <td>Sunday</td>\n",
       "      <td>225300</td>\n",
       "      <td>Night</td>\n",
       "    </tr>\n",
       "    <tr>\n",
       "      <th>76311</th>\n",
       "      <td>76311</td>\n",
       "      <td>AMF</td>\n",
       "      <td>Amersfoort</td>\n",
       "      <td>11686</td>\n",
       "      <td>Intercity</td>\n",
       "      <td>NS</td>\n",
       "      <td>Schiphol Airport</td>\n",
       "      <td>Schiphol Airport</td>\n",
       "      <td>2016-01-31 23:10:00</td>\n",
       "      <td>2016-01-31 23:10:00</td>\n",
       "      <td>0.0</td>\n",
       "      <td>6</td>\n",
       "      <td>6</td>\n",
       "      <td>Sunday</td>\n",
       "      <td>231000</td>\n",
       "      <td>Night</td>\n",
       "    </tr>\n",
       "    <tr>\n",
       "      <th>76312</th>\n",
       "      <td>76312</td>\n",
       "      <td>DVD</td>\n",
       "      <td>Duivendrecht</td>\n",
       "      <td>11686</td>\n",
       "      <td>Intercity</td>\n",
       "      <td>NS</td>\n",
       "      <td>Schiphol Airport</td>\n",
       "      <td>Schiphol Airport</td>\n",
       "      <td>2016-01-31 23:40:00</td>\n",
       "      <td>2016-01-31 23:40:00</td>\n",
       "      <td>0.0</td>\n",
       "      <td>6</td>\n",
       "      <td>6</td>\n",
       "      <td>Sunday</td>\n",
       "      <td>234000</td>\n",
       "      <td>Night</td>\n",
       "    </tr>\n",
       "    <tr>\n",
       "      <th>76313</th>\n",
       "      <td>76313</td>\n",
       "      <td>ASDZ</td>\n",
       "      <td>Amsterdam Zuid</td>\n",
       "      <td>11686</td>\n",
       "      <td>Intercity</td>\n",
       "      <td>NS</td>\n",
       "      <td>Schiphol Airport</td>\n",
       "      <td>Schiphol Airport</td>\n",
       "      <td>2016-01-31 23:46:00</td>\n",
       "      <td>2016-01-31 23:46:00</td>\n",
       "      <td>0.0</td>\n",
       "      <td>6</td>\n",
       "      <td>6</td>\n",
       "      <td>Sunday</td>\n",
       "      <td>234600</td>\n",
       "      <td>Night</td>\n",
       "    </tr>\n",
       "    <tr>\n",
       "      <th>76314</th>\n",
       "      <td>76314</td>\n",
       "      <td>HVS</td>\n",
       "      <td>Hilversum</td>\n",
       "      <td>11686</td>\n",
       "      <td>Intercity</td>\n",
       "      <td>NS</td>\n",
       "      <td>Schiphol Airport</td>\n",
       "      <td>Schiphol Airport</td>\n",
       "      <td>2016-01-31 23:23:00</td>\n",
       "      <td>2016-01-31 23:23:00</td>\n",
       "      <td>0.0</td>\n",
       "      <td>6</td>\n",
       "      <td>6</td>\n",
       "      <td>Sunday</td>\n",
       "      <td>232300</td>\n",
       "      <td>Night</td>\n",
       "    </tr>\n",
       "  </tbody>\n",
       "</table>\n",
       "<p>76315 rows × 16 columns</p>\n",
       "</div>"
      ],
      "text/plain": [
       "       Unnamed: 0 Station_Code      Station_Name  Train_Number Train_Type  \\\n",
       "0               0          HRL           Heerlen          3528  Intercity   \n",
       "1               1          EHV         Eindhoven          3524  Intercity   \n",
       "2               2          STD           Sittard          3528  Intercity   \n",
       "3               3           DV          Deventer          1624  Intercity   \n",
       "4               4           HT  's-Hertogenbosch          3524  Intercity   \n",
       "...           ...          ...               ...           ...        ...   \n",
       "76310       76310          HVS         Hilversum          1684  Intercity   \n",
       "76311       76311          AMF        Amersfoort         11686  Intercity   \n",
       "76312       76312          DVD      Duivendrecht         11686  Intercity   \n",
       "76313       76313         ASDZ    Amsterdam Zuid         11686  Intercity   \n",
       "76314       76314          HVS         Hilversum         11686  Intercity   \n",
       "\n",
       "      Train_Company Train_Destination_Planned Train_Destination_Actual  \\\n",
       "0                NS          Schiphol Airport         Schiphol Airport   \n",
       "1                NS          Schiphol Airport         Schiphol Airport   \n",
       "2                NS          Schiphol Airport         Schiphol Airport   \n",
       "3                NS          Schiphol Airport         Schiphol Airport   \n",
       "4                NS          Schiphol Airport         Schiphol Airport   \n",
       "...             ...                       ...                      ...   \n",
       "76310            NS          Schiphol Airport         Schiphol Airport   \n",
       "76311            NS          Schiphol Airport         Schiphol Airport   \n",
       "76312            NS          Schiphol Airport         Schiphol Airport   \n",
       "76313            NS          Schiphol Airport         Schiphol Airport   \n",
       "76314            NS          Schiphol Airport         Schiphol Airport   \n",
       "\n",
       "      Train_Departure_Planned Train_Departure_Actual  Train_Delay  \\\n",
       "0         2016-01-01 06:44:00    2016-01-01 06:44:00          0.0   \n",
       "1         2016-01-01 06:48:00    2016-01-01 06:48:00          0.0   \n",
       "2         2016-01-01 07:00:00    2016-01-01 07:00:00          0.0   \n",
       "3         2016-01-01 07:02:00    2016-01-01 07:02:00          0.0   \n",
       "4         2016-01-01 07:09:00    2016-01-01 07:09:00          0.0   \n",
       "...                       ...                    ...          ...   \n",
       "76310     2016-01-31 22:53:00    2016-01-31 22:53:00          0.0   \n",
       "76311     2016-01-31 23:10:00    2016-01-31 23:10:00          0.0   \n",
       "76312     2016-01-31 23:40:00    2016-01-31 23:40:00          0.0   \n",
       "76313     2016-01-31 23:46:00    2016-01-31 23:46:00          0.0   \n",
       "76314     2016-01-31 23:23:00    2016-01-31 23:23:00          0.0   \n",
       "\n",
       "       MaxNumberOfStops  weekday day_of_week  Train_Departure_Planned_Time  \\\n",
       "0                    10        4      Friday                         64400   \n",
       "1                    10        4      Friday                         64800   \n",
       "2                    10        4      Friday                         70000   \n",
       "3                    10        4      Friday                         70200   \n",
       "4                    10        4      Friday                         70900   \n",
       "...                 ...      ...         ...                           ...   \n",
       "76310                13        6      Sunday                        225300   \n",
       "76311                 6        6      Sunday                        231000   \n",
       "76312                 6        6      Sunday                        234000   \n",
       "76313                 6        6      Sunday                        234600   \n",
       "76314                 6        6      Sunday                        232300   \n",
       "\n",
       "              Time_Group  \n",
       "0      Morning_Rush_Hour  \n",
       "1      Morning_Rush_Hour  \n",
       "2      Morning_Rush_Hour  \n",
       "3      Morning_Rush_Hour  \n",
       "4      Morning_Rush_Hour  \n",
       "...                  ...  \n",
       "76310              Night  \n",
       "76311              Night  \n",
       "76312              Night  \n",
       "76313              Night  \n",
       "76314              Night  \n",
       "\n",
       "[76315 rows x 16 columns]"
      ]
     },
     "execution_count": 3,
     "metadata": {},
     "output_type": "execute_result"
    }
   ],
   "source": [
    "#here i read the csv file and save it in a dataframe\n",
    "df= pd.read_csv('January_Schiphol_Time_Groups.csv')\n",
    "df"
   ]
  },
  {
   "cell_type": "code",
   "execution_count": 4,
   "id": "310baa53",
   "metadata": {},
   "outputs": [
    {
     "data": {
      "text/html": [
       "<div>\n",
       "<style scoped>\n",
       "    .dataframe tbody tr th:only-of-type {\n",
       "        vertical-align: middle;\n",
       "    }\n",
       "\n",
       "    .dataframe tbody tr th {\n",
       "        vertical-align: top;\n",
       "    }\n",
       "\n",
       "    .dataframe thead th {\n",
       "        text-align: right;\n",
       "    }\n",
       "</style>\n",
       "<table border=\"1\" class=\"dataframe\">\n",
       "  <thead>\n",
       "    <tr style=\"text-align: right;\">\n",
       "      <th></th>\n",
       "      <th>'s-Hertogenbosch</th>\n",
       "      <th>Almelo</th>\n",
       "      <th>Almere Centrum</th>\n",
       "      <th>Amersfoort</th>\n",
       "      <th>Amersfoort Schothorst</th>\n",
       "      <th>Amsterdam Bijlmer ArenA</th>\n",
       "      <th>Amsterdam RAI</th>\n",
       "      <th>Amsterdam Zuid</th>\n",
       "      <th>Apeldoorn</th>\n",
       "      <th>Apeldoorn Osseveld</th>\n",
       "      <th>...</th>\n",
       "      <th>Schiphol Airport</th>\n",
       "      <th>Sittard</th>\n",
       "      <th>Twello</th>\n",
       "      <th>Utrecht Centraal</th>\n",
       "      <th>Utrecht Overvecht</th>\n",
       "      <th>Veenendaal-De Klomp</th>\n",
       "      <th>Weert</th>\n",
       "      <th>Wierden</th>\n",
       "      <th>Wolfheze</th>\n",
       "      <th>Zaltbommel</th>\n",
       "    </tr>\n",
       "  </thead>\n",
       "  <tbody>\n",
       "    <tr>\n",
       "      <th>0</th>\n",
       "      <td>0</td>\n",
       "      <td>0</td>\n",
       "      <td>0</td>\n",
       "      <td>0</td>\n",
       "      <td>0</td>\n",
       "      <td>0</td>\n",
       "      <td>0</td>\n",
       "      <td>0</td>\n",
       "      <td>0</td>\n",
       "      <td>0</td>\n",
       "      <td>...</td>\n",
       "      <td>0</td>\n",
       "      <td>0</td>\n",
       "      <td>0</td>\n",
       "      <td>0</td>\n",
       "      <td>0</td>\n",
       "      <td>0</td>\n",
       "      <td>0</td>\n",
       "      <td>0</td>\n",
       "      <td>0</td>\n",
       "      <td>0</td>\n",
       "    </tr>\n",
       "    <tr>\n",
       "      <th>1</th>\n",
       "      <td>0</td>\n",
       "      <td>0</td>\n",
       "      <td>0</td>\n",
       "      <td>0</td>\n",
       "      <td>0</td>\n",
       "      <td>0</td>\n",
       "      <td>0</td>\n",
       "      <td>0</td>\n",
       "      <td>0</td>\n",
       "      <td>0</td>\n",
       "      <td>...</td>\n",
       "      <td>0</td>\n",
       "      <td>0</td>\n",
       "      <td>0</td>\n",
       "      <td>0</td>\n",
       "      <td>0</td>\n",
       "      <td>0</td>\n",
       "      <td>0</td>\n",
       "      <td>0</td>\n",
       "      <td>0</td>\n",
       "      <td>0</td>\n",
       "    </tr>\n",
       "    <tr>\n",
       "      <th>2</th>\n",
       "      <td>0</td>\n",
       "      <td>0</td>\n",
       "      <td>0</td>\n",
       "      <td>0</td>\n",
       "      <td>0</td>\n",
       "      <td>0</td>\n",
       "      <td>0</td>\n",
       "      <td>0</td>\n",
       "      <td>0</td>\n",
       "      <td>0</td>\n",
       "      <td>...</td>\n",
       "      <td>0</td>\n",
       "      <td>1</td>\n",
       "      <td>0</td>\n",
       "      <td>0</td>\n",
       "      <td>0</td>\n",
       "      <td>0</td>\n",
       "      <td>0</td>\n",
       "      <td>0</td>\n",
       "      <td>0</td>\n",
       "      <td>0</td>\n",
       "    </tr>\n",
       "    <tr>\n",
       "      <th>3</th>\n",
       "      <td>0</td>\n",
       "      <td>0</td>\n",
       "      <td>0</td>\n",
       "      <td>0</td>\n",
       "      <td>0</td>\n",
       "      <td>0</td>\n",
       "      <td>0</td>\n",
       "      <td>0</td>\n",
       "      <td>0</td>\n",
       "      <td>0</td>\n",
       "      <td>...</td>\n",
       "      <td>0</td>\n",
       "      <td>0</td>\n",
       "      <td>0</td>\n",
       "      <td>0</td>\n",
       "      <td>0</td>\n",
       "      <td>0</td>\n",
       "      <td>0</td>\n",
       "      <td>0</td>\n",
       "      <td>0</td>\n",
       "      <td>0</td>\n",
       "    </tr>\n",
       "    <tr>\n",
       "      <th>4</th>\n",
       "      <td>1</td>\n",
       "      <td>0</td>\n",
       "      <td>0</td>\n",
       "      <td>0</td>\n",
       "      <td>0</td>\n",
       "      <td>0</td>\n",
       "      <td>0</td>\n",
       "      <td>0</td>\n",
       "      <td>0</td>\n",
       "      <td>0</td>\n",
       "      <td>...</td>\n",
       "      <td>0</td>\n",
       "      <td>0</td>\n",
       "      <td>0</td>\n",
       "      <td>0</td>\n",
       "      <td>0</td>\n",
       "      <td>0</td>\n",
       "      <td>0</td>\n",
       "      <td>0</td>\n",
       "      <td>0</td>\n",
       "      <td>0</td>\n",
       "    </tr>\n",
       "    <tr>\n",
       "      <th>...</th>\n",
       "      <td>...</td>\n",
       "      <td>...</td>\n",
       "      <td>...</td>\n",
       "      <td>...</td>\n",
       "      <td>...</td>\n",
       "      <td>...</td>\n",
       "      <td>...</td>\n",
       "      <td>...</td>\n",
       "      <td>...</td>\n",
       "      <td>...</td>\n",
       "      <td>...</td>\n",
       "      <td>...</td>\n",
       "      <td>...</td>\n",
       "      <td>...</td>\n",
       "      <td>...</td>\n",
       "      <td>...</td>\n",
       "      <td>...</td>\n",
       "      <td>...</td>\n",
       "      <td>...</td>\n",
       "      <td>...</td>\n",
       "      <td>...</td>\n",
       "    </tr>\n",
       "    <tr>\n",
       "      <th>76310</th>\n",
       "      <td>0</td>\n",
       "      <td>0</td>\n",
       "      <td>0</td>\n",
       "      <td>0</td>\n",
       "      <td>0</td>\n",
       "      <td>0</td>\n",
       "      <td>0</td>\n",
       "      <td>0</td>\n",
       "      <td>0</td>\n",
       "      <td>0</td>\n",
       "      <td>...</td>\n",
       "      <td>0</td>\n",
       "      <td>0</td>\n",
       "      <td>0</td>\n",
       "      <td>0</td>\n",
       "      <td>0</td>\n",
       "      <td>0</td>\n",
       "      <td>0</td>\n",
       "      <td>0</td>\n",
       "      <td>0</td>\n",
       "      <td>0</td>\n",
       "    </tr>\n",
       "    <tr>\n",
       "      <th>76311</th>\n",
       "      <td>0</td>\n",
       "      <td>0</td>\n",
       "      <td>0</td>\n",
       "      <td>1</td>\n",
       "      <td>0</td>\n",
       "      <td>0</td>\n",
       "      <td>0</td>\n",
       "      <td>0</td>\n",
       "      <td>0</td>\n",
       "      <td>0</td>\n",
       "      <td>...</td>\n",
       "      <td>0</td>\n",
       "      <td>0</td>\n",
       "      <td>0</td>\n",
       "      <td>0</td>\n",
       "      <td>0</td>\n",
       "      <td>0</td>\n",
       "      <td>0</td>\n",
       "      <td>0</td>\n",
       "      <td>0</td>\n",
       "      <td>0</td>\n",
       "    </tr>\n",
       "    <tr>\n",
       "      <th>76312</th>\n",
       "      <td>0</td>\n",
       "      <td>0</td>\n",
       "      <td>0</td>\n",
       "      <td>0</td>\n",
       "      <td>0</td>\n",
       "      <td>0</td>\n",
       "      <td>0</td>\n",
       "      <td>0</td>\n",
       "      <td>0</td>\n",
       "      <td>0</td>\n",
       "      <td>...</td>\n",
       "      <td>0</td>\n",
       "      <td>0</td>\n",
       "      <td>0</td>\n",
       "      <td>0</td>\n",
       "      <td>0</td>\n",
       "      <td>0</td>\n",
       "      <td>0</td>\n",
       "      <td>0</td>\n",
       "      <td>0</td>\n",
       "      <td>0</td>\n",
       "    </tr>\n",
       "    <tr>\n",
       "      <th>76313</th>\n",
       "      <td>0</td>\n",
       "      <td>0</td>\n",
       "      <td>0</td>\n",
       "      <td>0</td>\n",
       "      <td>0</td>\n",
       "      <td>0</td>\n",
       "      <td>0</td>\n",
       "      <td>1</td>\n",
       "      <td>0</td>\n",
       "      <td>0</td>\n",
       "      <td>...</td>\n",
       "      <td>0</td>\n",
       "      <td>0</td>\n",
       "      <td>0</td>\n",
       "      <td>0</td>\n",
       "      <td>0</td>\n",
       "      <td>0</td>\n",
       "      <td>0</td>\n",
       "      <td>0</td>\n",
       "      <td>0</td>\n",
       "      <td>0</td>\n",
       "    </tr>\n",
       "    <tr>\n",
       "      <th>76314</th>\n",
       "      <td>0</td>\n",
       "      <td>0</td>\n",
       "      <td>0</td>\n",
       "      <td>0</td>\n",
       "      <td>0</td>\n",
       "      <td>0</td>\n",
       "      <td>0</td>\n",
       "      <td>0</td>\n",
       "      <td>0</td>\n",
       "      <td>0</td>\n",
       "      <td>...</td>\n",
       "      <td>0</td>\n",
       "      <td>0</td>\n",
       "      <td>0</td>\n",
       "      <td>0</td>\n",
       "      <td>0</td>\n",
       "      <td>0</td>\n",
       "      <td>0</td>\n",
       "      <td>0</td>\n",
       "      <td>0</td>\n",
       "      <td>0</td>\n",
       "    </tr>\n",
       "  </tbody>\n",
       "</table>\n",
       "<p>76315 rows × 40 columns</p>\n",
       "</div>"
      ],
      "text/plain": [
       "       's-Hertogenbosch  Almelo  Almere Centrum  Amersfoort  \\\n",
       "0                     0       0               0           0   \n",
       "1                     0       0               0           0   \n",
       "2                     0       0               0           0   \n",
       "3                     0       0               0           0   \n",
       "4                     1       0               0           0   \n",
       "...                 ...     ...             ...         ...   \n",
       "76310                 0       0               0           0   \n",
       "76311                 0       0               0           1   \n",
       "76312                 0       0               0           0   \n",
       "76313                 0       0               0           0   \n",
       "76314                 0       0               0           0   \n",
       "\n",
       "       Amersfoort Schothorst  Amsterdam Bijlmer ArenA  Amsterdam RAI  \\\n",
       "0                          0                        0              0   \n",
       "1                          0                        0              0   \n",
       "2                          0                        0              0   \n",
       "3                          0                        0              0   \n",
       "4                          0                        0              0   \n",
       "...                      ...                      ...            ...   \n",
       "76310                      0                        0              0   \n",
       "76311                      0                        0              0   \n",
       "76312                      0                        0              0   \n",
       "76313                      0                        0              0   \n",
       "76314                      0                        0              0   \n",
       "\n",
       "       Amsterdam Zuid  Apeldoorn  Apeldoorn Osseveld  ...  Schiphol Airport  \\\n",
       "0                   0          0                   0  ...                 0   \n",
       "1                   0          0                   0  ...                 0   \n",
       "2                   0          0                   0  ...                 0   \n",
       "3                   0          0                   0  ...                 0   \n",
       "4                   0          0                   0  ...                 0   \n",
       "...               ...        ...                 ...  ...               ...   \n",
       "76310               0          0                   0  ...                 0   \n",
       "76311               0          0                   0  ...                 0   \n",
       "76312               0          0                   0  ...                 0   \n",
       "76313               1          0                   0  ...                 0   \n",
       "76314               0          0                   0  ...                 0   \n",
       "\n",
       "       Sittard  Twello  Utrecht Centraal  Utrecht Overvecht  \\\n",
       "0            0       0                 0                  0   \n",
       "1            0       0                 0                  0   \n",
       "2            1       0                 0                  0   \n",
       "3            0       0                 0                  0   \n",
       "4            0       0                 0                  0   \n",
       "...        ...     ...               ...                ...   \n",
       "76310        0       0                 0                  0   \n",
       "76311        0       0                 0                  0   \n",
       "76312        0       0                 0                  0   \n",
       "76313        0       0                 0                  0   \n",
       "76314        0       0                 0                  0   \n",
       "\n",
       "       Veenendaal-De Klomp  Weert  Wierden  Wolfheze  Zaltbommel  \n",
       "0                        0      0        0         0           0  \n",
       "1                        0      0        0         0           0  \n",
       "2                        0      0        0         0           0  \n",
       "3                        0      0        0         0           0  \n",
       "4                        0      0        0         0           0  \n",
       "...                    ...    ...      ...       ...         ...  \n",
       "76310                    0      0        0         0           0  \n",
       "76311                    0      0        0         0           0  \n",
       "76312                    0      0        0         0           0  \n",
       "76313                    0      0        0         0           0  \n",
       "76314                    0      0        0         0           0  \n",
       "\n",
       "[76315 rows x 40 columns]"
      ]
     },
     "execution_count": 4,
     "metadata": {},
     "output_type": "execute_result"
    }
   ],
   "source": [
    "#here i make dummies from the different station names so i can use it for the random forest and decision trees algerithms\n",
    "StationDummies=pd.get_dummies(df['Station_Name'])\n",
    "StationDummies"
   ]
  },
  {
   "cell_type": "code",
   "execution_count": 5,
   "id": "d251b911",
   "metadata": {},
   "outputs": [
    {
     "data": {
      "text/html": [
       "<div>\n",
       "<style scoped>\n",
       "    .dataframe tbody tr th:only-of-type {\n",
       "        vertical-align: middle;\n",
       "    }\n",
       "\n",
       "    .dataframe tbody tr th {\n",
       "        vertical-align: top;\n",
       "    }\n",
       "\n",
       "    .dataframe thead th {\n",
       "        text-align: right;\n",
       "    }\n",
       "</style>\n",
       "<table border=\"1\" class=\"dataframe\">\n",
       "  <thead>\n",
       "    <tr style=\"text-align: right;\">\n",
       "      <th></th>\n",
       "      <th>Friday</th>\n",
       "      <th>Monday</th>\n",
       "      <th>Saturday</th>\n",
       "      <th>Sunday</th>\n",
       "      <th>Thursday</th>\n",
       "      <th>Tuesday</th>\n",
       "      <th>Wednesday</th>\n",
       "    </tr>\n",
       "  </thead>\n",
       "  <tbody>\n",
       "    <tr>\n",
       "      <th>0</th>\n",
       "      <td>1</td>\n",
       "      <td>0</td>\n",
       "      <td>0</td>\n",
       "      <td>0</td>\n",
       "      <td>0</td>\n",
       "      <td>0</td>\n",
       "      <td>0</td>\n",
       "    </tr>\n",
       "    <tr>\n",
       "      <th>1</th>\n",
       "      <td>1</td>\n",
       "      <td>0</td>\n",
       "      <td>0</td>\n",
       "      <td>0</td>\n",
       "      <td>0</td>\n",
       "      <td>0</td>\n",
       "      <td>0</td>\n",
       "    </tr>\n",
       "    <tr>\n",
       "      <th>2</th>\n",
       "      <td>1</td>\n",
       "      <td>0</td>\n",
       "      <td>0</td>\n",
       "      <td>0</td>\n",
       "      <td>0</td>\n",
       "      <td>0</td>\n",
       "      <td>0</td>\n",
       "    </tr>\n",
       "    <tr>\n",
       "      <th>3</th>\n",
       "      <td>1</td>\n",
       "      <td>0</td>\n",
       "      <td>0</td>\n",
       "      <td>0</td>\n",
       "      <td>0</td>\n",
       "      <td>0</td>\n",
       "      <td>0</td>\n",
       "    </tr>\n",
       "    <tr>\n",
       "      <th>4</th>\n",
       "      <td>1</td>\n",
       "      <td>0</td>\n",
       "      <td>0</td>\n",
       "      <td>0</td>\n",
       "      <td>0</td>\n",
       "      <td>0</td>\n",
       "      <td>0</td>\n",
       "    </tr>\n",
       "    <tr>\n",
       "      <th>...</th>\n",
       "      <td>...</td>\n",
       "      <td>...</td>\n",
       "      <td>...</td>\n",
       "      <td>...</td>\n",
       "      <td>...</td>\n",
       "      <td>...</td>\n",
       "      <td>...</td>\n",
       "    </tr>\n",
       "    <tr>\n",
       "      <th>76310</th>\n",
       "      <td>0</td>\n",
       "      <td>0</td>\n",
       "      <td>0</td>\n",
       "      <td>1</td>\n",
       "      <td>0</td>\n",
       "      <td>0</td>\n",
       "      <td>0</td>\n",
       "    </tr>\n",
       "    <tr>\n",
       "      <th>76311</th>\n",
       "      <td>0</td>\n",
       "      <td>0</td>\n",
       "      <td>0</td>\n",
       "      <td>1</td>\n",
       "      <td>0</td>\n",
       "      <td>0</td>\n",
       "      <td>0</td>\n",
       "    </tr>\n",
       "    <tr>\n",
       "      <th>76312</th>\n",
       "      <td>0</td>\n",
       "      <td>0</td>\n",
       "      <td>0</td>\n",
       "      <td>1</td>\n",
       "      <td>0</td>\n",
       "      <td>0</td>\n",
       "      <td>0</td>\n",
       "    </tr>\n",
       "    <tr>\n",
       "      <th>76313</th>\n",
       "      <td>0</td>\n",
       "      <td>0</td>\n",
       "      <td>0</td>\n",
       "      <td>1</td>\n",
       "      <td>0</td>\n",
       "      <td>0</td>\n",
       "      <td>0</td>\n",
       "    </tr>\n",
       "    <tr>\n",
       "      <th>76314</th>\n",
       "      <td>0</td>\n",
       "      <td>0</td>\n",
       "      <td>0</td>\n",
       "      <td>1</td>\n",
       "      <td>0</td>\n",
       "      <td>0</td>\n",
       "      <td>0</td>\n",
       "    </tr>\n",
       "  </tbody>\n",
       "</table>\n",
       "<p>76315 rows × 7 columns</p>\n",
       "</div>"
      ],
      "text/plain": [
       "       Friday  Monday  Saturday  Sunday  Thursday  Tuesday  Wednesday\n",
       "0           1       0         0       0         0        0          0\n",
       "1           1       0         0       0         0        0          0\n",
       "2           1       0         0       0         0        0          0\n",
       "3           1       0         0       0         0        0          0\n",
       "4           1       0         0       0         0        0          0\n",
       "...       ...     ...       ...     ...       ...      ...        ...\n",
       "76310       0       0         0       1         0        0          0\n",
       "76311       0       0         0       1         0        0          0\n",
       "76312       0       0         0       1         0        0          0\n",
       "76313       0       0         0       1         0        0          0\n",
       "76314       0       0         0       1         0        0          0\n",
       "\n",
       "[76315 rows x 7 columns]"
      ]
     },
     "execution_count": 5,
     "metadata": {},
     "output_type": "execute_result"
    }
   ],
   "source": [
    "#i also do this for the days of the week\n",
    "DayDummies=pd.get_dummies(df['day_of_week'])\n",
    "DayDummies"
   ]
  },
  {
   "cell_type": "code",
   "execution_count": 6,
   "id": "166871f0",
   "metadata": {},
   "outputs": [
    {
     "data": {
      "text/html": [
       "<div>\n",
       "<style scoped>\n",
       "    .dataframe tbody tr th:only-of-type {\n",
       "        vertical-align: middle;\n",
       "    }\n",
       "\n",
       "    .dataframe tbody tr th {\n",
       "        vertical-align: top;\n",
       "    }\n",
       "\n",
       "    .dataframe thead th {\n",
       "        text-align: right;\n",
       "    }\n",
       "</style>\n",
       "<table border=\"1\" class=\"dataframe\">\n",
       "  <thead>\n",
       "    <tr style=\"text-align: right;\">\n",
       "      <th></th>\n",
       "      <th>Afternoon_Rush_hour</th>\n",
       "      <th>Between_Rush_hours</th>\n",
       "      <th>Early_Morning</th>\n",
       "      <th>Morning_Rush_Hour</th>\n",
       "      <th>Night</th>\n",
       "    </tr>\n",
       "  </thead>\n",
       "  <tbody>\n",
       "    <tr>\n",
       "      <th>0</th>\n",
       "      <td>0</td>\n",
       "      <td>0</td>\n",
       "      <td>0</td>\n",
       "      <td>1</td>\n",
       "      <td>0</td>\n",
       "    </tr>\n",
       "    <tr>\n",
       "      <th>1</th>\n",
       "      <td>0</td>\n",
       "      <td>0</td>\n",
       "      <td>0</td>\n",
       "      <td>1</td>\n",
       "      <td>0</td>\n",
       "    </tr>\n",
       "    <tr>\n",
       "      <th>2</th>\n",
       "      <td>0</td>\n",
       "      <td>0</td>\n",
       "      <td>0</td>\n",
       "      <td>1</td>\n",
       "      <td>0</td>\n",
       "    </tr>\n",
       "    <tr>\n",
       "      <th>3</th>\n",
       "      <td>0</td>\n",
       "      <td>0</td>\n",
       "      <td>0</td>\n",
       "      <td>1</td>\n",
       "      <td>0</td>\n",
       "    </tr>\n",
       "    <tr>\n",
       "      <th>4</th>\n",
       "      <td>0</td>\n",
       "      <td>0</td>\n",
       "      <td>0</td>\n",
       "      <td>1</td>\n",
       "      <td>0</td>\n",
       "    </tr>\n",
       "    <tr>\n",
       "      <th>...</th>\n",
       "      <td>...</td>\n",
       "      <td>...</td>\n",
       "      <td>...</td>\n",
       "      <td>...</td>\n",
       "      <td>...</td>\n",
       "    </tr>\n",
       "    <tr>\n",
       "      <th>76310</th>\n",
       "      <td>0</td>\n",
       "      <td>0</td>\n",
       "      <td>0</td>\n",
       "      <td>0</td>\n",
       "      <td>1</td>\n",
       "    </tr>\n",
       "    <tr>\n",
       "      <th>76311</th>\n",
       "      <td>0</td>\n",
       "      <td>0</td>\n",
       "      <td>0</td>\n",
       "      <td>0</td>\n",
       "      <td>1</td>\n",
       "    </tr>\n",
       "    <tr>\n",
       "      <th>76312</th>\n",
       "      <td>0</td>\n",
       "      <td>0</td>\n",
       "      <td>0</td>\n",
       "      <td>0</td>\n",
       "      <td>1</td>\n",
       "    </tr>\n",
       "    <tr>\n",
       "      <th>76313</th>\n",
       "      <td>0</td>\n",
       "      <td>0</td>\n",
       "      <td>0</td>\n",
       "      <td>0</td>\n",
       "      <td>1</td>\n",
       "    </tr>\n",
       "    <tr>\n",
       "      <th>76314</th>\n",
       "      <td>0</td>\n",
       "      <td>0</td>\n",
       "      <td>0</td>\n",
       "      <td>0</td>\n",
       "      <td>1</td>\n",
       "    </tr>\n",
       "  </tbody>\n",
       "</table>\n",
       "<p>76315 rows × 5 columns</p>\n",
       "</div>"
      ],
      "text/plain": [
       "       Afternoon_Rush_hour  Between_Rush_hours  Early_Morning  \\\n",
       "0                        0                   0              0   \n",
       "1                        0                   0              0   \n",
       "2                        0                   0              0   \n",
       "3                        0                   0              0   \n",
       "4                        0                   0              0   \n",
       "...                    ...                 ...            ...   \n",
       "76310                    0                   0              0   \n",
       "76311                    0                   0              0   \n",
       "76312                    0                   0              0   \n",
       "76313                    0                   0              0   \n",
       "76314                    0                   0              0   \n",
       "\n",
       "       Morning_Rush_Hour  Night  \n",
       "0                      1      0  \n",
       "1                      1      0  \n",
       "2                      1      0  \n",
       "3                      1      0  \n",
       "4                      1      0  \n",
       "...                  ...    ...  \n",
       "76310                  0      1  \n",
       "76311                  0      1  \n",
       "76312                  0      1  \n",
       "76313                  0      1  \n",
       "76314                  0      1  \n",
       "\n",
       "[76315 rows x 5 columns]"
      ]
     },
     "execution_count": 6,
     "metadata": {},
     "output_type": "execute_result"
    }
   ],
   "source": [
    "#for the time groups \n",
    "TimeDummies=pd.get_dummies(df['Time_Group'])\n",
    "TimeDummies"
   ]
  },
  {
   "cell_type": "code",
   "execution_count": 7,
   "id": "09a4a7bb",
   "metadata": {},
   "outputs": [
    {
     "data": {
      "text/html": [
       "<div>\n",
       "<style scoped>\n",
       "    .dataframe tbody tr th:only-of-type {\n",
       "        vertical-align: middle;\n",
       "    }\n",
       "\n",
       "    .dataframe tbody tr th {\n",
       "        vertical-align: top;\n",
       "    }\n",
       "\n",
       "    .dataframe thead th {\n",
       "        text-align: right;\n",
       "    }\n",
       "</style>\n",
       "<table border=\"1\" class=\"dataframe\">\n",
       "  <thead>\n",
       "    <tr style=\"text-align: right;\">\n",
       "      <th></th>\n",
       "      <th>Extra trein</th>\n",
       "      <th>Intercity</th>\n",
       "      <th>Sprinter</th>\n",
       "    </tr>\n",
       "  </thead>\n",
       "  <tbody>\n",
       "    <tr>\n",
       "      <th>0</th>\n",
       "      <td>0</td>\n",
       "      <td>1</td>\n",
       "      <td>0</td>\n",
       "    </tr>\n",
       "    <tr>\n",
       "      <th>1</th>\n",
       "      <td>0</td>\n",
       "      <td>1</td>\n",
       "      <td>0</td>\n",
       "    </tr>\n",
       "    <tr>\n",
       "      <th>2</th>\n",
       "      <td>0</td>\n",
       "      <td>1</td>\n",
       "      <td>0</td>\n",
       "    </tr>\n",
       "    <tr>\n",
       "      <th>3</th>\n",
       "      <td>0</td>\n",
       "      <td>1</td>\n",
       "      <td>0</td>\n",
       "    </tr>\n",
       "    <tr>\n",
       "      <th>4</th>\n",
       "      <td>0</td>\n",
       "      <td>1</td>\n",
       "      <td>0</td>\n",
       "    </tr>\n",
       "    <tr>\n",
       "      <th>...</th>\n",
       "      <td>...</td>\n",
       "      <td>...</td>\n",
       "      <td>...</td>\n",
       "    </tr>\n",
       "    <tr>\n",
       "      <th>76310</th>\n",
       "      <td>0</td>\n",
       "      <td>1</td>\n",
       "      <td>0</td>\n",
       "    </tr>\n",
       "    <tr>\n",
       "      <th>76311</th>\n",
       "      <td>0</td>\n",
       "      <td>1</td>\n",
       "      <td>0</td>\n",
       "    </tr>\n",
       "    <tr>\n",
       "      <th>76312</th>\n",
       "      <td>0</td>\n",
       "      <td>1</td>\n",
       "      <td>0</td>\n",
       "    </tr>\n",
       "    <tr>\n",
       "      <th>76313</th>\n",
       "      <td>0</td>\n",
       "      <td>1</td>\n",
       "      <td>0</td>\n",
       "    </tr>\n",
       "    <tr>\n",
       "      <th>76314</th>\n",
       "      <td>0</td>\n",
       "      <td>1</td>\n",
       "      <td>0</td>\n",
       "    </tr>\n",
       "  </tbody>\n",
       "</table>\n",
       "<p>76315 rows × 3 columns</p>\n",
       "</div>"
      ],
      "text/plain": [
       "       Extra trein  Intercity  Sprinter\n",
       "0                0          1         0\n",
       "1                0          1         0\n",
       "2                0          1         0\n",
       "3                0          1         0\n",
       "4                0          1         0\n",
       "...            ...        ...       ...\n",
       "76310            0          1         0\n",
       "76311            0          1         0\n",
       "76312            0          1         0\n",
       "76313            0          1         0\n",
       "76314            0          1         0\n",
       "\n",
       "[76315 rows x 3 columns]"
      ]
     },
     "execution_count": 7,
     "metadata": {},
     "output_type": "execute_result"
    }
   ],
   "source": [
    "# an also for the train types\n",
    "TrainDummies=pd.get_dummies(df['Train_Type'])\n",
    "TrainDummies"
   ]
  },
  {
   "cell_type": "code",
   "execution_count": 8,
   "id": "ca6ec1f9",
   "metadata": {},
   "outputs": [
    {
     "data": {
      "text/html": [
       "<div>\n",
       "<style scoped>\n",
       "    .dataframe tbody tr th:only-of-type {\n",
       "        vertical-align: middle;\n",
       "    }\n",
       "\n",
       "    .dataframe tbody tr th {\n",
       "        vertical-align: top;\n",
       "    }\n",
       "\n",
       "    .dataframe thead th {\n",
       "        text-align: right;\n",
       "    }\n",
       "</style>\n",
       "<table border=\"1\" class=\"dataframe\">\n",
       "  <thead>\n",
       "    <tr style=\"text-align: right;\">\n",
       "      <th></th>\n",
       "      <th>Unnamed: 0</th>\n",
       "      <th>Station_Code</th>\n",
       "      <th>Station_Name</th>\n",
       "      <th>Train_Number</th>\n",
       "      <th>Train_Type</th>\n",
       "      <th>Train_Company</th>\n",
       "      <th>Train_Destination_Planned</th>\n",
       "      <th>Train_Destination_Actual</th>\n",
       "      <th>Train_Departure_Planned</th>\n",
       "      <th>Train_Departure_Actual</th>\n",
       "      <th>...</th>\n",
       "      <th>Tuesday</th>\n",
       "      <th>Wednesday</th>\n",
       "      <th>Afternoon_Rush_hour</th>\n",
       "      <th>Between_Rush_hours</th>\n",
       "      <th>Early_Morning</th>\n",
       "      <th>Morning_Rush_Hour</th>\n",
       "      <th>Night</th>\n",
       "      <th>Extra trein</th>\n",
       "      <th>Intercity</th>\n",
       "      <th>Sprinter</th>\n",
       "    </tr>\n",
       "  </thead>\n",
       "  <tbody>\n",
       "    <tr>\n",
       "      <th>0</th>\n",
       "      <td>0</td>\n",
       "      <td>HRL</td>\n",
       "      <td>Heerlen</td>\n",
       "      <td>3528</td>\n",
       "      <td>Intercity</td>\n",
       "      <td>NS</td>\n",
       "      <td>Schiphol Airport</td>\n",
       "      <td>Schiphol Airport</td>\n",
       "      <td>2016-01-01 06:44:00</td>\n",
       "      <td>2016-01-01 06:44:00</td>\n",
       "      <td>...</td>\n",
       "      <td>0</td>\n",
       "      <td>0</td>\n",
       "      <td>0</td>\n",
       "      <td>0</td>\n",
       "      <td>0</td>\n",
       "      <td>1</td>\n",
       "      <td>0</td>\n",
       "      <td>0</td>\n",
       "      <td>1</td>\n",
       "      <td>0</td>\n",
       "    </tr>\n",
       "    <tr>\n",
       "      <th>1</th>\n",
       "      <td>1</td>\n",
       "      <td>EHV</td>\n",
       "      <td>Eindhoven</td>\n",
       "      <td>3524</td>\n",
       "      <td>Intercity</td>\n",
       "      <td>NS</td>\n",
       "      <td>Schiphol Airport</td>\n",
       "      <td>Schiphol Airport</td>\n",
       "      <td>2016-01-01 06:48:00</td>\n",
       "      <td>2016-01-01 06:48:00</td>\n",
       "      <td>...</td>\n",
       "      <td>0</td>\n",
       "      <td>0</td>\n",
       "      <td>0</td>\n",
       "      <td>0</td>\n",
       "      <td>0</td>\n",
       "      <td>1</td>\n",
       "      <td>0</td>\n",
       "      <td>0</td>\n",
       "      <td>1</td>\n",
       "      <td>0</td>\n",
       "    </tr>\n",
       "    <tr>\n",
       "      <th>2</th>\n",
       "      <td>2</td>\n",
       "      <td>STD</td>\n",
       "      <td>Sittard</td>\n",
       "      <td>3528</td>\n",
       "      <td>Intercity</td>\n",
       "      <td>NS</td>\n",
       "      <td>Schiphol Airport</td>\n",
       "      <td>Schiphol Airport</td>\n",
       "      <td>2016-01-01 07:00:00</td>\n",
       "      <td>2016-01-01 07:00:00</td>\n",
       "      <td>...</td>\n",
       "      <td>0</td>\n",
       "      <td>0</td>\n",
       "      <td>0</td>\n",
       "      <td>0</td>\n",
       "      <td>0</td>\n",
       "      <td>1</td>\n",
       "      <td>0</td>\n",
       "      <td>0</td>\n",
       "      <td>1</td>\n",
       "      <td>0</td>\n",
       "    </tr>\n",
       "    <tr>\n",
       "      <th>3</th>\n",
       "      <td>3</td>\n",
       "      <td>DV</td>\n",
       "      <td>Deventer</td>\n",
       "      <td>1624</td>\n",
       "      <td>Intercity</td>\n",
       "      <td>NS</td>\n",
       "      <td>Schiphol Airport</td>\n",
       "      <td>Schiphol Airport</td>\n",
       "      <td>2016-01-01 07:02:00</td>\n",
       "      <td>2016-01-01 07:02:00</td>\n",
       "      <td>...</td>\n",
       "      <td>0</td>\n",
       "      <td>0</td>\n",
       "      <td>0</td>\n",
       "      <td>0</td>\n",
       "      <td>0</td>\n",
       "      <td>1</td>\n",
       "      <td>0</td>\n",
       "      <td>0</td>\n",
       "      <td>1</td>\n",
       "      <td>0</td>\n",
       "    </tr>\n",
       "    <tr>\n",
       "      <th>4</th>\n",
       "      <td>4</td>\n",
       "      <td>HT</td>\n",
       "      <td>'s-Hertogenbosch</td>\n",
       "      <td>3524</td>\n",
       "      <td>Intercity</td>\n",
       "      <td>NS</td>\n",
       "      <td>Schiphol Airport</td>\n",
       "      <td>Schiphol Airport</td>\n",
       "      <td>2016-01-01 07:09:00</td>\n",
       "      <td>2016-01-01 07:09:00</td>\n",
       "      <td>...</td>\n",
       "      <td>0</td>\n",
       "      <td>0</td>\n",
       "      <td>0</td>\n",
       "      <td>0</td>\n",
       "      <td>0</td>\n",
       "      <td>1</td>\n",
       "      <td>0</td>\n",
       "      <td>0</td>\n",
       "      <td>1</td>\n",
       "      <td>0</td>\n",
       "    </tr>\n",
       "    <tr>\n",
       "      <th>...</th>\n",
       "      <td>...</td>\n",
       "      <td>...</td>\n",
       "      <td>...</td>\n",
       "      <td>...</td>\n",
       "      <td>...</td>\n",
       "      <td>...</td>\n",
       "      <td>...</td>\n",
       "      <td>...</td>\n",
       "      <td>...</td>\n",
       "      <td>...</td>\n",
       "      <td>...</td>\n",
       "      <td>...</td>\n",
       "      <td>...</td>\n",
       "      <td>...</td>\n",
       "      <td>...</td>\n",
       "      <td>...</td>\n",
       "      <td>...</td>\n",
       "      <td>...</td>\n",
       "      <td>...</td>\n",
       "      <td>...</td>\n",
       "      <td>...</td>\n",
       "    </tr>\n",
       "    <tr>\n",
       "      <th>76310</th>\n",
       "      <td>76310</td>\n",
       "      <td>HVS</td>\n",
       "      <td>Hilversum</td>\n",
       "      <td>1684</td>\n",
       "      <td>Intercity</td>\n",
       "      <td>NS</td>\n",
       "      <td>Schiphol Airport</td>\n",
       "      <td>Schiphol Airport</td>\n",
       "      <td>2016-01-31 22:53:00</td>\n",
       "      <td>2016-01-31 22:53:00</td>\n",
       "      <td>...</td>\n",
       "      <td>0</td>\n",
       "      <td>0</td>\n",
       "      <td>0</td>\n",
       "      <td>0</td>\n",
       "      <td>0</td>\n",
       "      <td>0</td>\n",
       "      <td>1</td>\n",
       "      <td>0</td>\n",
       "      <td>1</td>\n",
       "      <td>0</td>\n",
       "    </tr>\n",
       "    <tr>\n",
       "      <th>76311</th>\n",
       "      <td>76311</td>\n",
       "      <td>AMF</td>\n",
       "      <td>Amersfoort</td>\n",
       "      <td>11686</td>\n",
       "      <td>Intercity</td>\n",
       "      <td>NS</td>\n",
       "      <td>Schiphol Airport</td>\n",
       "      <td>Schiphol Airport</td>\n",
       "      <td>2016-01-31 23:10:00</td>\n",
       "      <td>2016-01-31 23:10:00</td>\n",
       "      <td>...</td>\n",
       "      <td>0</td>\n",
       "      <td>0</td>\n",
       "      <td>0</td>\n",
       "      <td>0</td>\n",
       "      <td>0</td>\n",
       "      <td>0</td>\n",
       "      <td>1</td>\n",
       "      <td>0</td>\n",
       "      <td>1</td>\n",
       "      <td>0</td>\n",
       "    </tr>\n",
       "    <tr>\n",
       "      <th>76312</th>\n",
       "      <td>76312</td>\n",
       "      <td>DVD</td>\n",
       "      <td>Duivendrecht</td>\n",
       "      <td>11686</td>\n",
       "      <td>Intercity</td>\n",
       "      <td>NS</td>\n",
       "      <td>Schiphol Airport</td>\n",
       "      <td>Schiphol Airport</td>\n",
       "      <td>2016-01-31 23:40:00</td>\n",
       "      <td>2016-01-31 23:40:00</td>\n",
       "      <td>...</td>\n",
       "      <td>0</td>\n",
       "      <td>0</td>\n",
       "      <td>0</td>\n",
       "      <td>0</td>\n",
       "      <td>0</td>\n",
       "      <td>0</td>\n",
       "      <td>1</td>\n",
       "      <td>0</td>\n",
       "      <td>1</td>\n",
       "      <td>0</td>\n",
       "    </tr>\n",
       "    <tr>\n",
       "      <th>76313</th>\n",
       "      <td>76313</td>\n",
       "      <td>ASDZ</td>\n",
       "      <td>Amsterdam Zuid</td>\n",
       "      <td>11686</td>\n",
       "      <td>Intercity</td>\n",
       "      <td>NS</td>\n",
       "      <td>Schiphol Airport</td>\n",
       "      <td>Schiphol Airport</td>\n",
       "      <td>2016-01-31 23:46:00</td>\n",
       "      <td>2016-01-31 23:46:00</td>\n",
       "      <td>...</td>\n",
       "      <td>0</td>\n",
       "      <td>0</td>\n",
       "      <td>0</td>\n",
       "      <td>0</td>\n",
       "      <td>0</td>\n",
       "      <td>0</td>\n",
       "      <td>1</td>\n",
       "      <td>0</td>\n",
       "      <td>1</td>\n",
       "      <td>0</td>\n",
       "    </tr>\n",
       "    <tr>\n",
       "      <th>76314</th>\n",
       "      <td>76314</td>\n",
       "      <td>HVS</td>\n",
       "      <td>Hilversum</td>\n",
       "      <td>11686</td>\n",
       "      <td>Intercity</td>\n",
       "      <td>NS</td>\n",
       "      <td>Schiphol Airport</td>\n",
       "      <td>Schiphol Airport</td>\n",
       "      <td>2016-01-31 23:23:00</td>\n",
       "      <td>2016-01-31 23:23:00</td>\n",
       "      <td>...</td>\n",
       "      <td>0</td>\n",
       "      <td>0</td>\n",
       "      <td>0</td>\n",
       "      <td>0</td>\n",
       "      <td>0</td>\n",
       "      <td>0</td>\n",
       "      <td>1</td>\n",
       "      <td>0</td>\n",
       "      <td>1</td>\n",
       "      <td>0</td>\n",
       "    </tr>\n",
       "  </tbody>\n",
       "</table>\n",
       "<p>76315 rows × 71 columns</p>\n",
       "</div>"
      ],
      "text/plain": [
       "       Unnamed: 0 Station_Code      Station_Name  Train_Number Train_Type  \\\n",
       "0               0          HRL           Heerlen          3528  Intercity   \n",
       "1               1          EHV         Eindhoven          3524  Intercity   \n",
       "2               2          STD           Sittard          3528  Intercity   \n",
       "3               3           DV          Deventer          1624  Intercity   \n",
       "4               4           HT  's-Hertogenbosch          3524  Intercity   \n",
       "...           ...          ...               ...           ...        ...   \n",
       "76310       76310          HVS         Hilversum          1684  Intercity   \n",
       "76311       76311          AMF        Amersfoort         11686  Intercity   \n",
       "76312       76312          DVD      Duivendrecht         11686  Intercity   \n",
       "76313       76313         ASDZ    Amsterdam Zuid         11686  Intercity   \n",
       "76314       76314          HVS         Hilversum         11686  Intercity   \n",
       "\n",
       "      Train_Company Train_Destination_Planned Train_Destination_Actual  \\\n",
       "0                NS          Schiphol Airport         Schiphol Airport   \n",
       "1                NS          Schiphol Airport         Schiphol Airport   \n",
       "2                NS          Schiphol Airport         Schiphol Airport   \n",
       "3                NS          Schiphol Airport         Schiphol Airport   \n",
       "4                NS          Schiphol Airport         Schiphol Airport   \n",
       "...             ...                       ...                      ...   \n",
       "76310            NS          Schiphol Airport         Schiphol Airport   \n",
       "76311            NS          Schiphol Airport         Schiphol Airport   \n",
       "76312            NS          Schiphol Airport         Schiphol Airport   \n",
       "76313            NS          Schiphol Airport         Schiphol Airport   \n",
       "76314            NS          Schiphol Airport         Schiphol Airport   \n",
       "\n",
       "      Train_Departure_Planned Train_Departure_Actual  ...  Tuesday  Wednesday  \\\n",
       "0         2016-01-01 06:44:00    2016-01-01 06:44:00  ...        0          0   \n",
       "1         2016-01-01 06:48:00    2016-01-01 06:48:00  ...        0          0   \n",
       "2         2016-01-01 07:00:00    2016-01-01 07:00:00  ...        0          0   \n",
       "3         2016-01-01 07:02:00    2016-01-01 07:02:00  ...        0          0   \n",
       "4         2016-01-01 07:09:00    2016-01-01 07:09:00  ...        0          0   \n",
       "...                       ...                    ...  ...      ...        ...   \n",
       "76310     2016-01-31 22:53:00    2016-01-31 22:53:00  ...        0          0   \n",
       "76311     2016-01-31 23:10:00    2016-01-31 23:10:00  ...        0          0   \n",
       "76312     2016-01-31 23:40:00    2016-01-31 23:40:00  ...        0          0   \n",
       "76313     2016-01-31 23:46:00    2016-01-31 23:46:00  ...        0          0   \n",
       "76314     2016-01-31 23:23:00    2016-01-31 23:23:00  ...        0          0   \n",
       "\n",
       "       Afternoon_Rush_hour Between_Rush_hours  Early_Morning  \\\n",
       "0                        0                  0              0   \n",
       "1                        0                  0              0   \n",
       "2                        0                  0              0   \n",
       "3                        0                  0              0   \n",
       "4                        0                  0              0   \n",
       "...                    ...                ...            ...   \n",
       "76310                    0                  0              0   \n",
       "76311                    0                  0              0   \n",
       "76312                    0                  0              0   \n",
       "76313                    0                  0              0   \n",
       "76314                    0                  0              0   \n",
       "\n",
       "      Morning_Rush_Hour  Night  Extra trein  Intercity  Sprinter  \n",
       "0                     1      0            0          1         0  \n",
       "1                     1      0            0          1         0  \n",
       "2                     1      0            0          1         0  \n",
       "3                     1      0            0          1         0  \n",
       "4                     1      0            0          1         0  \n",
       "...                 ...    ...          ...        ...       ...  \n",
       "76310                 0      1            0          1         0  \n",
       "76311                 0      1            0          1         0  \n",
       "76312                 0      1            0          1         0  \n",
       "76313                 0      1            0          1         0  \n",
       "76314                 0      1            0          1         0  \n",
       "\n",
       "[76315 rows x 71 columns]"
      ]
     },
     "execution_count": 8,
     "metadata": {},
     "output_type": "execute_result"
    }
   ],
   "source": [
    "#then i add all those dataframes with the dummies to the dataset\n",
    "FinalDF=pd.concat([df, StationDummies, DayDummies, TimeDummies, TrainDummies], axis=1)\n",
    "FinalDF"
   ]
  },
  {
   "cell_type": "code",
   "execution_count": 9,
   "id": "8a74d6b3",
   "metadata": {},
   "outputs": [
    {
     "name": "stdout",
     "output_type": "stream",
     "text": [
      "<class 'pandas.core.frame.DataFrame'>\n",
      "RangeIndex: 76315 entries, 0 to 76314\n",
      "Data columns (total 72 columns):\n",
      " #   Column                        Non-Null Count  Dtype  \n",
      "---  ------                        --------------  -----  \n",
      " 0   Unnamed: 0                    76315 non-null  int64  \n",
      " 1   Station_Code                  76315 non-null  object \n",
      " 2   Station_Name                  76315 non-null  object \n",
      " 3   Train_Number                  76315 non-null  int64  \n",
      " 4   Train_Type                    76315 non-null  object \n",
      " 5   Train_Company                 76315 non-null  object \n",
      " 6   Train_Destination_Planned     76315 non-null  object \n",
      " 7   Train_Destination_Actual      76315 non-null  object \n",
      " 8   Train_Departure_Planned       76315 non-null  object \n",
      " 9   Train_Departure_Actual        76315 non-null  object \n",
      " 10  Train_Delay                   76315 non-null  float64\n",
      " 11  MaxNumberOfStops              76315 non-null  int64  \n",
      " 12  weekday                       76315 non-null  int64  \n",
      " 13  day_of_week                   76315 non-null  object \n",
      " 14  Train_Departure_Planned_Time  76315 non-null  int64  \n",
      " 15  Time_Group                    76315 non-null  object \n",
      " 16  's-Hertogenbosch              76315 non-null  uint8  \n",
      " 17  Almelo                        76315 non-null  uint8  \n",
      " 18  Almere Centrum                76315 non-null  uint8  \n",
      " 19  Amersfoort                    76315 non-null  uint8  \n",
      " 20  Amersfoort Schothorst         76315 non-null  uint8  \n",
      " 21  Amsterdam Bijlmer ArenA       76315 non-null  uint8  \n",
      " 22  Amsterdam RAI                 76315 non-null  uint8  \n",
      " 23  Amsterdam Zuid                76315 non-null  uint8  \n",
      " 24  Apeldoorn                     76315 non-null  uint8  \n",
      " 25  Apeldoorn Osseveld            76315 non-null  uint8  \n",
      " 26  Arnhem                        76315 non-null  uint8  \n",
      " 27  Deventer                      76315 non-null  uint8  \n",
      " 28  Driebergen-Zeist              76315 non-null  uint8  \n",
      " 29  Duivendrecht                  76315 non-null  uint8  \n",
      " 30  Ede-Wageningen                76315 non-null  uint8  \n",
      " 31  Eindhoven                     76315 non-null  uint8  \n",
      " 32  Enschede                      76315 non-null  uint8  \n",
      " 33  Enschede Kennispark           76315 non-null  uint8  \n",
      " 34  Geldermalsen                  76315 non-null  uint8  \n",
      " 35  Heerlen                       76315 non-null  uint8  \n",
      " 36  Hengelo                       76315 non-null  uint8  \n",
      " 37  Hilversum                     76315 non-null  uint8  \n",
      " 38  Hilversum Sportpark           76315 non-null  uint8  \n",
      " 39  Hollandsche Rading            76315 non-null  uint8  \n",
      " 40  Lelystad Centrum              76315 non-null  uint8  \n",
      " 41  Naarden-Bussum                76315 non-null  uint8  \n",
      " 42  Nijmegen                      76315 non-null  uint8  \n",
      " 43  Oosterbeek                    76315 non-null  uint8  \n",
      " 44  Roermond                      76315 non-null  uint8  \n",
      " 45  Rotterdam Centraal            76315 non-null  uint8  \n",
      " 46  Schiphol Airport              76315 non-null  uint8  \n",
      " 47  Sittard                       76315 non-null  uint8  \n",
      " 48  Twello                        76315 non-null  uint8  \n",
      " 49  Utrecht Centraal              76315 non-null  uint8  \n",
      " 50  Utrecht Overvecht             76315 non-null  uint8  \n",
      " 51  Veenendaal-De Klomp           76315 non-null  uint8  \n",
      " 52  Weert                         76315 non-null  uint8  \n",
      " 53  Wierden                       76315 non-null  uint8  \n",
      " 54  Wolfheze                      76315 non-null  uint8  \n",
      " 55  Zaltbommel                    76315 non-null  uint8  \n",
      " 56  Friday                        76315 non-null  uint8  \n",
      " 57  Monday                        76315 non-null  uint8  \n",
      " 58  Saturday                      76315 non-null  uint8  \n",
      " 59  Sunday                        76315 non-null  uint8  \n",
      " 60  Thursday                      76315 non-null  uint8  \n",
      " 61  Tuesday                       76315 non-null  uint8  \n",
      " 62  Wednesday                     76315 non-null  uint8  \n",
      " 63  Afternoon_Rush_hour           76315 non-null  uint8  \n",
      " 64  Between_Rush_hours            76315 non-null  uint8  \n",
      " 65  Early_Morning                 76315 non-null  uint8  \n",
      " 66  Morning_Rush_Hour             76315 non-null  uint8  \n",
      " 67  Night                         76315 non-null  uint8  \n",
      " 68  Extra trein                   76315 non-null  uint8  \n",
      " 69  Intercity                     76315 non-null  uint8  \n",
      " 70  Sprinter                      76315 non-null  uint8  \n",
      " 71  DelayOrNot                    76315 non-null  int32  \n",
      "dtypes: float64(1), int32(1), int64(5), object(10), uint8(55)\n",
      "memory usage: 13.6+ MB\n"
     ]
    }
   ],
   "source": [
    "# and then last but not least i add the group if there is a train delay \n",
    "FinalDF['DelayOrNot'] = np.where(FinalDF['Train_Delay']<=60, 0, 1).astype(int)\n",
    "FinalDF.info()"
   ]
  },
  {
   "cell_type": "markdown",
   "id": "7e81014d",
   "metadata": {},
   "source": [
    "## Decision trees part 1"
   ]
  },
  {
   "cell_type": "code",
   "execution_count": 10,
   "id": "f3e4fbaf",
   "metadata": {},
   "outputs": [],
   "source": [
    "#then i import the function to split train and test data, select the y and x features and split the data into test and train data\n",
    "from sklearn.model_selection import train_test_split\n",
    "#then i set the x and y axis and devide the data in train and test data.\n",
    "X = FinalDF.iloc[:, [12, 16,17,18,19,20,21,22,23,24,25,26,27,28,29,30,31,32,33,34,35,36,37,38,39,40,41,42,43,44,45,46,47,48,49,50,51,52,53,54,55,56,57,58,59,60,61,62,63,64,65,66,67,68,69,70]]\n",
    "y = FinalDF['DelayOrNot']"
   ]
  },
  {
   "cell_type": "code",
   "execution_count": 11,
   "id": "a6a9496f",
   "metadata": {},
   "outputs": [
    {
     "name": "stdout",
     "output_type": "stream",
     "text": [
      "Counter({0: 53071, 1: 23244})\n",
      "Counter({0: 23244, 1: 23244})\n"
     ]
    }
   ],
   "source": [
    "#then i inport the counter and nearmiss functions so count the groups in the y and to undersampe the data\n",
    "from collections import Counter\n",
    "from imblearn.under_sampling import NearMiss\n",
    "#here i try out version one of the near miss and count too see if it indeed undersampled the data\n",
    "nm = NearMiss()\n",
    "x_nm, y_nm = nm.fit_resample(X, y)\n",
    "print(Counter(y))\n",
    "print(Counter(y_nm))"
   ]
  },
  {
   "cell_type": "code",
   "execution_count": 12,
   "id": "b6daf9a3",
   "metadata": {},
   "outputs": [],
   "source": [
    "#here i split the downsampled data info train and test data\n",
    "X_train, X_test, y_train, y_test = train_test_split(x_nm, y_nm, test_size=0.2, random_state = 42)"
   ]
  },
  {
   "cell_type": "code",
   "execution_count": 13,
   "id": "f7a13e69",
   "metadata": {},
   "outputs": [
    {
     "name": "stdout",
     "output_type": "stream",
     "text": [
      "<class 'pandas.core.frame.DataFrame'>\n",
      "RangeIndex: 76315 entries, 0 to 76314\n",
      "Data columns (total 72 columns):\n",
      " #   Column                        Non-Null Count  Dtype  \n",
      "---  ------                        --------------  -----  \n",
      " 0   Unnamed: 0                    76315 non-null  int64  \n",
      " 1   Station_Code                  76315 non-null  object \n",
      " 2   Station_Name                  76315 non-null  object \n",
      " 3   Train_Number                  76315 non-null  int64  \n",
      " 4   Train_Type                    76315 non-null  object \n",
      " 5   Train_Company                 76315 non-null  object \n",
      " 6   Train_Destination_Planned     76315 non-null  object \n",
      " 7   Train_Destination_Actual      76315 non-null  object \n",
      " 8   Train_Departure_Planned       76315 non-null  object \n",
      " 9   Train_Departure_Actual        76315 non-null  object \n",
      " 10  Train_Delay                   76315 non-null  float64\n",
      " 11  MaxNumberOfStops              76315 non-null  int64  \n",
      " 12  weekday                       76315 non-null  int64  \n",
      " 13  day_of_week                   76315 non-null  object \n",
      " 14  Train_Departure_Planned_Time  76315 non-null  int64  \n",
      " 15  Time_Group                    76315 non-null  object \n",
      " 16  's-Hertogenbosch              76315 non-null  uint8  \n",
      " 17  Almelo                        76315 non-null  uint8  \n",
      " 18  Almere Centrum                76315 non-null  uint8  \n",
      " 19  Amersfoort                    76315 non-null  uint8  \n",
      " 20  Amersfoort Schothorst         76315 non-null  uint8  \n",
      " 21  Amsterdam Bijlmer ArenA       76315 non-null  uint8  \n",
      " 22  Amsterdam RAI                 76315 non-null  uint8  \n",
      " 23  Amsterdam Zuid                76315 non-null  uint8  \n",
      " 24  Apeldoorn                     76315 non-null  uint8  \n",
      " 25  Apeldoorn Osseveld            76315 non-null  uint8  \n",
      " 26  Arnhem                        76315 non-null  uint8  \n",
      " 27  Deventer                      76315 non-null  uint8  \n",
      " 28  Driebergen-Zeist              76315 non-null  uint8  \n",
      " 29  Duivendrecht                  76315 non-null  uint8  \n",
      " 30  Ede-Wageningen                76315 non-null  uint8  \n",
      " 31  Eindhoven                     76315 non-null  uint8  \n",
      " 32  Enschede                      76315 non-null  uint8  \n",
      " 33  Enschede Kennispark           76315 non-null  uint8  \n",
      " 34  Geldermalsen                  76315 non-null  uint8  \n",
      " 35  Heerlen                       76315 non-null  uint8  \n",
      " 36  Hengelo                       76315 non-null  uint8  \n",
      " 37  Hilversum                     76315 non-null  uint8  \n",
      " 38  Hilversum Sportpark           76315 non-null  uint8  \n",
      " 39  Hollandsche Rading            76315 non-null  uint8  \n",
      " 40  Lelystad Centrum              76315 non-null  uint8  \n",
      " 41  Naarden-Bussum                76315 non-null  uint8  \n",
      " 42  Nijmegen                      76315 non-null  uint8  \n",
      " 43  Oosterbeek                    76315 non-null  uint8  \n",
      " 44  Roermond                      76315 non-null  uint8  \n",
      " 45  Rotterdam Centraal            76315 non-null  uint8  \n",
      " 46  Schiphol Airport              76315 non-null  uint8  \n",
      " 47  Sittard                       76315 non-null  uint8  \n",
      " 48  Twello                        76315 non-null  uint8  \n",
      " 49  Utrecht Centraal              76315 non-null  uint8  \n",
      " 50  Utrecht Overvecht             76315 non-null  uint8  \n",
      " 51  Veenendaal-De Klomp           76315 non-null  uint8  \n",
      " 52  Weert                         76315 non-null  uint8  \n",
      " 53  Wierden                       76315 non-null  uint8  \n",
      " 54  Wolfheze                      76315 non-null  uint8  \n",
      " 55  Zaltbommel                    76315 non-null  uint8  \n",
      " 56  Friday                        76315 non-null  uint8  \n",
      " 57  Monday                        76315 non-null  uint8  \n",
      " 58  Saturday                      76315 non-null  uint8  \n",
      " 59  Sunday                        76315 non-null  uint8  \n",
      " 60  Thursday                      76315 non-null  uint8  \n",
      " 61  Tuesday                       76315 non-null  uint8  \n",
      " 62  Wednesday                     76315 non-null  uint8  \n",
      " 63  Afternoon_Rush_hour           76315 non-null  uint8  \n",
      " 64  Between_Rush_hours            76315 non-null  uint8  \n",
      " 65  Early_Morning                 76315 non-null  uint8  \n",
      " 66  Morning_Rush_Hour             76315 non-null  uint8  \n",
      " 67  Night                         76315 non-null  uint8  \n",
      " 68  Extra trein                   76315 non-null  uint8  \n",
      " 69  Intercity                     76315 non-null  uint8  \n",
      " 70  Sprinter                      76315 non-null  uint8  \n",
      " 71  DelayOrNot                    76315 non-null  int32  \n",
      "dtypes: float64(1), int32(1), int64(5), object(10), uint8(55)\n",
      "memory usage: 13.6+ MB\n"
     ]
    }
   ],
   "source": [
    "#here i look at the information from the new dataset\n",
    "FinalDF.info()"
   ]
  },
  {
   "cell_type": "code",
   "execution_count": 14,
   "id": "fc275102",
   "metadata": {},
   "outputs": [
    {
     "data": {
      "text/plain": [
       "GridSearchCV(estimator=DecisionTreeClassifier(),\n",
       "             param_grid={'criterion': ('gini', 'entropy'),\n",
       "                         'max_depth': [2, 3, 4, 5, 6, 7, 8, 9, 10, 11, 12, 13,\n",
       "                                       14, 15, 16, 17, 18, 19, 20, 21, 22, 23,\n",
       "                                       24, 25, 26, 27, 28, 29, 30]})"
      ]
     },
     "execution_count": 14,
     "metadata": {},
     "output_type": "execute_result"
    }
   ],
   "source": [
    "# then i import tree, decisiontreeclassifier and gridsearch \n",
    "from sklearn import tree \n",
    "from sklearn.tree import DecisionTreeClassifier\n",
    "from sklearn.model_selection import GridSearchCV\n",
    "#here i do the gridsearch to get the best values for the parameters\n",
    "parameters = {'criterion':('gini', 'entropy'), 'max_depth': [2,3,4,5,6,7,8,9,10,11,12,13,14,15,16,17,18,19,20,21,22,23,24,25,26,27,28,29,30]}\n",
    "clf_GS = GridSearchCV(DecisionTreeClassifier(), parameters)\n",
    "clf_GS.fit(x_nm, y_nm)"
   ]
  },
  {
   "cell_type": "code",
   "execution_count": 15,
   "id": "35bebeb8",
   "metadata": {},
   "outputs": [
    {
     "name": "stdout",
     "output_type": "stream",
     "text": [
      "Best Criterion: gini\n",
      "Best max_depth: 2\n"
     ]
    }
   ],
   "source": [
    "#here i print the outcomes from the gridsearch\n",
    "print('Best Criterion:', clf_GS.best_estimator_.get_params()['criterion'])\n",
    "print('Best max_depth:', clf_GS.best_estimator_.get_params()['max_depth'])"
   ]
  },
  {
   "cell_type": "code",
   "execution_count": 16,
   "id": "0aed9b86",
   "metadata": {
    "scrolled": false
   },
   "outputs": [
    {
     "data": {
      "text/plain": [
       "[Text(0.5, 0.8333333333333334, 'X[8] <= 0.5\\ngini = 0.5\\nsamples = 46488\\nvalue = [23244, 23244]'),\n",
       " Text(0.25, 0.5, 'X[14] <= 0.5\\ngini = 0.497\\nsamples = 36418\\nvalue = [19725, 16693]'),\n",
       " Text(0.125, 0.16666666666666666, 'gini = 0.493\\nsamples = 33288\\nvalue = [18603, 14685]'),\n",
       " Text(0.375, 0.16666666666666666, 'gini = 0.46\\nsamples = 3130\\nvalue = [1122, 2008]'),\n",
       " Text(0.75, 0.5, 'X[49] <= 0.5\\ngini = 0.455\\nsamples = 10070\\nvalue = [3519, 6551]'),\n",
       " Text(0.625, 0.16666666666666666, 'gini = 0.44\\nsamples = 7294\\nvalue = [2380, 4914]'),\n",
       " Text(0.875, 0.16666666666666666, 'gini = 0.484\\nsamples = 2776\\nvalue = [1139, 1637]')]"
      ]
     },
     "execution_count": 16,
     "metadata": {},
     "output_type": "execute_result"
    },
    {
     "data": {
      "image/png": "[encoded data removed]",
      "text/plain": [
       "<Figure size 1440x720 with 1 Axes>"
      ]
     },
     "metadata": {},
     "output_type": "display_data"
    }
   ],
   "source": [
    "#here i make the desicion tree with the best parameters\n",
    "tree_clf = DecisionTreeClassifier(criterion='gini', max_depth=2, random_state = 42)\n",
    "tree_clfFit = tree_clf.fit(x_nm,y_nm)\n",
    "plt.figure(figsize=(20,10))\n",
    "tree.plot_tree(tree_clfFit, fontsize=10)"
   ]
  },
  {
   "cell_type": "markdown",
   "id": "47b0ed35",
   "metadata": {},
   "source": [
    "### Evaluation"
   ]
  },
  {
   "cell_type": "code",
   "execution_count": 17,
   "id": "76755b80",
   "metadata": {},
   "outputs": [
    {
     "data": {
      "text/plain": [
       "0.5750699075069907"
      ]
     },
     "execution_count": 17,
     "metadata": {},
     "output_type": "execute_result"
    }
   ],
   "source": [
    "#here i iimport metrics and accuracy score\n",
    "from sklearn import metrics\n",
    "from sklearn.metrics import accuracy_score\n",
    "#here i give the accuracy score for this model\n",
    "y_pred = tree_clf.predict(X_test)\n",
    "accuracy_score(y_test, y_pred)"
   ]
  },
  {
   "cell_type": "markdown",
   "id": "c26ced5f",
   "metadata": {},
   "source": [
    "the accuracy is around 58%, this is a bit lower then the other way to undersample so it doesnt look very promissing. to know that for sure we would have to look into the classification report and the cross validation score."
   ]
  },
  {
   "cell_type": "code",
   "execution_count": 18,
   "id": "956e3a52",
   "metadata": {
    "scrolled": true
   },
   "outputs": [
    {
     "name": "stdout",
     "output_type": "stream",
     "text": [
      "              precision    recall  f1-score   support\n",
      "\n",
      "     class 1       0.55      0.79      0.65      4633\n",
      "     class 2       0.63      0.36      0.46      4665\n",
      "\n",
      "    accuracy                           0.58      9298\n",
      "   macro avg       0.59      0.58      0.55      9298\n",
      "weighted avg       0.59      0.58      0.55      9298\n",
      "\n"
     ]
    }
   ],
   "source": [
    "#here i import the classification report\n",
    "from sklearn.metrics import classification_report\n",
    "#here i print the classification report\n",
    "target_names = ['class 1', 'class 2']\n",
    "print(classification_report(y_test, y_pred, target_names=target_names))"
   ]
  },
  {
   "cell_type": "markdown",
   "id": "533b5890",
   "metadata": {},
   "source": [
    "in comparising with the best of the downsampling with the sample function this one is worse. the difference between the precisions of thed 2 classes is bigger and lower overall. "
   ]
  },
  {
   "cell_type": "code",
   "execution_count": 19,
   "id": "82f45a64",
   "metadata": {
    "scrolled": true
   },
   "outputs": [
    {
     "name": "stdout",
     "output_type": "stream",
     "text": [
      "[0.28554528 0.58754571 0.57506991 0.58868452 0.59438529]\n"
     ]
    },
    {
     "data": {
      "text/plain": [
       "0.5262461404561727"
      ]
     },
     "execution_count": 19,
     "metadata": {},
     "output_type": "execute_result"
    }
   ],
   "source": [
    "#here i import the cross validation score\n",
    "from sklearn.model_selection import cross_val_score\n",
    "#here i firstly print the seperate scores and also the mean overall score\n",
    "print(cross_val_score(tree_clf, x_nm, y_nm, cv=5))\n",
    "cross_val_score(tree_clf, x_nm, y_nm, cv=5).mean()"
   ]
  },
  {
   "cell_type": "markdown",
   "id": "d1fa1468",
   "metadata": {},
   "source": [
    "the cross validation score is also a lot lower then the other downsamping results, so this one is worse and should not be used.\n",
    "\n",
    "## Random forest part 1"
   ]
  },
  {
   "cell_type": "code",
   "execution_count": 20,
   "id": "2b8ef0ce",
   "metadata": {},
   "outputs": [
    {
     "data": {
      "text/html": [
       "<div>\n",
       "<style scoped>\n",
       "    .dataframe tbody tr th:only-of-type {\n",
       "        vertical-align: middle;\n",
       "    }\n",
       "\n",
       "    .dataframe tbody tr th {\n",
       "        vertical-align: top;\n",
       "    }\n",
       "\n",
       "    .dataframe thead th {\n",
       "        text-align: right;\n",
       "    }\n",
       "</style>\n",
       "<table border=\"1\" class=\"dataframe\">\n",
       "  <thead>\n",
       "    <tr style=\"text-align: right;\">\n",
       "      <th></th>\n",
       "      <th>Best criterion</th>\n",
       "      <th>Best max_depth</th>\n",
       "      <th>Best n_estimators</th>\n",
       "    </tr>\n",
       "  </thead>\n",
       "  <tbody>\n",
       "    <tr>\n",
       "      <th>0</th>\n",
       "      <td>gini</td>\n",
       "      <td>13</td>\n",
       "      <td>70</td>\n",
       "    </tr>\n",
       "  </tbody>\n",
       "</table>\n",
       "</div>"
      ],
      "text/plain": [
       "  Best criterion  Best max_depth  Best n_estimators\n",
       "0           gini              13                 70"
      ]
     },
     "execution_count": 20,
     "metadata": {},
     "output_type": "execute_result"
    }
   ],
   "source": [
    "#here i show the result form the gridsearch for the random forest model that i run in the kernel via a python file\n",
    "pd.read_csv(\"GridSearchRandomForest5.csv\").drop('Unnamed: 0',axis=1)"
   ]
  },
  {
   "cell_type": "code",
   "execution_count": 21,
   "id": "690d7724",
   "metadata": {},
   "outputs": [
    {
     "data": {
      "text/plain": [
       "RandomForestClassifier(max_depth=13, n_estimators=70, random_state=42)"
      ]
     },
     "execution_count": 21,
     "metadata": {},
     "output_type": "execute_result"
    }
   ],
   "source": [
    "#here i import the random forest classifier\n",
    "from sklearn.ensemble import RandomForestClassifier\n",
    "#here i used the outcomes from the gridsearch to get the best possible outcome from the random forest model\n",
    "forest_clf3 = RandomForestClassifier(criterion='gini', max_depth=13, random_state = 42, n_estimators = 70)\n",
    "forest_clf3.fit(x_nm,y_nm)\n",
    "forest_clf3"
   ]
  },
  {
   "cell_type": "markdown",
   "id": "c59dbcc6",
   "metadata": {},
   "source": [
    "### Evaluation"
   ]
  },
  {
   "cell_type": "code",
   "execution_count": 22,
   "id": "899a0e4d",
   "metadata": {},
   "outputs": [
    {
     "data": {
      "text/plain": [
       "0.6288449128844913"
      ]
     },
     "execution_count": 22,
     "metadata": {},
     "output_type": "execute_result"
    }
   ],
   "source": [
    "#here i give the accuracy score for this model\n",
    "y_pred3 = forest_clf3.predict(X_test)\n",
    "accuracy_score(y_test, y_pred3)"
   ]
  },
  {
   "cell_type": "markdown",
   "id": "ceeb343d",
   "metadata": {},
   "source": [
    "you can see that the accuracy of this on is better then the last one and a bit worse then the best of the other downsampling method. but to know it is overall performs worse i would have to look into the other indicators as well. "
   ]
  },
  {
   "cell_type": "code",
   "execution_count": 23,
   "id": "59e11ceb",
   "metadata": {
    "scrolled": true
   },
   "outputs": [
    {
     "name": "stdout",
     "output_type": "stream",
     "text": [
      "              precision    recall  f1-score   support\n",
      "\n",
      "     class 1       0.63      0.63      0.63      4633\n",
      "     class 2       0.63      0.63      0.63      4665\n",
      "\n",
      "    accuracy                           0.63      9298\n",
      "   macro avg       0.63      0.63      0.63      9298\n",
      "weighted avg       0.63      0.63      0.63      9298\n",
      "\n"
     ]
    }
   ],
   "source": [
    "#here i print the classification report\n",
    "target_names = ['class 1', 'class 2']\n",
    "print(classification_report(y_test, y_pred3, target_names=target_names))"
   ]
  },
  {
   "cell_type": "markdown",
   "id": "adda0347",
   "metadata": {},
   "source": [
    "this classification report looks better then the on of the other method because this os way more ballanced."
   ]
  },
  {
   "cell_type": "code",
   "execution_count": 24,
   "id": "fe92c8a6",
   "metadata": {},
   "outputs": [
    {
     "name": "stdout",
     "output_type": "stream",
     "text": [
      "[0.39481609 0.48246935 0.41234674 0.42938582 0.49564376]\n"
     ]
    },
    {
     "data": {
      "text/plain": [
       "0.4429323516794888"
      ]
     },
     "execution_count": 24,
     "metadata": {},
     "output_type": "execute_result"
    }
   ],
   "source": [
    "#here i print the seperate cross validation scores and also the mean overall score\n",
    "print(cross_val_score(forest_clf3, x_nm, y_nm, cv=5))\n",
    "cross_val_score(forest_clf3, x_nm, y_nm, cv=5).mean()"
   ]
  },
  {
   "cell_type": "markdown",
   "id": "d2cf02ad",
   "metadata": {},
   "source": [
    "After lookiung at the cross validation score i can see that the 63% was pure lucka dn overall its performing way worse.\n",
    "\n",
    "## Decision trees part 2"
   ]
  },
  {
   "cell_type": "code",
   "execution_count": 25,
   "id": "81e82930",
   "metadata": {},
   "outputs": [
    {
     "name": "stdout",
     "output_type": "stream",
     "text": [
      "Counter({0: 53071, 1: 23244})\n",
      "Counter({0: 23244, 1: 23244})\n"
     ]
    }
   ],
   "source": [
    "#here i undersmaple with the 2nd version of near miss\n",
    "nm = NearMiss(version=2)\n",
    "x_nm2, y_nm2 = nm.fit_resample(X, y)\n",
    "print(Counter(y))\n",
    "print(Counter(y_nm2))"
   ]
  },
  {
   "cell_type": "code",
   "execution_count": 26,
   "id": "1a7cc592",
   "metadata": {},
   "outputs": [],
   "source": [
    "#here i split the data into train and test data\n",
    "X_train2, X_test2, y_train2, y_test2 = train_test_split(x_nm2, y_nm2, test_size=0.2, random_state = 42)"
   ]
  },
  {
   "cell_type": "code",
   "execution_count": 27,
   "id": "697a62db",
   "metadata": {},
   "outputs": [
    {
     "name": "stdout",
     "output_type": "stream",
     "text": [
      "<class 'pandas.core.frame.DataFrame'>\n",
      "RangeIndex: 76315 entries, 0 to 76314\n",
      "Data columns (total 72 columns):\n",
      " #   Column                        Non-Null Count  Dtype  \n",
      "---  ------                        --------------  -----  \n",
      " 0   Unnamed: 0                    76315 non-null  int64  \n",
      " 1   Station_Code                  76315 non-null  object \n",
      " 2   Station_Name                  76315 non-null  object \n",
      " 3   Train_Number                  76315 non-null  int64  \n",
      " 4   Train_Type                    76315 non-null  object \n",
      " 5   Train_Company                 76315 non-null  object \n",
      " 6   Train_Destination_Planned     76315 non-null  object \n",
      " 7   Train_Destination_Actual      76315 non-null  object \n",
      " 8   Train_Departure_Planned       76315 non-null  object \n",
      " 9   Train_Departure_Actual        76315 non-null  object \n",
      " 10  Train_Delay                   76315 non-null  float64\n",
      " 11  MaxNumberOfStops              76315 non-null  int64  \n",
      " 12  weekday                       76315 non-null  int64  \n",
      " 13  day_of_week                   76315 non-null  object \n",
      " 14  Train_Departure_Planned_Time  76315 non-null  int64  \n",
      " 15  Time_Group                    76315 non-null  object \n",
      " 16  's-Hertogenbosch              76315 non-null  uint8  \n",
      " 17  Almelo                        76315 non-null  uint8  \n",
      " 18  Almere Centrum                76315 non-null  uint8  \n",
      " 19  Amersfoort                    76315 non-null  uint8  \n",
      " 20  Amersfoort Schothorst         76315 non-null  uint8  \n",
      " 21  Amsterdam Bijlmer ArenA       76315 non-null  uint8  \n",
      " 22  Amsterdam RAI                 76315 non-null  uint8  \n",
      " 23  Amsterdam Zuid                76315 non-null  uint8  \n",
      " 24  Apeldoorn                     76315 non-null  uint8  \n",
      " 25  Apeldoorn Osseveld            76315 non-null  uint8  \n",
      " 26  Arnhem                        76315 non-null  uint8  \n",
      " 27  Deventer                      76315 non-null  uint8  \n",
      " 28  Driebergen-Zeist              76315 non-null  uint8  \n",
      " 29  Duivendrecht                  76315 non-null  uint8  \n",
      " 30  Ede-Wageningen                76315 non-null  uint8  \n",
      " 31  Eindhoven                     76315 non-null  uint8  \n",
      " 32  Enschede                      76315 non-null  uint8  \n",
      " 33  Enschede Kennispark           76315 non-null  uint8  \n",
      " 34  Geldermalsen                  76315 non-null  uint8  \n",
      " 35  Heerlen                       76315 non-null  uint8  \n",
      " 36  Hengelo                       76315 non-null  uint8  \n",
      " 37  Hilversum                     76315 non-null  uint8  \n",
      " 38  Hilversum Sportpark           76315 non-null  uint8  \n",
      " 39  Hollandsche Rading            76315 non-null  uint8  \n",
      " 40  Lelystad Centrum              76315 non-null  uint8  \n",
      " 41  Naarden-Bussum                76315 non-null  uint8  \n",
      " 42  Nijmegen                      76315 non-null  uint8  \n",
      " 43  Oosterbeek                    76315 non-null  uint8  \n",
      " 44  Roermond                      76315 non-null  uint8  \n",
      " 45  Rotterdam Centraal            76315 non-null  uint8  \n",
      " 46  Schiphol Airport              76315 non-null  uint8  \n",
      " 47  Sittard                       76315 non-null  uint8  \n",
      " 48  Twello                        76315 non-null  uint8  \n",
      " 49  Utrecht Centraal              76315 non-null  uint8  \n",
      " 50  Utrecht Overvecht             76315 non-null  uint8  \n",
      " 51  Veenendaal-De Klomp           76315 non-null  uint8  \n",
      " 52  Weert                         76315 non-null  uint8  \n",
      " 53  Wierden                       76315 non-null  uint8  \n",
      " 54  Wolfheze                      76315 non-null  uint8  \n",
      " 55  Zaltbommel                    76315 non-null  uint8  \n",
      " 56  Friday                        76315 non-null  uint8  \n",
      " 57  Monday                        76315 non-null  uint8  \n",
      " 58  Saturday                      76315 non-null  uint8  \n",
      " 59  Sunday                        76315 non-null  uint8  \n",
      " 60  Thursday                      76315 non-null  uint8  \n",
      " 61  Tuesday                       76315 non-null  uint8  \n",
      " 62  Wednesday                     76315 non-null  uint8  \n",
      " 63  Afternoon_Rush_hour           76315 non-null  uint8  \n",
      " 64  Between_Rush_hours            76315 non-null  uint8  \n",
      " 65  Early_Morning                 76315 non-null  uint8  \n",
      " 66  Morning_Rush_Hour             76315 non-null  uint8  \n",
      " 67  Night                         76315 non-null  uint8  \n",
      " 68  Extra trein                   76315 non-null  uint8  \n",
      " 69  Intercity                     76315 non-null  uint8  \n",
      " 70  Sprinter                      76315 non-null  uint8  \n",
      " 71  DelayOrNot                    76315 non-null  int32  \n",
      "dtypes: float64(1), int32(1), int64(5), object(10), uint8(55)\n",
      "memory usage: 13.6+ MB\n"
     ]
    }
   ],
   "source": [
    "#here i look at the information from the new dataset\n",
    "FinalDF.info()"
   ]
  },
  {
   "cell_type": "code",
   "execution_count": 28,
   "id": "de90b7cf",
   "metadata": {},
   "outputs": [
    {
     "data": {
      "text/plain": [
       "GridSearchCV(estimator=DecisionTreeClassifier(),\n",
       "             param_grid={'criterion': ('gini', 'entropy'),\n",
       "                         'max_depth': [2, 3, 4, 5, 6, 7, 8, 9, 10, 11, 12, 13,\n",
       "                                       14, 15, 16, 17, 18, 19, 20, 21, 22, 23,\n",
       "                                       24, 25, 26, 27, 28, 29, 30]})"
      ]
     },
     "execution_count": 28,
     "metadata": {},
     "output_type": "execute_result"
    }
   ],
   "source": [
    "#here i do the gridsearch to get the best values for the parameters\n",
    "parameters = {'criterion':('gini', 'entropy'), 'max_depth': [2,3,4,5,6,7,8,9,10,11,12,13,14,15,16,17,18,19,20,21,22,23,24,25,26,27,28,29,30]}\n",
    "clf_GS2 = GridSearchCV(DecisionTreeClassifier(), parameters)\n",
    "clf_GS2.fit(x_nm2, y_nm2)"
   ]
  },
  {
   "cell_type": "code",
   "execution_count": 29,
   "id": "160f5352",
   "metadata": {},
   "outputs": [
    {
     "name": "stdout",
     "output_type": "stream",
     "text": [
      "Best Criterion: gini\n",
      "Best max_depth: 2\n"
     ]
    }
   ],
   "source": [
    "#here i print the outcomes from the gridsearch\n",
    "print('Best Criterion:', clf_GS2.best_estimator_.get_params()['criterion'])\n",
    "print('Best max_depth:', clf_GS2.best_estimator_.get_params()['max_depth'])"
   ]
  },
  {
   "cell_type": "code",
   "execution_count": 30,
   "id": "a307a2db",
   "metadata": {
    "scrolled": false
   },
   "outputs": [
    {
     "data": {
      "text/plain": [
       "[Text(0.4, 0.8333333333333334, 'X[0] <= 1.5\\ngini = 0.5\\nsamples = 46488\\nvalue = [23244, 23244]'),\n",
       " Text(0.2, 0.5, 'gini = 0.0\\nsamples = 7042\\nvalue = [0, 7042]'),\n",
       " Text(0.6, 0.5, 'X[0] <= 4.5\\ngini = 0.484\\nsamples = 39446\\nvalue = [23244, 16202]'),\n",
       " Text(0.4, 0.16666666666666666, 'gini = 0.429\\nsamples = 33651\\nvalue = [23169, 10482]'),\n",
       " Text(0.8, 0.16666666666666666, 'gini = 0.026\\nsamples = 5795\\nvalue = [75, 5720]')]"
      ]
     },
     "execution_count": 30,
     "metadata": {},
     "output_type": "execute_result"
    },
    {
     "data": {
      "image/png": "[encoded data removed]",
      "text/plain": [
       "<Figure size 1440x720 with 1 Axes>"
      ]
     },
     "metadata": {},
     "output_type": "display_data"
    }
   ],
   "source": [
    "#here i make the desicion tree with the best parameters\n",
    "tree_clf2 = DecisionTreeClassifier(criterion='gini', max_depth=2, random_state = 42)\n",
    "tree_clfFit2 = tree_clf2.fit(x_nm2,y_nm2)\n",
    "plt.figure(figsize=(20,10))\n",
    "tree.plot_tree(tree_clfFit2, fontsize=10)"
   ]
  },
  {
   "cell_type": "markdown",
   "id": "47947660",
   "metadata": {},
   "source": [
    "### Evaluation"
   ]
  },
  {
   "cell_type": "code",
   "execution_count": 31,
   "id": "7ceaa2aa",
   "metadata": {},
   "outputs": [
    {
     "data": {
      "text/plain": [
       "0.7738223273822328"
      ]
     },
     "execution_count": 31,
     "metadata": {},
     "output_type": "execute_result"
    }
   ],
   "source": [
    "#here i give the accuracy score for this model\n",
    "y_pred2 = tree_clf2.predict(X_test2)\n",
    "accuracy_score(y_test2, y_pred2)"
   ]
  },
  {
   "cell_type": "markdown",
   "id": "1bcedcce",
   "metadata": {},
   "source": [
    "Now the accuracy is way better then the other methods with an accuracy of 77%. hopefully this isnt just because of luck and the random state i choose."
   ]
  },
  {
   "cell_type": "code",
   "execution_count": 32,
   "id": "781447ef",
   "metadata": {
    "scrolled": true
   },
   "outputs": [
    {
     "name": "stdout",
     "output_type": "stream",
     "text": [
      "              precision    recall  f1-score   support\n",
      "\n",
      "     class 1       0.69      1.00      0.81      4633\n",
      "     class 2       0.99      0.55      0.71      4665\n",
      "\n",
      "    accuracy                           0.77      9298\n",
      "   macro avg       0.84      0.77      0.76      9298\n",
      "weighted avg       0.84      0.77      0.76      9298\n",
      "\n"
     ]
    }
   ],
   "source": [
    "#here i import the classification report\n",
    "from sklearn.metrics import classification_report\n",
    "#here i print the classification report\n",
    "target_names = ['class 1', 'class 2']\n",
    "print(classification_report(y_test2, y_pred2, target_names=target_names))"
   ]
  },
  {
   "cell_type": "markdown",
   "id": "1f3787c3",
   "metadata": {},
   "source": [
    "if you look at the classification report you can see that class 1 it has a 69% precision which means that 69% of the cases it is actually that class (31% are false positives) and the 100% recall means that there are no false negatives, so (nearly) everythign that is in this class is predicted in this class. for the second class it has a 99% precision which is logical as the only other class has a 100% recall. the recall of the seconds class is 55% which is the cause for the 69% precision of the first class. becuase the first class is the no delay and the second class is the delay it basically means that the delays get predicted with 99% precision and 31% of the no delay gets predicted as delay."
   ]
  },
  {
   "cell_type": "code",
   "execution_count": 33,
   "id": "d86b0a7d",
   "metadata": {
    "scrolled": true
   },
   "outputs": [
    {
     "name": "stdout",
     "output_type": "stream",
     "text": [
      "[0.73704022 0.87664014 0.79242848 0.74389588 0.71453157]\n"
     ]
    },
    {
     "data": {
      "text/plain": [
       "0.7729072580651691"
      ]
     },
     "execution_count": 33,
     "metadata": {},
     "output_type": "execute_result"
    }
   ],
   "source": [
    "#here i import the cross validation score\n",
    "from sklearn.model_selection import cross_val_score\n",
    "#here i firstly print the seperate scores and also the mean overall score\n",
    "print(cross_val_score(tree_clf2, x_nm2, y_nm2, cv=5))\n",
    "cross_val_score(tree_clf2, x_nm2, y_nm2, cv=5).mean()"
   ]
  },
  {
   "cell_type": "markdown",
   "id": "edab7504",
   "metadata": {},
   "source": [
    "the overal score is 77% so that means that the earlier 77% is not just pure luck. 77% is good enough to be used in real life, but the question ofcourse is if it is really usefull, becuase most of delays arent that long to begin with.\n",
    "\n",
    "## Random forest part 2"
   ]
  },
  {
   "cell_type": "code",
   "execution_count": 34,
   "id": "a999db60",
   "metadata": {},
   "outputs": [
    {
     "data": {
      "text/html": [
       "<div>\n",
       "<style scoped>\n",
       "    .dataframe tbody tr th:only-of-type {\n",
       "        vertical-align: middle;\n",
       "    }\n",
       "\n",
       "    .dataframe tbody tr th {\n",
       "        vertical-align: top;\n",
       "    }\n",
       "\n",
       "    .dataframe thead th {\n",
       "        text-align: right;\n",
       "    }\n",
       "</style>\n",
       "<table border=\"1\" class=\"dataframe\">\n",
       "  <thead>\n",
       "    <tr style=\"text-align: right;\">\n",
       "      <th></th>\n",
       "      <th>Best criterion</th>\n",
       "      <th>Best max_depth</th>\n",
       "      <th>Best n_estimators</th>\n",
       "    </tr>\n",
       "  </thead>\n",
       "  <tbody>\n",
       "    <tr>\n",
       "      <th>0</th>\n",
       "      <td>entropy</td>\n",
       "      <td>2</td>\n",
       "      <td>130</td>\n",
       "    </tr>\n",
       "  </tbody>\n",
       "</table>\n",
       "</div>"
      ],
      "text/plain": [
       "  Best criterion  Best max_depth  Best n_estimators\n",
       "0        entropy               2                130"
      ]
     },
     "execution_count": 34,
     "metadata": {},
     "output_type": "execute_result"
    }
   ],
   "source": [
    "#here i show the result form the gridsearch for the random forest model that i run in the kernel via a python file\n",
    "pd.read_csv(\"GridSearchRandomForest6.csv\").drop('Unnamed: 0',axis=1)"
   ]
  },
  {
   "cell_type": "code",
   "execution_count": 35,
   "id": "ea497c18",
   "metadata": {},
   "outputs": [
    {
     "data": {
      "text/plain": [
       "RandomForestClassifier(criterion='entropy', max_depth=2, n_estimators=130,\n",
       "                       random_state=42)"
      ]
     },
     "execution_count": 35,
     "metadata": {},
     "output_type": "execute_result"
    }
   ],
   "source": [
    "#here i import the random forest classifier\n",
    "from sklearn.ensemble import RandomForestClassifier\n",
    "#here i used the outcomes from the gridsearch to get the best possible outcome from the random forest model\n",
    "forest_clf2 = RandomForestClassifier(criterion='entropy', max_depth=2, random_state = 42, n_estimators = 130)\n",
    "forest_clf2.fit(x_nm2,y_nm2)\n",
    "forest_clf2"
   ]
  },
  {
   "cell_type": "markdown",
   "id": "35e1c545",
   "metadata": {},
   "source": [
    "### Evaluation"
   ]
  },
  {
   "cell_type": "code",
   "execution_count": 36,
   "id": "4acd2cbc",
   "metadata": {},
   "outputs": [
    {
     "data": {
      "text/plain": [
       "0.7738223273822328"
      ]
     },
     "execution_count": 36,
     "metadata": {},
     "output_type": "execute_result"
    }
   ],
   "source": [
    "#here i give the accuracy score for this model\n",
    "y_pred3 = forest_clf2.predict(X_test2)\n",
    "accuracy_score(y_test2, y_pred3)"
   ]
  },
  {
   "cell_type": "markdown",
   "id": "f0f52d49",
   "metadata": {},
   "source": [
    "the accuracy score of the random forest is also 77% lets check the classificantion report to see which one is actually better."
   ]
  },
  {
   "cell_type": "code",
   "execution_count": 37,
   "id": "6b714e49",
   "metadata": {
    "scrolled": true
   },
   "outputs": [
    {
     "name": "stdout",
     "output_type": "stream",
     "text": [
      "              precision    recall  f1-score   support\n",
      "\n",
      "     class 1       0.69      1.00      0.81      4633\n",
      "     class 2       0.99      0.55      0.71      4665\n",
      "\n",
      "    accuracy                           0.77      9298\n",
      "   macro avg       0.84      0.77      0.76      9298\n",
      "weighted avg       0.84      0.77      0.76      9298\n",
      "\n"
     ]
    }
   ],
   "source": [
    "#here i print the classification report\n",
    "target_names = ['class 1', 'class 2']\n",
    "print(classification_report(y_test2, y_pred3, target_names=target_names))"
   ]
  },
  {
   "cell_type": "markdown",
   "id": "e28edbc0",
   "metadata": {},
   "source": [
    "this classification report is exactly the same as the decision tree one."
   ]
  },
  {
   "cell_type": "code",
   "execution_count": 38,
   "id": "9f5b8450",
   "metadata": {},
   "outputs": [
    {
     "name": "stdout",
     "output_type": "stream",
     "text": [
      "[0.68627662 0.86706819 0.79242848 0.74389588 0.67172206]\n"
     ]
    },
    {
     "data": {
      "text/plain": [
       "0.7522782451697413"
      ]
     },
     "execution_count": 38,
     "metadata": {},
     "output_type": "execute_result"
    }
   ],
   "source": [
    "#here i print the seperate cross validation scores and also the mean overall score\n",
    "print(cross_val_score(forest_clf2, x_nm2, y_nm2, cv=5))\n",
    "cross_val_score(forest_clf2, x_nm2, y_nm2, cv=5).mean()"
   ]
  },
  {
   "cell_type": "markdown",
   "id": "90d2a4c2",
   "metadata": {},
   "source": [
    "The cross validation is 2% worse so the decision tree is better.\n",
    "\n",
    "## Decision trees part 3"
   ]
  },
  {
   "cell_type": "code",
   "execution_count": 39,
   "id": "5f73dcd1",
   "metadata": {},
   "outputs": [
    {
     "name": "stdout",
     "output_type": "stream",
     "text": [
      "Counter({0: 53071, 1: 23244})\n",
      "Counter({1: 23244, 0: 1949})\n"
     ]
    }
   ],
   "source": [
    "#here i do the 3rd version fo near miss\n",
    "nm3 = NearMiss(version=3)\n",
    "x_nm3, y_nm3 = nm3.fit_resample(X, y)\n",
    "print(Counter(y))\n",
    "print(Counter(y_nm3))"
   ]
  },
  {
   "cell_type": "markdown",
   "id": "9e236c57",
   "metadata": {},
   "source": [
    "based on the amount of the groups i can already say its going to predict every as delay since it made the no delay less then 10% the size of the delay which will give an accuracy in the 90%."
   ]
  },
  {
   "cell_type": "code",
   "execution_count": 40,
   "id": "0d2359f6",
   "metadata": {},
   "outputs": [],
   "source": [
    "#here i split the data into test and train data.\n",
    "X_train3, X_test3, y_train3, y_test3 = train_test_split(x_nm3, y_nm3, test_size=0.2, random_state = 42)"
   ]
  },
  {
   "cell_type": "code",
   "execution_count": 41,
   "id": "e398c47d",
   "metadata": {},
   "outputs": [
    {
     "name": "stdout",
     "output_type": "stream",
     "text": [
      "<class 'pandas.core.frame.DataFrame'>\n",
      "RangeIndex: 76315 entries, 0 to 76314\n",
      "Data columns (total 72 columns):\n",
      " #   Column                        Non-Null Count  Dtype  \n",
      "---  ------                        --------------  -----  \n",
      " 0   Unnamed: 0                    76315 non-null  int64  \n",
      " 1   Station_Code                  76315 non-null  object \n",
      " 2   Station_Name                  76315 non-null  object \n",
      " 3   Train_Number                  76315 non-null  int64  \n",
      " 4   Train_Type                    76315 non-null  object \n",
      " 5   Train_Company                 76315 non-null  object \n",
      " 6   Train_Destination_Planned     76315 non-null  object \n",
      " 7   Train_Destination_Actual      76315 non-null  object \n",
      " 8   Train_Departure_Planned       76315 non-null  object \n",
      " 9   Train_Departure_Actual        76315 non-null  object \n",
      " 10  Train_Delay                   76315 non-null  float64\n",
      " 11  MaxNumberOfStops              76315 non-null  int64  \n",
      " 12  weekday                       76315 non-null  int64  \n",
      " 13  day_of_week                   76315 non-null  object \n",
      " 14  Train_Departure_Planned_Time  76315 non-null  int64  \n",
      " 15  Time_Group                    76315 non-null  object \n",
      " 16  's-Hertogenbosch              76315 non-null  uint8  \n",
      " 17  Almelo                        76315 non-null  uint8  \n",
      " 18  Almere Centrum                76315 non-null  uint8  \n",
      " 19  Amersfoort                    76315 non-null  uint8  \n",
      " 20  Amersfoort Schothorst         76315 non-null  uint8  \n",
      " 21  Amsterdam Bijlmer ArenA       76315 non-null  uint8  \n",
      " 22  Amsterdam RAI                 76315 non-null  uint8  \n",
      " 23  Amsterdam Zuid                76315 non-null  uint8  \n",
      " 24  Apeldoorn                     76315 non-null  uint8  \n",
      " 25  Apeldoorn Osseveld            76315 non-null  uint8  \n",
      " 26  Arnhem                        76315 non-null  uint8  \n",
      " 27  Deventer                      76315 non-null  uint8  \n",
      " 28  Driebergen-Zeist              76315 non-null  uint8  \n",
      " 29  Duivendrecht                  76315 non-null  uint8  \n",
      " 30  Ede-Wageningen                76315 non-null  uint8  \n",
      " 31  Eindhoven                     76315 non-null  uint8  \n",
      " 32  Enschede                      76315 non-null  uint8  \n",
      " 33  Enschede Kennispark           76315 non-null  uint8  \n",
      " 34  Geldermalsen                  76315 non-null  uint8  \n",
      " 35  Heerlen                       76315 non-null  uint8  \n",
      " 36  Hengelo                       76315 non-null  uint8  \n",
      " 37  Hilversum                     76315 non-null  uint8  \n",
      " 38  Hilversum Sportpark           76315 non-null  uint8  \n",
      " 39  Hollandsche Rading            76315 non-null  uint8  \n",
      " 40  Lelystad Centrum              76315 non-null  uint8  \n",
      " 41  Naarden-Bussum                76315 non-null  uint8  \n",
      " 42  Nijmegen                      76315 non-null  uint8  \n",
      " 43  Oosterbeek                    76315 non-null  uint8  \n",
      " 44  Roermond                      76315 non-null  uint8  \n",
      " 45  Rotterdam Centraal            76315 non-null  uint8  \n",
      " 46  Schiphol Airport              76315 non-null  uint8  \n",
      " 47  Sittard                       76315 non-null  uint8  \n",
      " 48  Twello                        76315 non-null  uint8  \n",
      " 49  Utrecht Centraal              76315 non-null  uint8  \n",
      " 50  Utrecht Overvecht             76315 non-null  uint8  \n",
      " 51  Veenendaal-De Klomp           76315 non-null  uint8  \n",
      " 52  Weert                         76315 non-null  uint8  \n",
      " 53  Wierden                       76315 non-null  uint8  \n",
      " 54  Wolfheze                      76315 non-null  uint8  \n",
      " 55  Zaltbommel                    76315 non-null  uint8  \n",
      " 56  Friday                        76315 non-null  uint8  \n",
      " 57  Monday                        76315 non-null  uint8  \n",
      " 58  Saturday                      76315 non-null  uint8  \n",
      " 59  Sunday                        76315 non-null  uint8  \n",
      " 60  Thursday                      76315 non-null  uint8  \n",
      " 61  Tuesday                       76315 non-null  uint8  \n",
      " 62  Wednesday                     76315 non-null  uint8  \n",
      " 63  Afternoon_Rush_hour           76315 non-null  uint8  \n",
      " 64  Between_Rush_hours            76315 non-null  uint8  \n",
      " 65  Early_Morning                 76315 non-null  uint8  \n",
      " 66  Morning_Rush_Hour             76315 non-null  uint8  \n",
      " 67  Night                         76315 non-null  uint8  \n",
      " 68  Extra trein                   76315 non-null  uint8  \n",
      " 69  Intercity                     76315 non-null  uint8  \n",
      " 70  Sprinter                      76315 non-null  uint8  \n",
      " 71  DelayOrNot                    76315 non-null  int32  \n",
      "dtypes: float64(1), int32(1), int64(5), object(10), uint8(55)\n",
      "memory usage: 13.6+ MB\n"
     ]
    }
   ],
   "source": [
    "#here i look at the information from the new dataset\n",
    "FinalDF.info()"
   ]
  },
  {
   "cell_type": "code",
   "execution_count": 42,
   "id": "00e10c5b",
   "metadata": {},
   "outputs": [
    {
     "data": {
      "text/plain": [
       "GridSearchCV(estimator=DecisionTreeClassifier(),\n",
       "             param_grid={'criterion': ('gini', 'entropy'),\n",
       "                         'max_depth': [2, 3, 4, 5, 6, 7, 8, 9, 10, 11, 12, 13,\n",
       "                                       14, 15, 16, 17, 18, 19, 20, 21, 22, 23,\n",
       "                                       24, 25, 26, 27, 28, 29, 30]})"
      ]
     },
     "execution_count": 42,
     "metadata": {},
     "output_type": "execute_result"
    }
   ],
   "source": [
    "#here i do the gridsearch to get the best values for the parameters\n",
    "parameters = {'criterion':('gini', 'entropy'), 'max_depth': [2,3,4,5,6,7,8,9,10,11,12,13,14,15,16,17,18,19,20,21,22,23,24,25,26,27,28,29,30]}\n",
    "clf_GS3 = GridSearchCV(DecisionTreeClassifier(), parameters)\n",
    "clf_GS3.fit(x_nm3, y_nm3)"
   ]
  },
  {
   "cell_type": "code",
   "execution_count": 43,
   "id": "2ee417c4",
   "metadata": {},
   "outputs": [
    {
     "name": "stdout",
     "output_type": "stream",
     "text": [
      "Best Criterion: gini\n",
      "Best max_depth: 2\n"
     ]
    }
   ],
   "source": [
    "#here i print the outcomes from the gridsearch\n",
    "print('Best Criterion:', clf_GS3.best_estimator_.get_params()['criterion'])\n",
    "print('Best max_depth:', clf_GS3.best_estimator_.get_params()['max_depth'])"
   ]
  },
  {
   "cell_type": "code",
   "execution_count": 44,
   "id": "d4798946",
   "metadata": {
    "scrolled": false
   },
   "outputs": [
    {
     "data": {
      "text/plain": [
       "[Text(0.5, 0.8333333333333334, 'X[50] <= 0.5\\ngini = 0.143\\nsamples = 25193\\nvalue = [1949, 23244]'),\n",
       " Text(0.25, 0.5, 'X[8] <= 0.5\\ngini = 0.128\\nsamples = 24131\\nvalue = [1653, 22478]'),\n",
       " Text(0.125, 0.16666666666666666, 'gini = 0.163\\nsamples = 17568\\nvalue = [1569, 15999]'),\n",
       " Text(0.375, 0.16666666666666666, 'gini = 0.025\\nsamples = 6563\\nvalue = [84, 6479]'),\n",
       " Text(0.75, 0.5, 'X[54] <= 0.5\\ngini = 0.402\\nsamples = 1062\\nvalue = [296, 766]'),\n",
       " Text(0.625, 0.16666666666666666, 'gini = 0.221\\nsamples = 190\\nvalue = [24, 166]'),\n",
       " Text(0.875, 0.16666666666666666, 'gini = 0.429\\nsamples = 872\\nvalue = [272, 600]')]"
      ]
     },
     "execution_count": 44,
     "metadata": {},
     "output_type": "execute_result"
    },
    {
     "data": {
      "image/png": "[encoded data removed]",
      "text/plain": [
       "<Figure size 1440x720 with 1 Axes>"
      ]
     },
     "metadata": {},
     "output_type": "display_data"
    }
   ],
   "source": [
    "#here i make the desicion tree with the best parameters\n",
    "tree_clf3 = DecisionTreeClassifier(criterion='gini', max_depth=2, random_state = 42)\n",
    "tree_clfFit3 = tree_clf3.fit(x_nm3,y_nm3)\n",
    "plt.figure(figsize=(20,10))\n",
    "tree.plot_tree(tree_clfFit3, fontsize=10)"
   ]
  },
  {
   "cell_type": "markdown",
   "id": "aba2d21b",
   "metadata": {},
   "source": [
    "### Evaluation"
   ]
  },
  {
   "cell_type": "code",
   "execution_count": 45,
   "id": "eb2412f8",
   "metadata": {},
   "outputs": [
    {
     "data": {
      "text/plain": [
       "0.9267711847588808"
      ]
     },
     "execution_count": 45,
     "metadata": {},
     "output_type": "execute_result"
    }
   ],
   "source": [
    "#here i give the accuracy score for this model\n",
    "y_pred3 = tree_clf3.predict(X_test3)\n",
    "accuracy_score(y_test3, y_pred3)"
   ]
  },
  {
   "cell_type": "markdown",
   "id": "09e23a92",
   "metadata": {},
   "source": [
    "Just like my prediction the percentage is in the 90%. lets see with the classification report if it indeed predicts everythign to have a delay."
   ]
  },
  {
   "cell_type": "code",
   "execution_count": 46,
   "id": "a15f400d",
   "metadata": {
    "scrolled": false
   },
   "outputs": [
    {
     "name": "stdout",
     "output_type": "stream",
     "text": [
      "              precision    recall  f1-score   support\n",
      "\n",
      "     class 1       0.00      0.00      0.00       369\n",
      "     class 2       0.93      1.00      0.96      4670\n",
      "\n",
      "    accuracy                           0.93      5039\n",
      "   macro avg       0.46      0.50      0.48      5039\n",
      "weighted avg       0.86      0.93      0.89      5039\n",
      "\n"
     ]
    }
   ],
   "source": [
    "#here i import warnings to ignore the warnings\n",
    "import warnings\n",
    "warnings.filterwarnings(\"ignore\")\n",
    "#here i print the classification report\n",
    "target_names = ['class 1', 'class 2']\n",
    "print(classification_report(y_test3, y_pred3, target_names=target_names))"
   ]
  },
  {
   "cell_type": "markdown",
   "id": "674bd6fe",
   "metadata": {},
   "source": [
    "Just like i thought it predicts everything as delay."
   ]
  },
  {
   "cell_type": "code",
   "execution_count": 47,
   "id": "97210b20",
   "metadata": {
    "scrolled": true
   },
   "outputs": [
    {
     "name": "stdout",
     "output_type": "stream",
     "text": [
      "[0.92260369 0.92260369 0.92260369 0.92258833 0.92278682]\n"
     ]
    },
    {
     "data": {
      "text/plain": [
       "0.9226372444988635"
      ]
     },
     "execution_count": 47,
     "metadata": {},
     "output_type": "execute_result"
    }
   ],
   "source": [
    "#here i import the cross validation score\n",
    "from sklearn.model_selection import cross_val_score\n",
    "#here i firstly print the seperate scores and also the mean overall score\n",
    "print(cross_val_score(tree_clf3, x_nm3, y_nm3, cv=5))\n",
    "cross_val_score(tree_clf3, x_nm3, y_nm3, cv=5).mean()"
   ]
  },
  {
   "cell_type": "markdown",
   "id": "840628b0",
   "metadata": {},
   "source": [
    "here i can also see that the cross validation is the aroudn the same percentage because it says everything is a delay."
   ]
  },
  {
   "cell_type": "markdown",
   "id": "0b540d55",
   "metadata": {},
   "source": [
    "## Conclusion\n",
    "we got the best result with decision trees part 2. there we used miss near version 2. it got a 77% accuracy score and the delays it predicts are actual delays. it does however put some delays as no delays."
   ]
  }
 ],
 "metadata": {
  "kernelspec": {
   "display_name": "Python 3 (ipykernel)",
   "language": "python",
   "name": "python3"
  },
  "language_info": {
   "codemirror_mode": {
    "name": "ipython",
    "version": 3
   },
   "file_extension": ".py",
   "mimetype": "text/x-python",
   "name": "python",
   "nbconvert_exporter": "python",
   "pygments_lexer": "ipython3",
   "version": "3.9.7"
  },
  "toc": {
   "base_numbering": 1,
   "nav_menu": {},
   "number_sections": true,
   "sideBar": true,
   "skip_h1_title": false,
   "title_cell": "Table of Contents",
   "title_sidebar": "Contents",
   "toc_cell": false,
   "toc_position": {
    "height": "calc(100% - 180px)",
    "left": "10px",
    "top": "150px",
    "width": "384px"
   },
   "toc_section_display": true,
   "toc_window_display": true
  }
 },
 "nbformat": 4,
 "nbformat_minor": 5
}
